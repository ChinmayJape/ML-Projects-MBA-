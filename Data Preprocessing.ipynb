{
 "cells": [
  {
   "cell_type": "markdown",
   "metadata": {},
   "source": [
    "### Importing the necessary libraries"
   ]
  },
  {
   "cell_type": "code",
   "execution_count": 1,
   "metadata": {},
   "outputs": [],
   "source": [
    "%matplotlib inline\n",
    "import warnings\n",
    "warnings.filterwarnings(\"ignore\")\n",
    "\n",
    "import pandas as pd\n",
    "import numpy as np\n",
    "import nltk\n",
    "import string\n",
    "import matplotlib.pyplot as plt\n",
    "import seaborn as sns\n",
    "from nltk.stem.porter import PorterStemmer\n",
    "\n",
    "import re\n",
    "import string\n",
    "from nltk.corpus import stopwords\n",
    "from nltk.stem import PorterStemmer\n",
    "from nltk.stem.wordnet import WordNetLemmatizer\n",
    "\n",
    "import pickle\n",
    "\n",
    "from tqdm import tqdm\n",
    "import os"
   ]
  },
  {
   "cell_type": "markdown",
   "metadata": {},
   "source": [
    "### Importing the dataset"
   ]
  },
  {
   "cell_type": "code",
   "execution_count": 2,
   "metadata": {},
   "outputs": [],
   "source": [
    "df = pd.read_excel('Text data from Buzz_Jun20.xlsx')"
   ]
  },
  {
   "cell_type": "code",
   "execution_count": 3,
   "metadata": {},
   "outputs": [
    {
     "data": {
      "text/html": [
       "<div>\n",
       "<style scoped>\n",
       "    .dataframe tbody tr th:only-of-type {\n",
       "        vertical-align: middle;\n",
       "    }\n",
       "\n",
       "    .dataframe tbody tr th {\n",
       "        vertical-align: top;\n",
       "    }\n",
       "\n",
       "    .dataframe thead th {\n",
       "        text-align: right;\n",
       "    }\n",
       "</style>\n",
       "<table border=\"1\" class=\"dataframe\">\n",
       "  <thead>\n",
       "    <tr style=\"text-align: right;\">\n",
       "      <th></th>\n",
       "      <th>Rev_id</th>\n",
       "      <th>Retailer</th>\n",
       "      <th>Division</th>\n",
       "      <th>Category</th>\n",
       "      <th>Department</th>\n",
       "      <th>Product_URL</th>\n",
       "      <th>Brand</th>\n",
       "      <th>Product_Name</th>\n",
       "      <th>Final_Price_after_Discount</th>\n",
       "      <th>Review_Link</th>\n",
       "      <th>Review_Header</th>\n",
       "      <th>Review_Creation_Date</th>\n",
       "      <th>Review_Rating_Score</th>\n",
       "      <th>Review_Text</th>\n",
       "    </tr>\n",
       "  </thead>\n",
       "  <tbody>\n",
       "    <tr>\n",
       "      <th>0</th>\n",
       "      <td>1</td>\n",
       "      <td>Homedepot</td>\n",
       "      <td>Lighting</td>\n",
       "      <td>Ceiling Fans</td>\n",
       "      <td>Ceiling Fans With Lights</td>\n",
       "      <td>https://www.homedepot.com/p/Hampton-Bay-Rockpo...</td>\n",
       "      <td>Hampton Bay</td>\n",
       "      <td>Rockport 52 in. LED Brushed Nickel Ceiling Fan...</td>\n",
       "      <td>69.97</td>\n",
       "      <td>https://www.homedepot.com/ReviewServices/revie...</td>\n",
       "      <td>Excellent fan for an excellent price ...</td>\n",
       "      <td>2018-04-24</td>\n",
       "      <td>5</td>\n",
       "      <td>Excellent fan for an excellent price</td>\n",
       "    </tr>\n",
       "    <tr>\n",
       "      <th>1</th>\n",
       "      <td>2</td>\n",
       "      <td>Homedepot</td>\n",
       "      <td>Lighting</td>\n",
       "      <td>Ceiling Fans</td>\n",
       "      <td>Ceiling Fans With Lights</td>\n",
       "      <td>https://www.homedepot.com/p/Hampton-Bay-Rockpo...</td>\n",
       "      <td>Hampton Bay</td>\n",
       "      <td>Rockport 52 in. LED Brushed Nickel Ceiling Fan...</td>\n",
       "      <td>69.97</td>\n",
       "      <td>https://www.homedepot.com/ReviewServices/revie...</td>\n",
       "      <td>I put these fans in my spec houses and everyon...</td>\n",
       "      <td>2019-10-15</td>\n",
       "      <td>5</td>\n",
       "      <td>I put these fans in my spec houses and everyon...</td>\n",
       "    </tr>\n",
       "    <tr>\n",
       "      <th>2</th>\n",
       "      <td>3</td>\n",
       "      <td>Homedepot</td>\n",
       "      <td>Lighting</td>\n",
       "      <td>Ceiling Fans</td>\n",
       "      <td>Ceiling Fans With Lights</td>\n",
       "      <td>https://www.homedepot.com/p/Hampton-Bay-Rockpo...</td>\n",
       "      <td>Hampton Bay</td>\n",
       "      <td>Rockport 52 in. LED Brushed Nickel Ceiling Fan...</td>\n",
       "      <td>69.97</td>\n",
       "      <td>https://www.homedepot.com/ReviewServices/revie...</td>\n",
       "      <td>5 Star Review</td>\n",
       "      <td>2019-07-03</td>\n",
       "      <td>5</td>\n",
       "      <td>Rating provided by a verified purchaser</td>\n",
       "    </tr>\n",
       "  </tbody>\n",
       "</table>\n",
       "</div>"
      ],
      "text/plain": [
       "   Rev_id   Retailer  Division      Category                Department  \\\n",
       "0       1  Homedepot  Lighting  Ceiling Fans  Ceiling Fans With Lights   \n",
       "1       2  Homedepot  Lighting  Ceiling Fans  Ceiling Fans With Lights   \n",
       "2       3  Homedepot  Lighting  Ceiling Fans  Ceiling Fans With Lights   \n",
       "\n",
       "                                         Product_URL        Brand  \\\n",
       "0  https://www.homedepot.com/p/Hampton-Bay-Rockpo...  Hampton Bay   \n",
       "1  https://www.homedepot.com/p/Hampton-Bay-Rockpo...  Hampton Bay   \n",
       "2  https://www.homedepot.com/p/Hampton-Bay-Rockpo...  Hampton Bay   \n",
       "\n",
       "                                        Product_Name  \\\n",
       "0  Rockport 52 in. LED Brushed Nickel Ceiling Fan...   \n",
       "1  Rockport 52 in. LED Brushed Nickel Ceiling Fan...   \n",
       "2  Rockport 52 in. LED Brushed Nickel Ceiling Fan...   \n",
       "\n",
       "   Final_Price_after_Discount  \\\n",
       "0                       69.97   \n",
       "1                       69.97   \n",
       "2                       69.97   \n",
       "\n",
       "                                         Review_Link  \\\n",
       "0  https://www.homedepot.com/ReviewServices/revie...   \n",
       "1  https://www.homedepot.com/ReviewServices/revie...   \n",
       "2  https://www.homedepot.com/ReviewServices/revie...   \n",
       "\n",
       "                                       Review_Header Review_Creation_Date  \\\n",
       "0           Excellent fan for an excellent price ...           2018-04-24   \n",
       "1  I put these fans in my spec houses and everyon...           2019-10-15   \n",
       "2                                      5 Star Review           2019-07-03   \n",
       "\n",
       "   Review_Rating_Score                                        Review_Text  \n",
       "0                    5               Excellent fan for an excellent price  \n",
       "1                    5  I put these fans in my spec houses and everyon...  \n",
       "2                    5            Rating provided by a verified purchaser  "
      ]
     },
     "execution_count": 3,
     "metadata": {},
     "output_type": "execute_result"
    }
   ],
   "source": [
    "# Looking at the first 3 rows\n",
    "df.head(3)"
   ]
  },
  {
   "cell_type": "code",
   "execution_count": 4,
   "metadata": {},
   "outputs": [
    {
     "name": "stdout",
     "output_type": "stream",
     "text": [
      "<class 'pandas.core.frame.DataFrame'>\n",
      "RangeIndex: 1188 entries, 0 to 1187\n",
      "Data columns (total 14 columns):\n",
      " #   Column                      Non-Null Count  Dtype         \n",
      "---  ------                      --------------  -----         \n",
      " 0   Rev_id                      1188 non-null   int64         \n",
      " 1   Retailer                    1188 non-null   object        \n",
      " 2   Division                    1188 non-null   object        \n",
      " 3   Category                    1188 non-null   object        \n",
      " 4   Department                  1188 non-null   object        \n",
      " 5   Product_URL                 1188 non-null   object        \n",
      " 6   Brand                       1068 non-null   object        \n",
      " 7   Product_Name                1188 non-null   object        \n",
      " 8   Final_Price_after_Discount  1188 non-null   float64       \n",
      " 9   Review_Link                 1188 non-null   object        \n",
      " 10  Review_Header               1162 non-null   object        \n",
      " 11  Review_Creation_Date        1188 non-null   datetime64[ns]\n",
      " 12  Review_Rating_Score         1188 non-null   int64         \n",
      " 13  Review_Text                 1188 non-null   object        \n",
      "dtypes: datetime64[ns](1), float64(1), int64(2), object(10)\n",
      "memory usage: 130.1+ KB\n"
     ]
    }
   ],
   "source": [
    "df.info()"
   ]
  },
  {
   "cell_type": "code",
   "execution_count": 4,
   "metadata": {},
   "outputs": [
    {
     "name": "stdout",
     "output_type": "stream",
     "text": [
      "Number of data points in train data (1188, 14)\n",
      "--------------------------------------------------\n",
      "The attributes of data : ['Rev_id' 'Retailer' 'Division' 'Category' 'Department' 'Product_URL'\n",
      " 'Brand' 'Product_Name' 'Final_Price_after_Discount' 'Review_Link'\n",
      " 'Review_Header' 'Review_Creation_Date' 'Review_Rating_Score'\n",
      " 'Review_Text']\n"
     ]
    }
   ],
   "source": [
    "# Printing out the shape of the dataset and the name of the columns\n",
    "print(\"Number of data points in data\", df.shape)\n",
    "print('-'*50)\n",
    "print(\"The attributes of data :\", df.columns.values)"
   ]
  },
  {
   "cell_type": "markdown",
   "metadata": {},
   "source": [
    "# Data Analysis"
   ]
  },
  {
   "cell_type": "code",
   "execution_count": 5,
   "metadata": {},
   "outputs": [
    {
     "data": {
      "text/plain": [
       "5    766\n",
       "4    206\n",
       "1    101\n",
       "3     66\n",
       "2     49\n",
       "Name: Review_Rating_Score, dtype: int64"
      ]
     },
     "execution_count": 5,
     "metadata": {},
     "output_type": "execute_result"
    }
   ],
   "source": [
    "df.Review_Rating_Score.value_counts()"
   ]
  },
  {
   "cell_type": "markdown",
   "metadata": {},
   "source": [
    "We can observe that only 66 reviews out of a total 1188 have a rating of 3 which is around 5% of the total dataset. If we include these points we will have to analyze for the neutral reviews as well which will come at a cost of creating an extra dependent category. Hence, we decide to neglect neutral reviews i.e. rating 3 from our analysis."
   ]
  },
  {
   "cell_type": "code",
   "execution_count": 6,
   "metadata": {},
   "outputs": [],
   "source": [
    "# Here, we are filtering our dataset by removing the rows containing the review rating == 3\n",
    "filtered_reviews=df[(df.Review_Rating_Score != 3)]"
   ]
  },
  {
   "cell_type": "code",
   "execution_count": 7,
   "metadata": {},
   "outputs": [],
   "source": [
    "# Partitioning the data and giving reviews with Score>3 a positive rating, and reviews with a score<3 a negative rating.\n",
    "def partition(x):\n",
    "    if x < 3:\n",
    "        return 0\n",
    "    return 1"
   ]
  },
  {
   "cell_type": "code",
   "execution_count": 8,
   "metadata": {},
   "outputs": [
    {
     "name": "stdout",
     "output_type": "stream",
     "text": [
      "Number of data points in our data (1122, 14)\n"
     ]
    },
    {
     "data": {
      "text/html": [
       "<div>\n",
       "<style scoped>\n",
       "    .dataframe tbody tr th:only-of-type {\n",
       "        vertical-align: middle;\n",
       "    }\n",
       "\n",
       "    .dataframe tbody tr th {\n",
       "        vertical-align: top;\n",
       "    }\n",
       "\n",
       "    .dataframe thead th {\n",
       "        text-align: right;\n",
       "    }\n",
       "</style>\n",
       "<table border=\"1\" class=\"dataframe\">\n",
       "  <thead>\n",
       "    <tr style=\"text-align: right;\">\n",
       "      <th></th>\n",
       "      <th>Rev_id</th>\n",
       "      <th>Retailer</th>\n",
       "      <th>Division</th>\n",
       "      <th>Category</th>\n",
       "      <th>Department</th>\n",
       "      <th>Product_URL</th>\n",
       "      <th>Brand</th>\n",
       "      <th>Product_Name</th>\n",
       "      <th>Final_Price_after_Discount</th>\n",
       "      <th>Review_Link</th>\n",
       "      <th>Review_Header</th>\n",
       "      <th>Review_Creation_Date</th>\n",
       "      <th>Review_Rating_Score</th>\n",
       "      <th>Review_Text</th>\n",
       "    </tr>\n",
       "  </thead>\n",
       "  <tbody>\n",
       "    <tr>\n",
       "      <th>0</th>\n",
       "      <td>1</td>\n",
       "      <td>Homedepot</td>\n",
       "      <td>Lighting</td>\n",
       "      <td>Ceiling Fans</td>\n",
       "      <td>Ceiling Fans With Lights</td>\n",
       "      <td>https://www.homedepot.com/p/Hampton-Bay-Rockpo...</td>\n",
       "      <td>Hampton Bay</td>\n",
       "      <td>Rockport 52 in. LED Brushed Nickel Ceiling Fan...</td>\n",
       "      <td>69.97</td>\n",
       "      <td>https://www.homedepot.com/ReviewServices/revie...</td>\n",
       "      <td>Excellent fan for an excellent price ...</td>\n",
       "      <td>2018-04-24</td>\n",
       "      <td>1</td>\n",
       "      <td>Excellent fan for an excellent price</td>\n",
       "    </tr>\n",
       "    <tr>\n",
       "      <th>1</th>\n",
       "      <td>2</td>\n",
       "      <td>Homedepot</td>\n",
       "      <td>Lighting</td>\n",
       "      <td>Ceiling Fans</td>\n",
       "      <td>Ceiling Fans With Lights</td>\n",
       "      <td>https://www.homedepot.com/p/Hampton-Bay-Rockpo...</td>\n",
       "      <td>Hampton Bay</td>\n",
       "      <td>Rockport 52 in. LED Brushed Nickel Ceiling Fan...</td>\n",
       "      <td>69.97</td>\n",
       "      <td>https://www.homedepot.com/ReviewServices/revie...</td>\n",
       "      <td>I put these fans in my spec houses and everyon...</td>\n",
       "      <td>2019-10-15</td>\n",
       "      <td>1</td>\n",
       "      <td>I put these fans in my spec houses and everyon...</td>\n",
       "    </tr>\n",
       "    <tr>\n",
       "      <th>2</th>\n",
       "      <td>3</td>\n",
       "      <td>Homedepot</td>\n",
       "      <td>Lighting</td>\n",
       "      <td>Ceiling Fans</td>\n",
       "      <td>Ceiling Fans With Lights</td>\n",
       "      <td>https://www.homedepot.com/p/Hampton-Bay-Rockpo...</td>\n",
       "      <td>Hampton Bay</td>\n",
       "      <td>Rockport 52 in. LED Brushed Nickel Ceiling Fan...</td>\n",
       "      <td>69.97</td>\n",
       "      <td>https://www.homedepot.com/ReviewServices/revie...</td>\n",
       "      <td>5 Star Review</td>\n",
       "      <td>2019-07-03</td>\n",
       "      <td>1</td>\n",
       "      <td>Rating provided by a verified purchaser</td>\n",
       "    </tr>\n",
       "  </tbody>\n",
       "</table>\n",
       "</div>"
      ],
      "text/plain": [
       "   Rev_id   Retailer  Division      Category                Department  \\\n",
       "0       1  Homedepot  Lighting  Ceiling Fans  Ceiling Fans With Lights   \n",
       "1       2  Homedepot  Lighting  Ceiling Fans  Ceiling Fans With Lights   \n",
       "2       3  Homedepot  Lighting  Ceiling Fans  Ceiling Fans With Lights   \n",
       "\n",
       "                                         Product_URL        Brand  \\\n",
       "0  https://www.homedepot.com/p/Hampton-Bay-Rockpo...  Hampton Bay   \n",
       "1  https://www.homedepot.com/p/Hampton-Bay-Rockpo...  Hampton Bay   \n",
       "2  https://www.homedepot.com/p/Hampton-Bay-Rockpo...  Hampton Bay   \n",
       "\n",
       "                                        Product_Name  \\\n",
       "0  Rockport 52 in. LED Brushed Nickel Ceiling Fan...   \n",
       "1  Rockport 52 in. LED Brushed Nickel Ceiling Fan...   \n",
       "2  Rockport 52 in. LED Brushed Nickel Ceiling Fan...   \n",
       "\n",
       "   Final_Price_after_Discount  \\\n",
       "0                       69.97   \n",
       "1                       69.97   \n",
       "2                       69.97   \n",
       "\n",
       "                                         Review_Link  \\\n",
       "0  https://www.homedepot.com/ReviewServices/revie...   \n",
       "1  https://www.homedepot.com/ReviewServices/revie...   \n",
       "2  https://www.homedepot.com/ReviewServices/revie...   \n",
       "\n",
       "                                       Review_Header Review_Creation_Date  \\\n",
       "0           Excellent fan for an excellent price ...           2018-04-24   \n",
       "1  I put these fans in my spec houses and everyon...           2019-10-15   \n",
       "2                                      5 Star Review           2019-07-03   \n",
       "\n",
       "   Review_Rating_Score                                        Review_Text  \n",
       "0                    1               Excellent fan for an excellent price  \n",
       "1                    1  I put these fans in my spec houses and everyon...  \n",
       "2                    1            Rating provided by a verified purchaser  "
      ]
     },
     "execution_count": 8,
     "metadata": {},
     "output_type": "execute_result"
    }
   ],
   "source": [
    "#changing reviews with score greater than 3 to be positive and vice-versa\n",
    "actualScore = filtered_reviews['Review_Rating_Score']\n",
    "positiveNegative = actualScore.map(partition) \n",
    "filtered_reviews['Review_Rating_Score'] = positiveNegative\n",
    "print(\"Number of data points in our data\", filtered_reviews.shape)\n",
    "filtered_reviews.head(3)"
   ]
  },
  {
   "cell_type": "markdown",
   "metadata": {},
   "source": [
    "Now our dataset has 1122 rows and 14 columns"
   ]
  },
  {
   "cell_type": "code",
   "execution_count": 9,
   "metadata": {},
   "outputs": [],
   "source": [
    "# Since, we have filtered our data, let us reset the index values which will reset index from 0 to 1121\n",
    "filtered_reviews.reset_index(inplace=True)"
   ]
  },
  {
   "cell_type": "code",
   "execution_count": 10,
   "metadata": {},
   "outputs": [
    {
     "data": {
      "text/plain": [
       "index                           0\n",
       "Rev_id                          0\n",
       "Retailer                        0\n",
       "Division                        0\n",
       "Category                        0\n",
       "Department                      0\n",
       "Product_URL                     0\n",
       "Brand                         111\n",
       "Product_Name                    0\n",
       "Final_Price_after_Discount      0\n",
       "Review_Link                     0\n",
       "Review_Header                  24\n",
       "Review_Creation_Date            0\n",
       "Review_Rating_Score             0\n",
       "Review_Text                     0\n",
       "dtype: int64"
      ]
     },
     "execution_count": 10,
     "metadata": {},
     "output_type": "execute_result"
    }
   ],
   "source": [
    "# Checking for null values in our dataset\n",
    "filtered_reviews.isna().sum()"
   ]
  },
  {
   "cell_type": "markdown",
   "metadata": {},
   "source": [
    "We have 111 null values in Brand and 24 null values in Review_Header. Let us replace these null values with 'brand not mentioned' and 'review header not mentioned' respectively."
   ]
  },
  {
   "cell_type": "code",
   "execution_count": 11,
   "metadata": {},
   "outputs": [],
   "source": [
    "# replacing na values in Brand with brand not mentioned \n",
    "filtered_reviews[\"Brand\"].fillna(\"brand not mentioned\", inplace = True)"
   ]
  },
  {
   "cell_type": "code",
   "execution_count": 12,
   "metadata": {},
   "outputs": [],
   "source": [
    "# replacing na values in Review_Header with review header not mentioned \n",
    "filtered_reviews[\"Review_Header\"].fillna(\"review header not mentioned\", inplace = True)"
   ]
  },
  {
   "cell_type": "code",
   "execution_count": 13,
   "metadata": {},
   "outputs": [
    {
     "data": {
      "text/plain": [
       "index                         0\n",
       "Rev_id                        0\n",
       "Retailer                      0\n",
       "Division                      0\n",
       "Category                      0\n",
       "Department                    0\n",
       "Product_URL                   0\n",
       "Brand                         0\n",
       "Product_Name                  0\n",
       "Final_Price_after_Discount    0\n",
       "Review_Link                   0\n",
       "Review_Header                 0\n",
       "Review_Creation_Date          0\n",
       "Review_Rating_Score           0\n",
       "Review_Text                   0\n",
       "dtype: int64"
      ]
     },
     "execution_count": 13,
     "metadata": {},
     "output_type": "execute_result"
    }
   ],
   "source": [
    "# Now our dataset do not have any null values\n",
    "filtered_reviews.isna().sum()"
   ]
  },
  {
   "cell_type": "code",
   "execution_count": 14,
   "metadata": {},
   "outputs": [],
   "source": [
    "# Since we had reset our index, we got an extra index column, let us remove it from out analysis\n",
    "filtered_reviews=filtered_reviews.drop(columns={'index'})"
   ]
  },
  {
   "cell_type": "code",
   "execution_count": 15,
   "metadata": {},
   "outputs": [
    {
     "name": "stdout",
     "output_type": "stream",
     "text": [
      "Number of data points in our data (1122, 14)\n"
     ]
    }
   ],
   "source": [
    "# The dataset now has 1122 rows and 14 columns\n",
    "print(\"Number of data points in our data\", filtered_reviews.shape)"
   ]
  },
  {
   "cell_type": "markdown",
   "metadata": {},
   "source": [
    "### Donut Plot on the total number of positive and negative reviews"
   ]
  },
  {
   "cell_type": "code",
   "execution_count": 16,
   "metadata": {},
   "outputs": [
    {
     "name": "stdout",
     "output_type": "stream",
     "text": [
      "Number of Positive Reviews  972 , ( 86.63101604278076 %)\n",
      "Number of Negative Reviews  150 , ( 13.368983957219251 %)\n"
     ]
    },
    {
     "data": {
      "image/png": "[encoded data removed]",
      "text/plain": [
       "<Figure size 432x432 with 1 Axes>"
      ]
     },
     "metadata": {},
     "output_type": "display_data"
    }
   ],
   "source": [
    "# Code Reference\n",
    "# https://matplotlib.org/gallery/pie_and_polar_charts/pie_and_donut_labels.html#sphx-glr-gallery-pie-and-polar-charts-pie-and-donut-labels-py\n",
    "\n",
    "\n",
    "y_value_counts = filtered_reviews['Review_Rating_Score'].value_counts()\n",
    "print(\"Number of Positive Reviews \", y_value_counts[1], \", (\", (y_value_counts[1]/(y_value_counts[1]+y_value_counts[0]))*100,\"%)\")\n",
    "print(\"Number of Negative Reviews \", y_value_counts[0], \", (\", (y_value_counts[0]/(y_value_counts[1]+y_value_counts[0]))*100,\"%)\")\n",
    "\n",
    "fig, ax = plt.subplots(figsize=(6, 6), subplot_kw=dict(aspect=\"equal\"))\n",
    "recipe = [\"Positive\", \"Negative\"]\n",
    "\n",
    "data = [y_value_counts[1], y_value_counts[0]]\n",
    "\n",
    "wedges, texts = ax.pie(data, wedgeprops=dict(width=0.5), startangle=-40)\n",
    "\n",
    "bbox_props = dict(boxstyle=\"square,pad=0.3\", fc=\"w\", ec=\"k\", lw=0.72)\n",
    "kw = dict(xycoords='data', textcoords='data', arrowprops=dict(arrowstyle=\"-\"),\n",
    "          bbox=bbox_props, zorder=0, va=\"center\")\n",
    "\n",
    "for i, p in enumerate(wedges):\n",
    "    ang = (p.theta2 - p.theta1)/2. + p.theta1\n",
    "    y = np.sin(np.deg2rad(ang))\n",
    "    x = np.cos(np.deg2rad(ang))\n",
    "    horizontalalignment = {-1: \"right\", 1: \"left\"}[int(np.sign(x))]\n",
    "    connectionstyle = \"angle,angleA=0,angleB={}\".format(ang)\n",
    "    kw[\"arrowprops\"].update({\"connectionstyle\": connectionstyle})\n",
    "    ax.annotate(recipe[i], xy=(x, y), xytext=(1.35*np.sign(x), 1.4*y),\n",
    "                 horizontalalignment=horizontalalignment, **kw)\n",
    "\n",
    "ax.set_title(\"Number of Positive and Negative Reviews\")\n",
    "\n",
    "plt.show()"
   ]
  },
  {
   "cell_type": "markdown",
   "metadata": {},
   "source": [
    "The number of positive reviews and negative reviews in the dataset are 972 and 150 respectively. This means that the dataset is highly biased towards positive reviews. We will have to take care of this situation during model building."
   ]
  },
  {
   "cell_type": "markdown",
   "metadata": {},
   "source": [
    "### Univariate Analysis: Retailer"
   ]
  },
  {
   "cell_type": "code",
   "execution_count": 17,
   "metadata": {},
   "outputs": [],
   "source": [
    "#stacked bar plots matplotlib: https://matplotlib.org/gallery/lines_bars_and_markers/bar_stacked.html\n",
    "def stack_plot(data, xtick, col2='Review_Rating_Score', col3='total'):\n",
    "    ind = np.arange(data.shape[0])\n",
    "    \n",
    "    plt.figure(figsize=(20,5))\n",
    "    p1 = plt.bar(ind, data[col3].values)\n",
    "    p2 = plt.bar(ind, data[col2].values)\n",
    "\n",
    "    plt.ylabel('Total Number of Reviews')\n",
    "    plt.title('% of Positive Reviews')\n",
    "    plt.xticks(ind, list(data[xtick].values))\n",
    "    plt.legend((p1[0], p2[0]), ('Negative', 'Positive'))\n",
    "    plt.show()"
   ]
  },
  {
   "cell_type": "code",
   "execution_count": 18,
   "metadata": {},
   "outputs": [],
   "source": [
    "def univariate_barplots(data, col1, col2='Review_Rating_Score', top=False):\n",
    "    # Count number of zeros in dataframe python: https://stackoverflow.com/a/51540521/4084039\n",
    "    temp = pd.DataFrame(filtered_reviews.groupby(col1)[col2].agg(lambda x: x.eq(1).sum())).reset_index()\n",
    "\n",
    "    # Pandas dataframe grouby count: https://stackoverflow.com/a/19385591/4084039\n",
    "    temp['total'] = pd.DataFrame(filtered_reviews.groupby(col1)[col2].agg(total='count')).reset_index()['total']\n",
    "    temp['Avg'] = pd.DataFrame(filtered_reviews.groupby(col1)[col2].agg(Avg='mean')).reset_index()['Avg']\n",
    "    \n",
    "    temp.sort_values(by=['total'],inplace=True, ascending=False)\n",
    "    \n",
    "    if top:\n",
    "        temp = temp[0:top]\n",
    "    \n",
    "    stack_plot(temp, xtick=col1, col2=col2, col3='total')\n",
    "    print(temp.head(7))\n",
    "    print(\"=\"*50)"
   ]
  },
  {
   "cell_type": "code",
   "execution_count": 19,
   "metadata": {},
   "outputs": [
    {
     "data": {
      "image/png": "[encoded data removed]",
      "text/plain": [
       "<Figure size 1440x360 with 1 Axes>"
      ]
     },
     "metadata": {
      "needs_background": "light"
     },
     "output_type": "display_data"
    },
    {
     "name": "stdout",
     "output_type": "stream",
     "text": [
      "    Retailer  Review_Rating_Score  total       Avg\n",
      "0  Homedepot                  487    561  0.868093\n",
      "1      Lowes                  485    561  0.864528\n",
      "==================================================\n"
     ]
    }
   ],
   "source": [
    "univariate_barplots(filtered_reviews, 'Retailer', 'Review_Rating_Score', False)"
   ]
  },
  {
   "cell_type": "markdown",
   "metadata": {},
   "source": [
    "### Univariate Analysis: Division"
   ]
  },
  {
   "cell_type": "code",
   "execution_count": 20,
   "metadata": {},
   "outputs": [
    {
     "data": {
      "image/png": "[encoded data removed]",
      "text/plain": [
       "<Figure size 1440x360 with 1 Axes>"
      ]
     },
     "metadata": {
      "needs_background": "light"
     },
     "output_type": "display_data"
    },
    {
     "name": "stdout",
     "output_type": "stream",
     "text": [
      "                  Division  Review_Rating_Score  total       Avg\n",
      "0                 Lighting                  487    561  0.868093\n",
      "1  Lighting & Ceiling Fans                  485    561  0.864528\n",
      "==================================================\n"
     ]
    }
   ],
   "source": [
    "univariate_barplots(filtered_reviews, 'Division', 'Review_Rating_Score', False)"
   ]
  },
  {
   "cell_type": "markdown",
   "metadata": {},
   "source": [
    "### Univariate Analysis: Category"
   ]
  },
  {
   "cell_type": "code",
   "execution_count": 21,
   "metadata": {},
   "outputs": [
    {
     "data": {
      "image/png": "[encoded data removed]",
      "text/plain": [
       "<Figure size 1440x360 with 1 Axes>"
      ]
     },
     "metadata": {
      "needs_background": "light"
     },
     "output_type": "display_data"
    },
    {
     "name": "stdout",
     "output_type": "stream",
     "text": [
      "                     Category  Review_Rating_Score  total       Avg\n",
      "0                Ceiling Fans                  487    561  0.868093\n",
      "1  Ceiling Fans & Accessories                  485    561  0.864528\n",
      "==================================================\n"
     ]
    }
   ],
   "source": [
    "univariate_barplots(filtered_reviews, 'Category', 'Review_Rating_Score', False)"
   ]
  },
  {
   "cell_type": "markdown",
   "metadata": {},
   "source": [
    "### Univariate Analysis: Department"
   ]
  },
  {
   "cell_type": "code",
   "execution_count": 22,
   "metadata": {},
   "outputs": [
    {
     "data": {
      "image/png": "[encoded data removed]",
      "text/plain": [
       "<Figure size 1440x360 with 1 Axes>"
      ]
     },
     "metadata": {
      "needs_background": "light"
     },
     "output_type": "display_data"
    },
    {
     "name": "stdout",
     "output_type": "stream",
     "text": [
      "                    Department  Review_Rating_Score  total       Avg\n",
      "0                 Ceiling Fans                  485    561  0.864528\n",
      "1     Ceiling Fans With Lights                  478    548  0.872263\n",
      "2  Ceiling Fans Without Lights                    9     13  0.692308\n",
      "==================================================\n"
     ]
    }
   ],
   "source": [
    "univariate_barplots(filtered_reviews, 'Department', 'Review_Rating_Score', False)"
   ]
  },
  {
   "cell_type": "markdown",
   "metadata": {},
   "source": [
    "### Univariate Analysis: Brand"
   ]
  },
  {
   "cell_type": "code",
   "execution_count": 23,
   "metadata": {},
   "outputs": [
    {
     "data": {
      "image/png": "[encoded data removed]",
      "text/plain": [
       "<Figure size 1440x360 with 1 Axes>"
      ]
     },
     "metadata": {
      "needs_background": "light"
     },
     "output_type": "display_data"
    },
    {
     "name": "stdout",
     "output_type": "stream",
     "text": [
      "                          Brand  Review_Rating_Score  total       Avg\n",
      "2                 Harbor Breeze                  312    359  0.869081\n",
      "3    Home Decorators Collection                  233    272  0.856618\n",
      "0  Fanimation Studio Collection                  117    140  0.835714\n",
      "4                        Hunter                  103    116  0.887931\n",
      "6           brand not mentioned                   95    111  0.855856\n",
      "1                   Hampton Bay                   93     99  0.939394\n",
      "5                       Kichler                   19     25  0.760000\n",
      "==================================================\n"
     ]
    }
   ],
   "source": [
    "univariate_barplots(filtered_reviews, 'Brand', 'Review_Rating_Score', False)"
   ]
  },
  {
   "cell_type": "markdown",
   "metadata": {},
   "source": [
    "# Text Data Preprocessing"
   ]
  },
  {
   "cell_type": "code",
   "execution_count": 24,
   "metadata": {},
   "outputs": [
    {
     "data": {
      "text/plain": [
       "lighting                   561\n",
       "lighting_&_ceiling_fans    561\n",
       "Name: Division, dtype: int64"
      ]
     },
     "execution_count": 24,
     "metadata": {},
     "output_type": "execute_result"
    }
   ],
   "source": [
    "# Replacing the space in Division column with _ and converting the text into lower case\n",
    "# https://stackoverflow.com/questions/36383821/pandas-dataframe-apply-function-to-column-strings-based-on-other-column-value\n",
    "filtered_reviews['Division'] = filtered_reviews['Division'].str.replace(' ','_')\n",
    "filtered_reviews['Division'] = filtered_reviews['Division'].str.lower()\n",
    "filtered_reviews['Division'].value_counts()"
   ]
  },
  {
   "cell_type": "code",
   "execution_count": 25,
   "metadata": {},
   "outputs": [
    {
     "data": {
      "text/plain": [
       "ceiling_fans                  561\n",
       "ceiling_fans_&_accessories    561\n",
       "Name: Category, dtype: int64"
      ]
     },
     "execution_count": 25,
     "metadata": {},
     "output_type": "execute_result"
    }
   ],
   "source": [
    "# Replacing the space in Category column with _ and converting the text into lower case\n",
    "# https://stackoverflow.com/questions/36383821/pandas-dataframe-apply-function-to-column-strings-based-on-other-column-value\n",
    "filtered_reviews['Category'] = filtered_reviews['Category'].str.replace(' ','_')\n",
    "filtered_reviews['Category'] = filtered_reviews['Category'].str.lower()\n",
    "filtered_reviews['Category'].value_counts()"
   ]
  },
  {
   "cell_type": "code",
   "execution_count": 26,
   "metadata": {},
   "outputs": [
    {
     "data": {
      "text/plain": [
       "ceiling_fans                   561\n",
       "ceiling_fans_with_lights       548\n",
       "ceiling_fans_without_lights     13\n",
       "Name: Department, dtype: int64"
      ]
     },
     "execution_count": 26,
     "metadata": {},
     "output_type": "execute_result"
    }
   ],
   "source": [
    "# Replacing the space in Department column with _ and converting the text into lower case\n",
    "# https://stackoverflow.com/questions/36383821/pandas-dataframe-apply-function-to-column-strings-based-on-other-column-value\n",
    "filtered_reviews['Department'] = filtered_reviews['Department'].str.replace(' ','_')\n",
    "filtered_reviews['Department'] = filtered_reviews['Department'].str.lower()\n",
    "filtered_reviews['Department'].value_counts()"
   ]
  },
  {
   "cell_type": "code",
   "execution_count": 27,
   "metadata": {},
   "outputs": [
    {
     "data": {
      "text/plain": [
       "harbor_breeze                   359\n",
       "home_decorators_collection      272\n",
       "fanimation_studio_collection    140\n",
       "hunter                          116\n",
       "brand_not_mentioned             111\n",
       "hampton_bay                      99\n",
       "kichler                          25\n",
       "Name: Brand, dtype: int64"
      ]
     },
     "execution_count": 27,
     "metadata": {},
     "output_type": "execute_result"
    }
   ],
   "source": [
    "# Replacing the space in Brand column with _ and converting the text into lower case\n",
    "# https://stackoverflow.com/questions/36383821/pandas-dataframe-apply-function-to-column-strings-based-on-other-column-value\n",
    "filtered_reviews['Brand'] = filtered_reviews['Brand'].str.replace(' ','_')\n",
    "filtered_reviews['Brand'] = filtered_reviews['Brand'].str.lower()\n",
    "filtered_reviews['Brand'].value_counts()"
   ]
  },
  {
   "cell_type": "code",
   "execution_count": 28,
   "metadata": {},
   "outputs": [
    {
     "name": "stdout",
     "output_type": "stream",
     "text": [
      "Excellent fan for an excellent price\n",
      "==================================================\n",
      "It came with my new house purchase but found that it has a very narrow dispersal of light so it doesn't fill our small 15 x 20 living room well. Best suited for a smaller room such as a bedroom or dining room but not a living room... other than that it's a good quality product and I like the remote control that goes with it. Now looking for a decent replacement for my living room to get better lighting :-(\n",
      "==================================================\n",
      "I purchased this fan to go in 5 rooms, my master bedroom, 2 guest bedrooms and my livingroom.  I had them all professionally installed and the only concern is that 2 of the 5 are on the same frequency which means when 1 of the guestrooms can control the fan in my masterbedroom. I'm still trying to figure that part out. I dont have guests that often so I can deal with it while I still try to figure this out.\n",
      "==================================================\n",
      "I purchased this fan on August 20, 2017. Love it but after the first month, I had issues with the fan. I would turn it on via remote and the fan would intermittently turn on and off a few times and then simply shut off. I would have to start the fan again several times before it finally turned on and stayed on. I called Fanimation and was told it's normal for \"calibration\" purposes. Less than a year later, the fan just stopped and I smelt the motor burning. Needless to say, the fan is beautiful and definitely an air mover when it works but I recommend if you buy this fan, you buy the warranty replacement plan with it from Lowe's. It's Friday evening on a FL summer and I can't get in touch with the manufacturer because they have limited business hours. I don't recommend this product and will not buy again.\n",
      "==================================================\n"
     ]
    }
   ],
   "source": [
    "# printing some random reviews to have a look at the text in the reviews\n",
    "sent_0 = filtered_reviews['Review_Text'].values[0]\n",
    "print(sent_0)\n",
    "print(\"=\"*50)\n",
    "\n",
    "sent_250 = filtered_reviews['Review_Text'].values[250]\n",
    "print(sent_250)\n",
    "print(\"=\"*50)\n",
    "\n",
    "sent_500 = filtered_reviews['Review_Text'].values[500]\n",
    "print(sent_500)\n",
    "print(\"=\"*50)\n",
    "\n",
    "sent_1000 = filtered_reviews['Review_Text'].values[1000]\n",
    "print(sent_1000)\n",
    "print(\"=\"*50)"
   ]
  },
  {
   "cell_type": "code",
   "execution_count": 29,
   "metadata": {},
   "outputs": [],
   "source": [
    "# The below function will expand the contraction of some common english words such as won't, can't etc.. these will be converted\n",
    "# to will not, can not etc.\n",
    "# https://stackoverflow.com/a/47091490/4084039\n",
    "import re\n",
    "\n",
    "def decontracted(phrase):\n",
    "    # specific\n",
    "    phrase = re.sub(r\"won't\", \"will not\", phrase)\n",
    "    phrase = re.sub(r\"can\\'t\", \"can not\", phrase)\n",
    "\n",
    "    # general\n",
    "    phrase = re.sub(r\"n\\'t\", \" not\", phrase)\n",
    "    phrase = re.sub(r\"\\'re\", \" are\", phrase)\n",
    "    phrase = re.sub(r\"\\'s\", \" is\", phrase)\n",
    "    phrase = re.sub(r\"\\'d\", \" would\", phrase)\n",
    "    phrase = re.sub(r\"\\'ll\", \" will\", phrase)\n",
    "    phrase = re.sub(r\"\\'t\", \" not\", phrase)\n",
    "    phrase = re.sub(r\"\\'ve\", \" have\", phrase)\n",
    "    phrase = re.sub(r\"\\'m\", \" am\", phrase)\n",
    "    return phrase"
   ]
  },
  {
   "cell_type": "markdown",
   "metadata": {},
   "source": [
    "#### Removing the Stopwords"
   ]
  },
  {
   "cell_type": "code",
   "execution_count": 30,
   "metadata": {},
   "outputs": [],
   "source": [
    "# https://gist.github.com/sebleier/554280\n",
    "# we are removing the words from the stop words list: 'no', 'nor', 'not'\n",
    "stopwords= ['i', 'me', 'my', 'myself', 'we', 'our', 'ours', 'ourselves', 'you', \"you're\", \"you've\",\\\n",
    "            \"you'll\", \"you'd\", 'your', 'yours', 'yourself', 'yourselves', 'he', 'him', 'his', 'himself', \\\n",
    "            'she', \"she's\", 'her', 'hers', 'herself', 'it', \"it's\", 'its', 'itself', 'they', 'them', 'their',\\\n",
    "            'theirs', 'themselves', 'what', 'which', 'who', 'whom', 'this', 'that', \"that'll\", 'these', 'those', \\\n",
    "            'am', 'is', 'are', 'was', 'were', 'be', 'been', 'being', 'have', 'has', 'had', 'having', 'do', 'does', \\\n",
    "            'did', 'doing', 'a', 'an', 'the', 'and', 'but', 'if', 'or', 'because', 'as', 'until', 'while', 'of', \\\n",
    "            'at', 'by', 'for', 'with', 'about', 'against', 'between', 'into', 'through', 'during', 'before', 'after',\\\n",
    "            'above', 'below', 'to', 'from', 'up', 'down', 'in', 'out', 'on', 'off', 'over', 'under', 'again', 'further',\\\n",
    "            'then', 'once', 'here', 'there', 'when', 'where', 'why', 'how', 'all', 'any', 'both', 'each', 'few', 'more',\\\n",
    "            'most', 'other', 'some', 'such', 'only', 'own', 'same', 'so', 'than', 'too', 'very', \\\n",
    "            's', 't', 'can', 'will', 'just', 'don', \"don't\", 'should', \"should've\", 'now', 'd', 'll', 'm', 'o', 're', \\\n",
    "            've', 'y', 'ain', 'aren', \"aren't\", 'couldn', \"couldn't\", 'didn', \"didn't\", 'doesn', \"doesn't\", 'hadn',\\\n",
    "            \"hadn't\", 'hasn', \"hasn't\", 'haven', \"haven't\", 'isn', \"isn't\", 'ma', 'mightn', \"mightn't\", 'mustn',\\\n",
    "            \"mustn't\", 'needn', \"needn't\", 'shan', \"shan't\", 'shouldn', \"shouldn't\", 'wasn', \"wasn't\", 'weren', \"weren't\", \\\n",
    "            'won', \"won't\", 'wouldn', \"wouldn't\"]"
   ]
  },
  {
   "cell_type": "code",
   "execution_count": 31,
   "metadata": {},
   "outputs": [],
   "source": [
    "# Writing function for text preprocessing and combining the above sentences\n",
    "from tqdm import tqdm\n",
    "def preprocess_text(text_data):\n",
    "    preprocessed_text = []\n",
    "    # tqdm is for printing the status bar\n",
    "    for sentence in tqdm(text_data):\n",
    "        sent = decontracted(sentence)\n",
    "        sent = sent.replace('\\\\r', ' ')\n",
    "        sent = sent.replace('\\\\n', ' ')\n",
    "        sent = sent.replace('\\\\\"', ' ')\n",
    "        sent = re.sub('[^A-Za-z0-9]+', ' ', sent)\n",
    "        # https://gist.github.com/sebleier/554280\n",
    "        sent = ' '.join(e for e in sent.split() if e.lower() not in stopwords)\n",
    "        preprocessed_text.append(sent.lower().strip())\n",
    "    return preprocessed_text"
   ]
  },
  {
   "cell_type": "markdown",
   "metadata": {},
   "source": [
    "## Preprocessing Review Text"
   ]
  },
  {
   "cell_type": "code",
   "execution_count": 32,
   "metadata": {},
   "outputs": [
    {
     "name": "stderr",
     "output_type": "stream",
     "text": [
      "100%|████████████████████████████████████████████████████████████████████████████| 1122/1122 [00:00<00:00, 5275.79it/s]\n"
     ]
    }
   ],
   "source": [
    "preprocessed_review_text = preprocess_text(filtered_reviews['Review_Text'].values)"
   ]
  },
  {
   "cell_type": "code",
   "execution_count": 33,
   "metadata": {},
   "outputs": [
    {
     "name": "stdout",
     "output_type": "stream",
     "text": [
      "excellent fan excellent price\n",
      "==================================================\n",
      "came new house purchase found narrow dispersal light not fill small 15 x 20 living room well best suited smaller room bedroom dining room not living room good quality product like remote control goes looking decent replacement living room get better lighting\n",
      "==================================================\n",
      "purchased fan go 5 rooms master bedroom 2 guest bedrooms livingroom professionally installed concern 2 5 frequency means 1 guestrooms control fan masterbedroom still trying figure part dont guests often deal still try figure\n",
      "==================================================\n",
      "purchased fan august 20 2017 love first month issues fan would turn via remote fan would intermittently turn times simply shut would start fan several times finally turned stayed called fanimation told normal calibration purposes less year later fan stopped smelt motor burning needless say fan beautiful definitely air mover works recommend buy fan buy warranty replacement plan lowe friday evening fl summer not get touch manufacturer limited business hours not recommend product not buy\n",
      "==================================================\n"
     ]
    }
   ],
   "source": [
    "# printing some random reviews\n",
    "sent_0 = preprocessed_review_text[0]\n",
    "print(sent_0)\n",
    "print(\"=\"*50)\n",
    "\n",
    "sent_250 = preprocessed_review_text[250]\n",
    "print(sent_250)\n",
    "print(\"=\"*50)\n",
    "\n",
    "sent_500 = preprocessed_review_text[500]\n",
    "print(sent_500)\n",
    "print(\"=\"*50)\n",
    "\n",
    "sent_1000 = preprocessed_review_text[1000]\n",
    "print(sent_1000)\n",
    "print(\"=\"*50)"
   ]
  },
  {
   "cell_type": "markdown",
   "metadata": {},
   "source": [
    "## Preprocessing Product Name"
   ]
  },
  {
   "cell_type": "code",
   "execution_count": 34,
   "metadata": {},
   "outputs": [
    {
     "name": "stdout",
     "output_type": "stream",
     "text": [
      "Rockport 52 in. LED Brushed Nickel Ceiling Fan with Light Kit\n",
      "==================================================\n",
      "Merwry 52 in. Integrated LED Indoor Matte Black Ceiling Fan with Light Kit and Remote Control\n",
      "==================================================\n",
      "Merwry 52 in. Integrated LED Indoor White Ceiling Fan with Light Kit and Remote Control\n",
      "==================================================\n",
      "Fanimation Studio Collection Slinger v2 72-in Matte Black LED Indoor/Outdoor Ceiling Fan with Light Kit and Remote (9-Blade)\n",
      "==================================================\n"
     ]
    }
   ],
   "source": [
    "# printing some random reviews\n",
    "sent_0 = filtered_reviews['Product_Name'].values[0]\n",
    "print(sent_0)\n",
    "print(\"=\"*50)\n",
    "\n",
    "sent_250 = filtered_reviews['Product_Name'].values[250]\n",
    "print(sent_250)\n",
    "print(\"=\"*50)\n",
    "\n",
    "sent_500 = filtered_reviews['Product_Name'].values[500]\n",
    "print(sent_500)\n",
    "print(\"=\"*50)\n",
    "\n",
    "sent_1000 = filtered_reviews['Product_Name'].values[1000]\n",
    "print(sent_1000)\n",
    "print(\"=\"*50)"
   ]
  },
  {
   "cell_type": "code",
   "execution_count": 35,
   "metadata": {},
   "outputs": [
    {
     "name": "stderr",
     "output_type": "stream",
     "text": [
      "100%|███████████████████████████████████████████████████████████████████████████| 1122/1122 [00:00<00:00, 14359.37it/s]\n"
     ]
    }
   ],
   "source": [
    "preprocessed_product_name = preprocess_text(filtered_reviews['Product_Name'].values)"
   ]
  },
  {
   "cell_type": "code",
   "execution_count": 36,
   "metadata": {},
   "outputs": [
    {
     "name": "stdout",
     "output_type": "stream",
     "text": [
      "rockport 52 led brushed nickel ceiling fan light kit\n",
      "==================================================\n",
      "merwry 52 integrated led indoor matte black ceiling fan light kit remote control\n",
      "==================================================\n",
      "merwry 52 integrated led indoor white ceiling fan light kit remote control\n",
      "==================================================\n",
      "fanimation studio collection slinger v2 72 matte black led indoor outdoor ceiling fan light kit remote 9 blade\n",
      "==================================================\n"
     ]
    }
   ],
   "source": [
    "# printing some random reviews\n",
    "sent_0 = preprocessed_product_name[0]\n",
    "print(sent_0)\n",
    "print(\"=\"*50)\n",
    "\n",
    "sent_250 = preprocessed_product_name[250]\n",
    "print(sent_250)\n",
    "print(\"=\"*50)\n",
    "\n",
    "sent_500 = preprocessed_product_name[500]\n",
    "print(sent_500)\n",
    "print(\"=\"*50)\n",
    "\n",
    "sent_1000 = preprocessed_product_name[1000]\n",
    "print(sent_1000)\n",
    "print(\"=\"*50)"
   ]
  },
  {
   "cell_type": "markdown",
   "metadata": {},
   "source": [
    "### Preprocessing Review Header"
   ]
  },
  {
   "cell_type": "code",
   "execution_count": 37,
   "metadata": {},
   "outputs": [
    {
     "name": "stderr",
     "output_type": "stream",
     "text": [
      "100%|███████████████████████████████████████████████████████████████████████████| 1122/1122 [00:00<00:00, 13270.91it/s]\n"
     ]
    }
   ],
   "source": [
    "preprocessed_review_header = preprocess_text(filtered_reviews['Review_Header'].values)"
   ]
  },
  {
   "cell_type": "code",
   "execution_count": 38,
   "metadata": {},
   "outputs": [
    {
     "name": "stdout",
     "output_type": "stream",
     "text": [
      "excellent fan excellent price\n",
      "==================================================\n",
      "came new house purchase found narrow dispersal light\n",
      "==================================================\n",
      "beautiful modern quiet\n",
      "==================================================\n",
      "burned less year\n",
      "==================================================\n"
     ]
    }
   ],
   "source": [
    "# printing some random reviews\n",
    "sent_0 = preprocessed_review_header[0]\n",
    "print(sent_0)\n",
    "print(\"=\"*50)\n",
    "\n",
    "sent_250 = preprocessed_review_header[250]\n",
    "print(sent_250)\n",
    "print(\"=\"*50)\n",
    "\n",
    "sent_500 = preprocessed_review_header[500]\n",
    "print(sent_500)\n",
    "print(\"=\"*50)\n",
    "\n",
    "sent_1000 = preprocessed_review_header[1000]\n",
    "print(sent_1000)\n",
    "print(\"=\"*50)"
   ]
  },
  {
   "cell_type": "markdown",
   "metadata": {},
   "source": [
    "At this stage we have done preprocessing of all the necessary text columns such as review_text, review_header, review_product_name. These are in the form of a list."
   ]
  },
  {
   "cell_type": "code",
   "execution_count": 39,
   "metadata": {},
   "outputs": [
    {
     "data": {
      "text/html": [
       "<div>\n",
       "<style scoped>\n",
       "    .dataframe tbody tr th:only-of-type {\n",
       "        vertical-align: middle;\n",
       "    }\n",
       "\n",
       "    .dataframe tbody tr th {\n",
       "        vertical-align: top;\n",
       "    }\n",
       "\n",
       "    .dataframe thead th {\n",
       "        text-align: right;\n",
       "    }\n",
       "</style>\n",
       "<table border=\"1\" class=\"dataframe\">\n",
       "  <thead>\n",
       "    <tr style=\"text-align: right;\">\n",
       "      <th></th>\n",
       "      <th>Rev_id</th>\n",
       "      <th>Retailer</th>\n",
       "      <th>Division</th>\n",
       "      <th>Category</th>\n",
       "      <th>Department</th>\n",
       "      <th>Product_URL</th>\n",
       "      <th>Brand</th>\n",
       "      <th>Product_Name</th>\n",
       "      <th>Final_Price_after_Discount</th>\n",
       "      <th>Review_Link</th>\n",
       "      <th>Review_Header</th>\n",
       "      <th>Review_Creation_Date</th>\n",
       "      <th>Review_Rating_Score</th>\n",
       "      <th>Review_Text</th>\n",
       "    </tr>\n",
       "  </thead>\n",
       "  <tbody>\n",
       "    <tr>\n",
       "      <th>0</th>\n",
       "      <td>1</td>\n",
       "      <td>Homedepot</td>\n",
       "      <td>lighting</td>\n",
       "      <td>ceiling_fans</td>\n",
       "      <td>ceiling_fans_with_lights</td>\n",
       "      <td>https://www.homedepot.com/p/Hampton-Bay-Rockpo...</td>\n",
       "      <td>hampton_bay</td>\n",
       "      <td>Rockport 52 in. LED Brushed Nickel Ceiling Fan...</td>\n",
       "      <td>69.97</td>\n",
       "      <td>https://www.homedepot.com/ReviewServices/revie...</td>\n",
       "      <td>Excellent fan for an excellent price ...</td>\n",
       "      <td>2018-04-24</td>\n",
       "      <td>1</td>\n",
       "      <td>Excellent fan for an excellent price</td>\n",
       "    </tr>\n",
       "    <tr>\n",
       "      <th>1</th>\n",
       "      <td>2</td>\n",
       "      <td>Homedepot</td>\n",
       "      <td>lighting</td>\n",
       "      <td>ceiling_fans</td>\n",
       "      <td>ceiling_fans_with_lights</td>\n",
       "      <td>https://www.homedepot.com/p/Hampton-Bay-Rockpo...</td>\n",
       "      <td>hampton_bay</td>\n",
       "      <td>Rockport 52 in. LED Brushed Nickel Ceiling Fan...</td>\n",
       "      <td>69.97</td>\n",
       "      <td>https://www.homedepot.com/ReviewServices/revie...</td>\n",
       "      <td>I put these fans in my spec houses and everyon...</td>\n",
       "      <td>2019-10-15</td>\n",
       "      <td>1</td>\n",
       "      <td>I put these fans in my spec houses and everyon...</td>\n",
       "    </tr>\n",
       "  </tbody>\n",
       "</table>\n",
       "</div>"
      ],
      "text/plain": [
       "   Rev_id   Retailer  Division      Category                Department  \\\n",
       "0       1  Homedepot  lighting  ceiling_fans  ceiling_fans_with_lights   \n",
       "1       2  Homedepot  lighting  ceiling_fans  ceiling_fans_with_lights   \n",
       "\n",
       "                                         Product_URL        Brand  \\\n",
       "0  https://www.homedepot.com/p/Hampton-Bay-Rockpo...  hampton_bay   \n",
       "1  https://www.homedepot.com/p/Hampton-Bay-Rockpo...  hampton_bay   \n",
       "\n",
       "                                        Product_Name  \\\n",
       "0  Rockport 52 in. LED Brushed Nickel Ceiling Fan...   \n",
       "1  Rockport 52 in. LED Brushed Nickel Ceiling Fan...   \n",
       "\n",
       "   Final_Price_after_Discount  \\\n",
       "0                       69.97   \n",
       "1                       69.97   \n",
       "\n",
       "                                         Review_Link  \\\n",
       "0  https://www.homedepot.com/ReviewServices/revie...   \n",
       "1  https://www.homedepot.com/ReviewServices/revie...   \n",
       "\n",
       "                                       Review_Header Review_Creation_Date  \\\n",
       "0           Excellent fan for an excellent price ...           2018-04-24   \n",
       "1  I put these fans in my spec houses and everyon...           2019-10-15   \n",
       "\n",
       "   Review_Rating_Score                                        Review_Text  \n",
       "0                    1               Excellent fan for an excellent price  \n",
       "1                    1  I put these fans in my spec houses and everyon...  "
      ]
     },
     "execution_count": 39,
     "metadata": {},
     "output_type": "execute_result"
    }
   ],
   "source": [
    "filtered_reviews.head(2)"
   ]
  },
  {
   "cell_type": "code",
   "execution_count": 40,
   "metadata": {},
   "outputs": [
    {
     "name": "stdout",
     "output_type": "stream",
     "text": [
      "Number of data points in our data (1122, 14)\n"
     ]
    }
   ],
   "source": [
    "print(\"Number of data points in our data\", filtered_reviews.shape)"
   ]
  },
  {
   "cell_type": "code",
   "execution_count": 41,
   "metadata": {},
   "outputs": [],
   "source": [
    "# Storing list containing 'preprocessed_review_text' in the form of a dataframe\n",
    "preprocessed_review_text = pd.DataFrame({'preprocessed_review_text':preprocessed_review_text})"
   ]
  },
  {
   "cell_type": "code",
   "execution_count": 42,
   "metadata": {},
   "outputs": [
    {
     "data": {
      "text/html": [
       "<div>\n",
       "<style scoped>\n",
       "    .dataframe tbody tr th:only-of-type {\n",
       "        vertical-align: middle;\n",
       "    }\n",
       "\n",
       "    .dataframe tbody tr th {\n",
       "        vertical-align: top;\n",
       "    }\n",
       "\n",
       "    .dataframe thead th {\n",
       "        text-align: right;\n",
       "    }\n",
       "</style>\n",
       "<table border=\"1\" class=\"dataframe\">\n",
       "  <thead>\n",
       "    <tr style=\"text-align: right;\">\n",
       "      <th></th>\n",
       "      <th>preprocessed_review_text</th>\n",
       "    </tr>\n",
       "  </thead>\n",
       "  <tbody>\n",
       "    <tr>\n",
       "      <th>0</th>\n",
       "      <td>excellent fan excellent price</td>\n",
       "    </tr>\n",
       "    <tr>\n",
       "      <th>1</th>\n",
       "      <td>put fans spec houses everyone likes like price...</td>\n",
       "    </tr>\n",
       "  </tbody>\n",
       "</table>\n",
       "</div>"
      ],
      "text/plain": [
       "                            preprocessed_review_text\n",
       "0                      excellent fan excellent price\n",
       "1  put fans spec houses everyone likes like price..."
      ]
     },
     "execution_count": 42,
     "metadata": {},
     "output_type": "execute_result"
    }
   ],
   "source": [
    "preprocessed_review_text.head(2)"
   ]
  },
  {
   "cell_type": "code",
   "execution_count": 43,
   "metadata": {},
   "outputs": [
    {
     "name": "stdout",
     "output_type": "stream",
     "text": [
      "Number of data points in our data (1122, 1)\n"
     ]
    }
   ],
   "source": [
    "print(\"Number of data points in our data\", preprocessed_review_text.shape)"
   ]
  },
  {
   "cell_type": "code",
   "execution_count": 44,
   "metadata": {},
   "outputs": [],
   "source": [
    "# Storing list containing 'preprocessed_product_name' in the form of a dataframe\n",
    "preprocessed_product_name = pd.DataFrame({'preprocessed_product_name':preprocessed_product_name})"
   ]
  },
  {
   "cell_type": "code",
   "execution_count": 45,
   "metadata": {},
   "outputs": [
    {
     "data": {
      "text/html": [
       "<div>\n",
       "<style scoped>\n",
       "    .dataframe tbody tr th:only-of-type {\n",
       "        vertical-align: middle;\n",
       "    }\n",
       "\n",
       "    .dataframe tbody tr th {\n",
       "        vertical-align: top;\n",
       "    }\n",
       "\n",
       "    .dataframe thead th {\n",
       "        text-align: right;\n",
       "    }\n",
       "</style>\n",
       "<table border=\"1\" class=\"dataframe\">\n",
       "  <thead>\n",
       "    <tr style=\"text-align: right;\">\n",
       "      <th></th>\n",
       "      <th>preprocessed_product_name</th>\n",
       "    </tr>\n",
       "  </thead>\n",
       "  <tbody>\n",
       "    <tr>\n",
       "      <th>0</th>\n",
       "      <td>rockport 52 led brushed nickel ceiling fan lig...</td>\n",
       "    </tr>\n",
       "    <tr>\n",
       "      <th>1</th>\n",
       "      <td>rockport 52 led brushed nickel ceiling fan lig...</td>\n",
       "    </tr>\n",
       "  </tbody>\n",
       "</table>\n",
       "</div>"
      ],
      "text/plain": [
       "                           preprocessed_product_name\n",
       "0  rockport 52 led brushed nickel ceiling fan lig...\n",
       "1  rockport 52 led brushed nickel ceiling fan lig..."
      ]
     },
     "execution_count": 45,
     "metadata": {},
     "output_type": "execute_result"
    }
   ],
   "source": [
    "preprocessed_product_name.head(2)"
   ]
  },
  {
   "cell_type": "code",
   "execution_count": 46,
   "metadata": {},
   "outputs": [
    {
     "data": {
      "text/plain": [
       "hugger_52_led_indoor_brushed_nickel_ceiling_fan_light_kit                                                                                                             70\n",
       "harbor_breeze_armitage_52_brushed_nickel_led_indoor_flush_mount_ceiling_fan_light_kit_5_blade                                                                         59\n",
       "fanimation_studio_collection_slinger_v2_72_matte_black_led_indoor_outdoor_ceiling_fan_light_kit_remote_9_blade                                                        49\n",
       "fanimation_studio_collection_slinger_v2_72_brushed_nickel_led_indoor_outdoor_commercial_residential_ceiling_fan_light_kit_included_remote_control_included_9_blade    46\n",
       "harbor_breeze_armitage_52_bronze_led_indoor_flush_mount_ceiling_fan_light_kit_5_blade                                                                                 36\n",
       "                                                                                                                                                                      ..\n",
       "ashby_park_52_white_color_changing_integrated_led_brushed_nickel_ceiling_fan_light_kit_remote_control                                                                  2\n",
       "barnes_bay_52_led_indoor_outdoor_natural_iron_ceiling_fan_light_kit                                                                                                    1\n",
       "hawkins_44_led_oil_rubbed_bronze_ceiling_fan_light                                                                                                                     1\n",
       "kichler_clermont_52_satin_bronze_led_indoor_ceiling_fan_light_kit_remote_5_blade                                                                                       1\n",
       "fanimation_studio_collection_weather_pylon_48_matte_black_led_indoor_outdoor_ceiling_fan_light_kit_remote_3_blade                                                      1\n",
       "Name: preprocessed_product_name, Length: 79, dtype: int64"
      ]
     },
     "execution_count": 46,
     "metadata": {},
     "output_type": "execute_result"
    }
   ],
   "source": [
    "# Replacing the space in preprocessed_product_name column with _ and converting the text into lower case\n",
    "preprocessed_product_name['preprocessed_product_name'] = preprocessed_product_name['preprocessed_product_name'].str.replace(' ','_')\n",
    "preprocessed_product_name['preprocessed_product_name'] = preprocessed_product_name['preprocessed_product_name'].str.lower()\n",
    "preprocessed_product_name['preprocessed_product_name'].value_counts()"
   ]
  },
  {
   "cell_type": "code",
   "execution_count": 47,
   "metadata": {},
   "outputs": [
    {
     "name": "stdout",
     "output_type": "stream",
     "text": [
      "Number of data points in our data (1122, 1)\n"
     ]
    }
   ],
   "source": [
    "print(\"Number of data points in our data\", preprocessed_product_name.shape)"
   ]
  },
  {
   "cell_type": "code",
   "execution_count": 48,
   "metadata": {},
   "outputs": [],
   "source": [
    "# Storing list containing 'preprocessed_review_header' in the form of a dataframe\n",
    "preprocessed_review_header = pd.DataFrame({'preprocessed_review_header':preprocessed_review_header})"
   ]
  },
  {
   "cell_type": "code",
   "execution_count": 49,
   "metadata": {},
   "outputs": [
    {
     "data": {
      "text/html": [
       "<div>\n",
       "<style scoped>\n",
       "    .dataframe tbody tr th:only-of-type {\n",
       "        vertical-align: middle;\n",
       "    }\n",
       "\n",
       "    .dataframe tbody tr th {\n",
       "        vertical-align: top;\n",
       "    }\n",
       "\n",
       "    .dataframe thead th {\n",
       "        text-align: right;\n",
       "    }\n",
       "</style>\n",
       "<table border=\"1\" class=\"dataframe\">\n",
       "  <thead>\n",
       "    <tr style=\"text-align: right;\">\n",
       "      <th></th>\n",
       "      <th>preprocessed_review_header</th>\n",
       "    </tr>\n",
       "  </thead>\n",
       "  <tbody>\n",
       "    <tr>\n",
       "      <th>0</th>\n",
       "      <td>excellent fan excellent price</td>\n",
       "    </tr>\n",
       "    <tr>\n",
       "      <th>1</th>\n",
       "      <td>put fans spec houses everyone</td>\n",
       "    </tr>\n",
       "  </tbody>\n",
       "</table>\n",
       "</div>"
      ],
      "text/plain": [
       "      preprocessed_review_header\n",
       "0  excellent fan excellent price\n",
       "1  put fans spec houses everyone"
      ]
     },
     "execution_count": 49,
     "metadata": {},
     "output_type": "execute_result"
    }
   ],
   "source": [
    "preprocessed_review_header.head(2)"
   ]
  },
  {
   "cell_type": "code",
   "execution_count": 50,
   "metadata": {},
   "outputs": [
    {
     "name": "stdout",
     "output_type": "stream",
     "text": [
      "Number of data points in our data (1122, 1)\n"
     ]
    }
   ],
   "source": [
    "print(\"Number of data points in our data\", preprocessed_review_header.shape)"
   ]
  },
  {
   "cell_type": "code",
   "execution_count": 51,
   "metadata": {},
   "outputs": [],
   "source": [
    "# Merging these new columns in our original dataset i.e. filtered_reviews\n",
    "merge1=pd.merge(filtered_reviews, preprocessed_review_text, left_index=True, right_index=True)"
   ]
  },
  {
   "cell_type": "code",
   "execution_count": 52,
   "metadata": {},
   "outputs": [],
   "source": [
    "merge2=pd.merge(merge1, preprocessed_product_name, left_index=True, right_index=True)"
   ]
  },
  {
   "cell_type": "code",
   "execution_count": 53,
   "metadata": {},
   "outputs": [],
   "source": [
    "# Creating a dataframe preprocessed_data to containing all the merged columns\n",
    "preprocessed_data=pd.merge(merge2, preprocessed_review_header, left_index=True, right_index=True)"
   ]
  },
  {
   "cell_type": "code",
   "execution_count": 54,
   "metadata": {},
   "outputs": [
    {
     "data": {
      "text/html": [
       "<div>\n",
       "<style scoped>\n",
       "    .dataframe tbody tr th:only-of-type {\n",
       "        vertical-align: middle;\n",
       "    }\n",
       "\n",
       "    .dataframe tbody tr th {\n",
       "        vertical-align: top;\n",
       "    }\n",
       "\n",
       "    .dataframe thead th {\n",
       "        text-align: right;\n",
       "    }\n",
       "</style>\n",
       "<table border=\"1\" class=\"dataframe\">\n",
       "  <thead>\n",
       "    <tr style=\"text-align: right;\">\n",
       "      <th></th>\n",
       "      <th>Rev_id</th>\n",
       "      <th>Retailer</th>\n",
       "      <th>Division</th>\n",
       "      <th>Category</th>\n",
       "      <th>Department</th>\n",
       "      <th>Product_URL</th>\n",
       "      <th>Brand</th>\n",
       "      <th>Product_Name</th>\n",
       "      <th>Final_Price_after_Discount</th>\n",
       "      <th>Review_Link</th>\n",
       "      <th>Review_Header</th>\n",
       "      <th>Review_Creation_Date</th>\n",
       "      <th>Review_Rating_Score</th>\n",
       "      <th>Review_Text</th>\n",
       "      <th>preprocessed_review_text</th>\n",
       "      <th>preprocessed_product_name</th>\n",
       "      <th>preprocessed_review_header</th>\n",
       "    </tr>\n",
       "  </thead>\n",
       "  <tbody>\n",
       "    <tr>\n",
       "      <th>0</th>\n",
       "      <td>1</td>\n",
       "      <td>Homedepot</td>\n",
       "      <td>lighting</td>\n",
       "      <td>ceiling_fans</td>\n",
       "      <td>ceiling_fans_with_lights</td>\n",
       "      <td>https://www.homedepot.com/p/Hampton-Bay-Rockpo...</td>\n",
       "      <td>hampton_bay</td>\n",
       "      <td>Rockport 52 in. LED Brushed Nickel Ceiling Fan...</td>\n",
       "      <td>69.97</td>\n",
       "      <td>https://www.homedepot.com/ReviewServices/revie...</td>\n",
       "      <td>Excellent fan for an excellent price ...</td>\n",
       "      <td>2018-04-24</td>\n",
       "      <td>1</td>\n",
       "      <td>Excellent fan for an excellent price</td>\n",
       "      <td>excellent fan excellent price</td>\n",
       "      <td>rockport_52_led_brushed_nickel_ceiling_fan_lig...</td>\n",
       "      <td>excellent fan excellent price</td>\n",
       "    </tr>\n",
       "    <tr>\n",
       "      <th>1</th>\n",
       "      <td>2</td>\n",
       "      <td>Homedepot</td>\n",
       "      <td>lighting</td>\n",
       "      <td>ceiling_fans</td>\n",
       "      <td>ceiling_fans_with_lights</td>\n",
       "      <td>https://www.homedepot.com/p/Hampton-Bay-Rockpo...</td>\n",
       "      <td>hampton_bay</td>\n",
       "      <td>Rockport 52 in. LED Brushed Nickel Ceiling Fan...</td>\n",
       "      <td>69.97</td>\n",
       "      <td>https://www.homedepot.com/ReviewServices/revie...</td>\n",
       "      <td>I put these fans in my spec houses and everyon...</td>\n",
       "      <td>2019-10-15</td>\n",
       "      <td>1</td>\n",
       "      <td>I put these fans in my spec houses and everyon...</td>\n",
       "      <td>put fans spec houses everyone likes like price...</td>\n",
       "      <td>rockport_52_led_brushed_nickel_ceiling_fan_lig...</td>\n",
       "      <td>put fans spec houses everyone</td>\n",
       "    </tr>\n",
       "    <tr>\n",
       "      <th>2</th>\n",
       "      <td>3</td>\n",
       "      <td>Homedepot</td>\n",
       "      <td>lighting</td>\n",
       "      <td>ceiling_fans</td>\n",
       "      <td>ceiling_fans_with_lights</td>\n",
       "      <td>https://www.homedepot.com/p/Hampton-Bay-Rockpo...</td>\n",
       "      <td>hampton_bay</td>\n",
       "      <td>Rockport 52 in. LED Brushed Nickel Ceiling Fan...</td>\n",
       "      <td>69.97</td>\n",
       "      <td>https://www.homedepot.com/ReviewServices/revie...</td>\n",
       "      <td>5 Star Review</td>\n",
       "      <td>2019-07-03</td>\n",
       "      <td>1</td>\n",
       "      <td>Rating provided by a verified purchaser</td>\n",
       "      <td>rating provided verified purchaser</td>\n",
       "      <td>rockport_52_led_brushed_nickel_ceiling_fan_lig...</td>\n",
       "      <td>5 star review</td>\n",
       "    </tr>\n",
       "    <tr>\n",
       "      <th>3</th>\n",
       "      <td>4</td>\n",
       "      <td>Homedepot</td>\n",
       "      <td>lighting</td>\n",
       "      <td>ceiling_fans</td>\n",
       "      <td>ceiling_fans_with_lights</td>\n",
       "      <td>https://www.homedepot.com/p/Hampton-Bay-Rockpo...</td>\n",
       "      <td>hampton_bay</td>\n",
       "      <td>Rockport 52 in. LED Brushed Nickel Ceiling Fan...</td>\n",
       "      <td>69.97</td>\n",
       "      <td>https://www.homedepot.com/ReviewServices/revie...</td>\n",
       "      <td>Easy to put together, our 3rd purchase  for th...</td>\n",
       "      <td>2019-01-17</td>\n",
       "      <td>1</td>\n",
       "      <td>Easy to put together, our 3rd purchase  for th...</td>\n",
       "      <td>easy put together 3rd purchase brand 3 rooms f...</td>\n",
       "      <td>rockport_52_led_brushed_nickel_ceiling_fan_lig...</td>\n",
       "      <td>easy put together 3rd purchase</td>\n",
       "    </tr>\n",
       "    <tr>\n",
       "      <th>4</th>\n",
       "      <td>5</td>\n",
       "      <td>Homedepot</td>\n",
       "      <td>lighting</td>\n",
       "      <td>ceiling_fans</td>\n",
       "      <td>ceiling_fans_with_lights</td>\n",
       "      <td>https://www.homedepot.com/p/Hampton-Bay-Rockpo...</td>\n",
       "      <td>hampton_bay</td>\n",
       "      <td>Rockport 52 in. LED Brushed Nickel Ceiling Fan...</td>\n",
       "      <td>69.97</td>\n",
       "      <td>https://www.homedepot.com/ReviewServices/revie...</td>\n",
       "      <td>This fan it was easily to install and it is...</td>\n",
       "      <td>2019-02-09</td>\n",
       "      <td>1</td>\n",
       "      <td>This fan it was easily to install and it is a ...</td>\n",
       "      <td>fan easily install beautiful model</td>\n",
       "      <td>rockport_52_led_brushed_nickel_ceiling_fan_lig...</td>\n",
       "      <td>fan easily install</td>\n",
       "    </tr>\n",
       "  </tbody>\n",
       "</table>\n",
       "</div>"
      ],
      "text/plain": [
       "   Rev_id   Retailer  Division      Category                Department  \\\n",
       "0       1  Homedepot  lighting  ceiling_fans  ceiling_fans_with_lights   \n",
       "1       2  Homedepot  lighting  ceiling_fans  ceiling_fans_with_lights   \n",
       "2       3  Homedepot  lighting  ceiling_fans  ceiling_fans_with_lights   \n",
       "3       4  Homedepot  lighting  ceiling_fans  ceiling_fans_with_lights   \n",
       "4       5  Homedepot  lighting  ceiling_fans  ceiling_fans_with_lights   \n",
       "\n",
       "                                         Product_URL        Brand  \\\n",
       "0  https://www.homedepot.com/p/Hampton-Bay-Rockpo...  hampton_bay   \n",
       "1  https://www.homedepot.com/p/Hampton-Bay-Rockpo...  hampton_bay   \n",
       "2  https://www.homedepot.com/p/Hampton-Bay-Rockpo...  hampton_bay   \n",
       "3  https://www.homedepot.com/p/Hampton-Bay-Rockpo...  hampton_bay   \n",
       "4  https://www.homedepot.com/p/Hampton-Bay-Rockpo...  hampton_bay   \n",
       "\n",
       "                                        Product_Name  \\\n",
       "0  Rockport 52 in. LED Brushed Nickel Ceiling Fan...   \n",
       "1  Rockport 52 in. LED Brushed Nickel Ceiling Fan...   \n",
       "2  Rockport 52 in. LED Brushed Nickel Ceiling Fan...   \n",
       "3  Rockport 52 in. LED Brushed Nickel Ceiling Fan...   \n",
       "4  Rockport 52 in. LED Brushed Nickel Ceiling Fan...   \n",
       "\n",
       "   Final_Price_after_Discount  \\\n",
       "0                       69.97   \n",
       "1                       69.97   \n",
       "2                       69.97   \n",
       "3                       69.97   \n",
       "4                       69.97   \n",
       "\n",
       "                                         Review_Link  \\\n",
       "0  https://www.homedepot.com/ReviewServices/revie...   \n",
       "1  https://www.homedepot.com/ReviewServices/revie...   \n",
       "2  https://www.homedepot.com/ReviewServices/revie...   \n",
       "3  https://www.homedepot.com/ReviewServices/revie...   \n",
       "4  https://www.homedepot.com/ReviewServices/revie...   \n",
       "\n",
       "                                       Review_Header Review_Creation_Date  \\\n",
       "0           Excellent fan for an excellent price ...           2018-04-24   \n",
       "1  I put these fans in my spec houses and everyon...           2019-10-15   \n",
       "2                                      5 Star Review           2019-07-03   \n",
       "3  Easy to put together, our 3rd purchase  for th...           2019-01-17   \n",
       "4     This fan it was easily to install and it is...           2019-02-09   \n",
       "\n",
       "   Review_Rating_Score                                        Review_Text  \\\n",
       "0                    1               Excellent fan for an excellent price   \n",
       "1                    1  I put these fans in my spec houses and everyon...   \n",
       "2                    1            Rating provided by a verified purchaser   \n",
       "3                    1  Easy to put together, our 3rd purchase  for th...   \n",
       "4                    1  This fan it was easily to install and it is a ...   \n",
       "\n",
       "                            preprocessed_review_text  \\\n",
       "0                      excellent fan excellent price   \n",
       "1  put fans spec houses everyone likes like price...   \n",
       "2                 rating provided verified purchaser   \n",
       "3  easy put together 3rd purchase brand 3 rooms f...   \n",
       "4                 fan easily install beautiful model   \n",
       "\n",
       "                           preprocessed_product_name  \\\n",
       "0  rockport_52_led_brushed_nickel_ceiling_fan_lig...   \n",
       "1  rockport_52_led_brushed_nickel_ceiling_fan_lig...   \n",
       "2  rockport_52_led_brushed_nickel_ceiling_fan_lig...   \n",
       "3  rockport_52_led_brushed_nickel_ceiling_fan_lig...   \n",
       "4  rockport_52_led_brushed_nickel_ceiling_fan_lig...   \n",
       "\n",
       "       preprocessed_review_header  \n",
       "0   excellent fan excellent price  \n",
       "1   put fans spec houses everyone  \n",
       "2                   5 star review  \n",
       "3  easy put together 3rd purchase  \n",
       "4              fan easily install  "
      ]
     },
     "execution_count": 54,
     "metadata": {},
     "output_type": "execute_result"
    }
   ],
   "source": [
    "preprocessed_data.head()"
   ]
  },
  {
   "cell_type": "code",
   "execution_count": 55,
   "metadata": {},
   "outputs": [],
   "source": [
    "# From the preprocessed_data table we will drop the columns which will not be requeired in the further analysis\n",
    "preprocessed_data=preprocessed_data.drop(columns={'Review_Header','Review_Text','Product_Name'})"
   ]
  },
  {
   "cell_type": "code",
   "execution_count": 56,
   "metadata": {},
   "outputs": [
    {
     "data": {
      "text/html": [
       "<div>\n",
       "<style scoped>\n",
       "    .dataframe tbody tr th:only-of-type {\n",
       "        vertical-align: middle;\n",
       "    }\n",
       "\n",
       "    .dataframe tbody tr th {\n",
       "        vertical-align: top;\n",
       "    }\n",
       "\n",
       "    .dataframe thead th {\n",
       "        text-align: right;\n",
       "    }\n",
       "</style>\n",
       "<table border=\"1\" class=\"dataframe\">\n",
       "  <thead>\n",
       "    <tr style=\"text-align: right;\">\n",
       "      <th></th>\n",
       "      <th>Rev_id</th>\n",
       "      <th>Retailer</th>\n",
       "      <th>Division</th>\n",
       "      <th>Category</th>\n",
       "      <th>Department</th>\n",
       "      <th>Product_URL</th>\n",
       "      <th>Brand</th>\n",
       "      <th>Final_Price_after_Discount</th>\n",
       "      <th>Review_Link</th>\n",
       "      <th>Review_Creation_Date</th>\n",
       "      <th>Review_Rating_Score</th>\n",
       "      <th>preprocessed_review_text</th>\n",
       "      <th>preprocessed_product_name</th>\n",
       "      <th>preprocessed_review_header</th>\n",
       "    </tr>\n",
       "  </thead>\n",
       "  <tbody>\n",
       "    <tr>\n",
       "      <th>0</th>\n",
       "      <td>1</td>\n",
       "      <td>Homedepot</td>\n",
       "      <td>lighting</td>\n",
       "      <td>ceiling_fans</td>\n",
       "      <td>ceiling_fans_with_lights</td>\n",
       "      <td>https://www.homedepot.com/p/Hampton-Bay-Rockpo...</td>\n",
       "      <td>hampton_bay</td>\n",
       "      <td>69.97</td>\n",
       "      <td>https://www.homedepot.com/ReviewServices/revie...</td>\n",
       "      <td>2018-04-24</td>\n",
       "      <td>1</td>\n",
       "      <td>excellent fan excellent price</td>\n",
       "      <td>rockport_52_led_brushed_nickel_ceiling_fan_lig...</td>\n",
       "      <td>excellent fan excellent price</td>\n",
       "    </tr>\n",
       "    <tr>\n",
       "      <th>1</th>\n",
       "      <td>2</td>\n",
       "      <td>Homedepot</td>\n",
       "      <td>lighting</td>\n",
       "      <td>ceiling_fans</td>\n",
       "      <td>ceiling_fans_with_lights</td>\n",
       "      <td>https://www.homedepot.com/p/Hampton-Bay-Rockpo...</td>\n",
       "      <td>hampton_bay</td>\n",
       "      <td>69.97</td>\n",
       "      <td>https://www.homedepot.com/ReviewServices/revie...</td>\n",
       "      <td>2019-10-15</td>\n",
       "      <td>1</td>\n",
       "      <td>put fans spec houses everyone likes like price...</td>\n",
       "      <td>rockport_52_led_brushed_nickel_ceiling_fan_lig...</td>\n",
       "      <td>put fans spec houses everyone</td>\n",
       "    </tr>\n",
       "    <tr>\n",
       "      <th>2</th>\n",
       "      <td>3</td>\n",
       "      <td>Homedepot</td>\n",
       "      <td>lighting</td>\n",
       "      <td>ceiling_fans</td>\n",
       "      <td>ceiling_fans_with_lights</td>\n",
       "      <td>https://www.homedepot.com/p/Hampton-Bay-Rockpo...</td>\n",
       "      <td>hampton_bay</td>\n",
       "      <td>69.97</td>\n",
       "      <td>https://www.homedepot.com/ReviewServices/revie...</td>\n",
       "      <td>2019-07-03</td>\n",
       "      <td>1</td>\n",
       "      <td>rating provided verified purchaser</td>\n",
       "      <td>rockport_52_led_brushed_nickel_ceiling_fan_lig...</td>\n",
       "      <td>5 star review</td>\n",
       "    </tr>\n",
       "    <tr>\n",
       "      <th>3</th>\n",
       "      <td>4</td>\n",
       "      <td>Homedepot</td>\n",
       "      <td>lighting</td>\n",
       "      <td>ceiling_fans</td>\n",
       "      <td>ceiling_fans_with_lights</td>\n",
       "      <td>https://www.homedepot.com/p/Hampton-Bay-Rockpo...</td>\n",
       "      <td>hampton_bay</td>\n",
       "      <td>69.97</td>\n",
       "      <td>https://www.homedepot.com/ReviewServices/revie...</td>\n",
       "      <td>2019-01-17</td>\n",
       "      <td>1</td>\n",
       "      <td>easy put together 3rd purchase brand 3 rooms f...</td>\n",
       "      <td>rockport_52_led_brushed_nickel_ceiling_fan_lig...</td>\n",
       "      <td>easy put together 3rd purchase</td>\n",
       "    </tr>\n",
       "    <tr>\n",
       "      <th>4</th>\n",
       "      <td>5</td>\n",
       "      <td>Homedepot</td>\n",
       "      <td>lighting</td>\n",
       "      <td>ceiling_fans</td>\n",
       "      <td>ceiling_fans_with_lights</td>\n",
       "      <td>https://www.homedepot.com/p/Hampton-Bay-Rockpo...</td>\n",
       "      <td>hampton_bay</td>\n",
       "      <td>69.97</td>\n",
       "      <td>https://www.homedepot.com/ReviewServices/revie...</td>\n",
       "      <td>2019-02-09</td>\n",
       "      <td>1</td>\n",
       "      <td>fan easily install beautiful model</td>\n",
       "      <td>rockport_52_led_brushed_nickel_ceiling_fan_lig...</td>\n",
       "      <td>fan easily install</td>\n",
       "    </tr>\n",
       "  </tbody>\n",
       "</table>\n",
       "</div>"
      ],
      "text/plain": [
       "   Rev_id   Retailer  Division      Category                Department  \\\n",
       "0       1  Homedepot  lighting  ceiling_fans  ceiling_fans_with_lights   \n",
       "1       2  Homedepot  lighting  ceiling_fans  ceiling_fans_with_lights   \n",
       "2       3  Homedepot  lighting  ceiling_fans  ceiling_fans_with_lights   \n",
       "3       4  Homedepot  lighting  ceiling_fans  ceiling_fans_with_lights   \n",
       "4       5  Homedepot  lighting  ceiling_fans  ceiling_fans_with_lights   \n",
       "\n",
       "                                         Product_URL        Brand  \\\n",
       "0  https://www.homedepot.com/p/Hampton-Bay-Rockpo...  hampton_bay   \n",
       "1  https://www.homedepot.com/p/Hampton-Bay-Rockpo...  hampton_bay   \n",
       "2  https://www.homedepot.com/p/Hampton-Bay-Rockpo...  hampton_bay   \n",
       "3  https://www.homedepot.com/p/Hampton-Bay-Rockpo...  hampton_bay   \n",
       "4  https://www.homedepot.com/p/Hampton-Bay-Rockpo...  hampton_bay   \n",
       "\n",
       "   Final_Price_after_Discount  \\\n",
       "0                       69.97   \n",
       "1                       69.97   \n",
       "2                       69.97   \n",
       "3                       69.97   \n",
       "4                       69.97   \n",
       "\n",
       "                                         Review_Link Review_Creation_Date  \\\n",
       "0  https://www.homedepot.com/ReviewServices/revie...           2018-04-24   \n",
       "1  https://www.homedepot.com/ReviewServices/revie...           2019-10-15   \n",
       "2  https://www.homedepot.com/ReviewServices/revie...           2019-07-03   \n",
       "3  https://www.homedepot.com/ReviewServices/revie...           2019-01-17   \n",
       "4  https://www.homedepot.com/ReviewServices/revie...           2019-02-09   \n",
       "\n",
       "   Review_Rating_Score                           preprocessed_review_text  \\\n",
       "0                    1                      excellent fan excellent price   \n",
       "1                    1  put fans spec houses everyone likes like price...   \n",
       "2                    1                 rating provided verified purchaser   \n",
       "3                    1  easy put together 3rd purchase brand 3 rooms f...   \n",
       "4                    1                 fan easily install beautiful model   \n",
       "\n",
       "                           preprocessed_product_name  \\\n",
       "0  rockport_52_led_brushed_nickel_ceiling_fan_lig...   \n",
       "1  rockport_52_led_brushed_nickel_ceiling_fan_lig...   \n",
       "2  rockport_52_led_brushed_nickel_ceiling_fan_lig...   \n",
       "3  rockport_52_led_brushed_nickel_ceiling_fan_lig...   \n",
       "4  rockport_52_led_brushed_nickel_ceiling_fan_lig...   \n",
       "\n",
       "       preprocessed_review_header  \n",
       "0   excellent fan excellent price  \n",
       "1   put fans spec houses everyone  \n",
       "2                   5 star review  \n",
       "3  easy put together 3rd purchase  \n",
       "4              fan easily install  "
      ]
     },
     "execution_count": 56,
     "metadata": {},
     "output_type": "execute_result"
    }
   ],
   "source": [
    "preprocessed_data.head(5)"
   ]
  },
  {
   "cell_type": "code",
   "execution_count": 57,
   "metadata": {},
   "outputs": [
    {
     "data": {
      "text/plain": [
       "(1122, 14)"
      ]
     },
     "execution_count": 57,
     "metadata": {},
     "output_type": "execute_result"
    }
   ],
   "source": [
    "preprocessed_data.shape"
   ]
  },
  {
   "cell_type": "markdown",
   "metadata": {},
   "source": [
    "Our final dataset contains 1122 rows and 14 columns. We will save this dataframe in the form of a csv file which can be used in further analysis."
   ]
  },
  {
   "cell_type": "code",
   "execution_count": 58,
   "metadata": {},
   "outputs": [],
   "source": [
    "# Saving the preprocessed data into a csv file\n",
    "preprocessed_data.to_csv('preprocessed_data.csv')"
   ]
  }
 ],
 "metadata": {
  "kernelspec": {
   "display_name": "Python 3",
   "language": "python",
   "name": "python3"
  },
  "language_info": {
   "codemirror_mode": {
    "name": "ipython",
    "version": 3
   },
   "file_extension": ".py",
   "mimetype": "text/x-python",
   "name": "python",
   "nbconvert_exporter": "python",
   "pygments_lexer": "ipython3",
   "version": "3.8.3"
  }
 },
 "nbformat": 4,
 "nbformat_minor": 4
}
