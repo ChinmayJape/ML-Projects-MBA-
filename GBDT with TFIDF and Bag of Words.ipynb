{
 "cells": [
  {
   "cell_type": "markdown",
   "metadata": {},
   "source": [
    "# GBDT with Bag of Words and TFIDF"
   ]
  },
  {
   "cell_type": "markdown",
   "metadata": {},
   "source": [
    "### Importing the important libraries"
   ]
  },
  {
   "cell_type": "code",
   "execution_count": 1,
   "metadata": {},
   "outputs": [],
   "source": [
    "%matplotlib inline\n",
    "import warnings\n",
    "warnings.filterwarnings(\"ignore\")\n",
    "\n",
    "import pandas as pd\n",
    "import numpy as np\n",
    "import nltk\n",
    "import string\n",
    "import matplotlib.pyplot as plt\n",
    "import seaborn as sns\n",
    "from sklearn.feature_extraction.text import TfidfTransformer\n",
    "from sklearn.feature_extraction.text import TfidfVectorizer\n",
    "\n",
    "from sklearn.feature_extraction.text import CountVectorizer\n",
    "from sklearn.metrics import confusion_matrix\n",
    "from sklearn import metrics\n",
    "from sklearn.metrics import roc_curve, auc\n",
    "from nltk.stem.porter import PorterStemmer\n",
    "\n",
    "import re\n",
    "# Tutorial about Python regular expressions: https://pymotw.com/2/re/\n",
    "import string\n",
    "\n",
    "from tqdm import tqdm\n",
    "import os"
   ]
  },
  {
   "cell_type": "markdown",
   "metadata": {},
   "source": [
    "#### Importing the dataset"
   ]
  },
  {
   "cell_type": "code",
   "execution_count": 2,
   "metadata": {},
   "outputs": [],
   "source": [
    "df = pd.read_csv('preprocessed_data.csv')"
   ]
  },
  {
   "cell_type": "markdown",
   "metadata": {},
   "source": [
    "## Calculating sentiment scores of essay using nltk"
   ]
  },
  {
   "cell_type": "code",
   "execution_count": 3,
   "metadata": {},
   "outputs": [],
   "source": [
    "# Importing nltk and SentimentIntensityAnalyzer\n",
    "import nltk\n",
    "from nltk.sentiment.vader import SentimentIntensityAnalyzer"
   ]
  },
  {
   "cell_type": "code",
   "execution_count": 4,
   "metadata": {},
   "outputs": [
    {
     "name": "stderr",
     "output_type": "stream",
     "text": [
      "[nltk_data] Downloading package vader_lexicon to\n",
      "[nltk_data]     C:\\Users\\chanchal\\AppData\\Roaming\\nltk_data...\n",
      "[nltk_data]   Package vader_lexicon is already up-to-date!\n"
     ]
    },
    {
     "data": {
      "text/plain": [
       "True"
      ]
     },
     "execution_count": 4,
     "metadata": {},
     "output_type": "execute_result"
    }
   ],
   "source": [
    "nltk.download('vader_lexicon')"
   ]
  },
  {
   "cell_type": "code",
   "execution_count": 5,
   "metadata": {},
   "outputs": [],
   "source": [
    "# Initalizing SentimentIntensityAnalyzer\n",
    "sid = SentimentIntensityAnalyzer()"
   ]
  },
  {
   "cell_type": "code",
   "execution_count": 6,
   "metadata": {},
   "outputs": [],
   "source": [
    "# Storing essay from the dataframe in a variable 'essay'\n",
    "preprocessed_review_text = df['preprocessed_review_text']"
   ]
  },
  {
   "cell_type": "code",
   "execution_count": 7,
   "metadata": {},
   "outputs": [],
   "source": [
    "# Getting polarity scores for each essay and storing it in a dictionary\n",
    "scores_dict = df['preprocessed_review_text'].apply(lambda essay:sid.polarity_scores(str(essay)))"
   ]
  },
  {
   "cell_type": "code",
   "execution_count": 8,
   "metadata": {},
   "outputs": [],
   "source": [
    "# Converting the dictionary to a dataframe, this will be used to merge with our main dataframe\n",
    "df1=pd.DataFrame.from_records(scores_dict)"
   ]
  },
  {
   "cell_type": "code",
   "execution_count": 9,
   "metadata": {},
   "outputs": [
    {
     "data": {
      "text/html": [
       "<div>\n",
       "<style scoped>\n",
       "    .dataframe tbody tr th:only-of-type {\n",
       "        vertical-align: middle;\n",
       "    }\n",
       "\n",
       "    .dataframe tbody tr th {\n",
       "        vertical-align: top;\n",
       "    }\n",
       "\n",
       "    .dataframe thead th {\n",
       "        text-align: right;\n",
       "    }\n",
       "</style>\n",
       "<table border=\"1\" class=\"dataframe\">\n",
       "  <thead>\n",
       "    <tr style=\"text-align: right;\">\n",
       "      <th></th>\n",
       "      <th>neg</th>\n",
       "      <th>neu</th>\n",
       "      <th>pos</th>\n",
       "      <th>compound</th>\n",
       "    </tr>\n",
       "  </thead>\n",
       "  <tbody>\n",
       "    <tr>\n",
       "      <th>0</th>\n",
       "      <td>0.0</td>\n",
       "      <td>0.093</td>\n",
       "      <td>0.907</td>\n",
       "      <td>0.8658</td>\n",
       "    </tr>\n",
       "  </tbody>\n",
       "</table>\n",
       "</div>"
      ],
      "text/plain": [
       "   neg    neu    pos  compound\n",
       "0  0.0  0.093  0.907    0.8658"
      ]
     },
     "execution_count": 9,
     "metadata": {},
     "output_type": "execute_result"
    }
   ],
   "source": [
    "# Checking the head of the new dataframe\n",
    "df1.head(1)"
   ]
  },
  {
   "cell_type": "code",
   "execution_count": 10,
   "metadata": {},
   "outputs": [],
   "source": [
    "# Merging the main dataframe with the new dataframe\n",
    "df=pd.merge(df, df1, left_index=True, right_index=True)"
   ]
  },
  {
   "cell_type": "code",
   "execution_count": 11,
   "metadata": {},
   "outputs": [
    {
     "data": {
      "text/html": [
       "<div>\n",
       "<style scoped>\n",
       "    .dataframe tbody tr th:only-of-type {\n",
       "        vertical-align: middle;\n",
       "    }\n",
       "\n",
       "    .dataframe tbody tr th {\n",
       "        vertical-align: top;\n",
       "    }\n",
       "\n",
       "    .dataframe thead th {\n",
       "        text-align: right;\n",
       "    }\n",
       "</style>\n",
       "<table border=\"1\" class=\"dataframe\">\n",
       "  <thead>\n",
       "    <tr style=\"text-align: right;\">\n",
       "      <th></th>\n",
       "      <th>Unnamed: 0</th>\n",
       "      <th>Rev_id</th>\n",
       "      <th>Retailer</th>\n",
       "      <th>Division</th>\n",
       "      <th>Category</th>\n",
       "      <th>Department</th>\n",
       "      <th>Product_URL</th>\n",
       "      <th>Brand</th>\n",
       "      <th>Final_Price_after_Discount</th>\n",
       "      <th>Review_Link</th>\n",
       "      <th>Review_Creation_Date</th>\n",
       "      <th>Review_Rating_Score</th>\n",
       "      <th>preprocessed_review_text</th>\n",
       "      <th>preprocessed_product_name</th>\n",
       "      <th>preprocessed_review_header</th>\n",
       "      <th>neg</th>\n",
       "      <th>neu</th>\n",
       "      <th>pos</th>\n",
       "      <th>compound</th>\n",
       "    </tr>\n",
       "  </thead>\n",
       "  <tbody>\n",
       "    <tr>\n",
       "      <th>0</th>\n",
       "      <td>0</td>\n",
       "      <td>1</td>\n",
       "      <td>Homedepot</td>\n",
       "      <td>lighting</td>\n",
       "      <td>ceiling_fans</td>\n",
       "      <td>ceiling_fans_with_lights</td>\n",
       "      <td>https://www.homedepot.com/p/Hampton-Bay-Rockpo...</td>\n",
       "      <td>hampton_bay</td>\n",
       "      <td>69.97</td>\n",
       "      <td>https://www.homedepot.com/ReviewServices/revie...</td>\n",
       "      <td>2018-04-24</td>\n",
       "      <td>1</td>\n",
       "      <td>excellent fan excellent price</td>\n",
       "      <td>rockport_52_led_brushed_nickel_ceiling_fan_lig...</td>\n",
       "      <td>excellent fan excellent price</td>\n",
       "      <td>0.0</td>\n",
       "      <td>0.093</td>\n",
       "      <td>0.907</td>\n",
       "      <td>0.8658</td>\n",
       "    </tr>\n",
       "  </tbody>\n",
       "</table>\n",
       "</div>"
      ],
      "text/plain": [
       "   Unnamed: 0  Rev_id   Retailer  Division      Category  \\\n",
       "0           0       1  Homedepot  lighting  ceiling_fans   \n",
       "\n",
       "                 Department  \\\n",
       "0  ceiling_fans_with_lights   \n",
       "\n",
       "                                         Product_URL        Brand  \\\n",
       "0  https://www.homedepot.com/p/Hampton-Bay-Rockpo...  hampton_bay   \n",
       "\n",
       "   Final_Price_after_Discount  \\\n",
       "0                       69.97   \n",
       "\n",
       "                                         Review_Link Review_Creation_Date  \\\n",
       "0  https://www.homedepot.com/ReviewServices/revie...           2018-04-24   \n",
       "\n",
       "   Review_Rating_Score       preprocessed_review_text  \\\n",
       "0                    1  excellent fan excellent price   \n",
       "\n",
       "                           preprocessed_product_name  \\\n",
       "0  rockport_52_led_brushed_nickel_ceiling_fan_lig...   \n",
       "\n",
       "      preprocessed_review_header  neg    neu    pos  compound  \n",
       "0  excellent fan excellent price  0.0  0.093  0.907    0.8658  "
      ]
     },
     "execution_count": 11,
     "metadata": {},
     "output_type": "execute_result"
    }
   ],
   "source": [
    "# The dataframe that will be used in our further analysis\n",
    "df.head(1)"
   ]
  },
  {
   "cell_type": "markdown",
   "metadata": {},
   "source": [
    "### Splitting data into Train and Test: Stratified Sampling"
   ]
  },
  {
   "cell_type": "code",
   "execution_count": 12,
   "metadata": {},
   "outputs": [
    {
     "data": {
      "text/html": [
       "<div>\n",
       "<style scoped>\n",
       "    .dataframe tbody tr th:only-of-type {\n",
       "        vertical-align: middle;\n",
       "    }\n",
       "\n",
       "    .dataframe tbody tr th {\n",
       "        vertical-align: top;\n",
       "    }\n",
       "\n",
       "    .dataframe thead th {\n",
       "        text-align: right;\n",
       "    }\n",
       "</style>\n",
       "<table border=\"1\" class=\"dataframe\">\n",
       "  <thead>\n",
       "    <tr style=\"text-align: right;\">\n",
       "      <th></th>\n",
       "      <th>Rev_id</th>\n",
       "      <th>Retailer</th>\n",
       "      <th>Division</th>\n",
       "      <th>Category</th>\n",
       "      <th>Department</th>\n",
       "      <th>Product_URL</th>\n",
       "      <th>Brand</th>\n",
       "      <th>Final_Price_after_Discount</th>\n",
       "      <th>Review_Link</th>\n",
       "      <th>Review_Creation_Date</th>\n",
       "      <th>preprocessed_review_text</th>\n",
       "      <th>preprocessed_product_name</th>\n",
       "      <th>preprocessed_review_header</th>\n",
       "      <th>neg</th>\n",
       "      <th>neu</th>\n",
       "      <th>pos</th>\n",
       "      <th>compound</th>\n",
       "    </tr>\n",
       "  </thead>\n",
       "  <tbody>\n",
       "    <tr>\n",
       "      <th>0</th>\n",
       "      <td>1</td>\n",
       "      <td>Homedepot</td>\n",
       "      <td>lighting</td>\n",
       "      <td>ceiling_fans</td>\n",
       "      <td>ceiling_fans_with_lights</td>\n",
       "      <td>https://www.homedepot.com/p/Hampton-Bay-Rockpo...</td>\n",
       "      <td>hampton_bay</td>\n",
       "      <td>69.97</td>\n",
       "      <td>https://www.homedepot.com/ReviewServices/revie...</td>\n",
       "      <td>2018-04-24</td>\n",
       "      <td>excellent fan excellent price</td>\n",
       "      <td>rockport_52_led_brushed_nickel_ceiling_fan_lig...</td>\n",
       "      <td>excellent fan excellent price</td>\n",
       "      <td>0.0</td>\n",
       "      <td>0.093</td>\n",
       "      <td>0.907</td>\n",
       "      <td>0.8658</td>\n",
       "    </tr>\n",
       "  </tbody>\n",
       "</table>\n",
       "</div>"
      ],
      "text/plain": [
       "   Rev_id   Retailer  Division      Category                Department  \\\n",
       "0       1  Homedepot  lighting  ceiling_fans  ceiling_fans_with_lights   \n",
       "\n",
       "                                         Product_URL        Brand  \\\n",
       "0  https://www.homedepot.com/p/Hampton-Bay-Rockpo...  hampton_bay   \n",
       "\n",
       "   Final_Price_after_Discount  \\\n",
       "0                       69.97   \n",
       "\n",
       "                                         Review_Link Review_Creation_Date  \\\n",
       "0  https://www.homedepot.com/ReviewServices/revie...           2018-04-24   \n",
       "\n",
       "        preprocessed_review_text  \\\n",
       "0  excellent fan excellent price   \n",
       "\n",
       "                           preprocessed_product_name  \\\n",
       "0  rockport_52_led_brushed_nickel_ceiling_fan_lig...   \n",
       "\n",
       "      preprocessed_review_header  neg    neu    pos  compound  \n",
       "0  excellent fan excellent price  0.0  0.093  0.907    0.8658  "
      ]
     },
     "execution_count": 12,
     "metadata": {},
     "output_type": "execute_result"
    }
   ],
   "source": [
    "# Segregating the dependent and independent variables as y and X respectively\n",
    "y = df['Review_Rating_Score'].values\n",
    "X = df.drop(['Review_Rating_Score','Unnamed: 0'], axis=1)\n",
    "X.head(1)"
   ]
  },
  {
   "cell_type": "code",
   "execution_count": 13,
   "metadata": {},
   "outputs": [],
   "source": [
    "# Splitting the data into train and test set\n",
    "from sklearn.model_selection import train_test_split\n",
    "X_train, X_test, y_train, y_test = train_test_split(X, y, test_size=0.25, stratify=y)"
   ]
  },
  {
   "cell_type": "code",
   "execution_count": 14,
   "metadata": {},
   "outputs": [
    {
     "name": "stdout",
     "output_type": "stream",
     "text": [
      "(841, 17) (841,)\n",
      "(281, 17) (281,)\n"
     ]
    }
   ],
   "source": [
    "# Printing the shape of the data\n",
    "print(X_train.shape, y_train.shape)\n",
    "print(X_test.shape, y_test.shape)"
   ]
  },
  {
   "cell_type": "markdown",
   "metadata": {},
   "source": [
    "# Bag of Words"
   ]
  },
  {
   "cell_type": "markdown",
   "metadata": {},
   "source": [
    "### Review Text"
   ]
  },
  {
   "cell_type": "code",
   "execution_count": 15,
   "metadata": {},
   "outputs": [],
   "source": [
    "# Implementing Bag of Words\n",
    "vectorizer_bow = CountVectorizer(min_df=5)"
   ]
  },
  {
   "cell_type": "code",
   "execution_count": 16,
   "metadata": {},
   "outputs": [
    {
     "data": {
      "text/plain": [
       "CountVectorizer(min_df=5)"
      ]
     },
     "execution_count": 16,
     "metadata": {},
     "output_type": "execute_result"
    }
   ],
   "source": [
    "# Applying fit method on 'preprocessed_review_text' column\n",
    "vectorizer_bow.fit(X_train['preprocessed_review_text'].values) # fit has to happen only on train data"
   ]
  },
  {
   "cell_type": "code",
   "execution_count": 17,
   "metadata": {},
   "outputs": [],
   "source": [
    "# Applying transform method on train and test set\n",
    "X_train_review_text_bow = vectorizer_bow.transform(X_train['preprocessed_review_text'].values)"
   ]
  },
  {
   "cell_type": "code",
   "execution_count": 18,
   "metadata": {},
   "outputs": [],
   "source": [
    "X_test_review_text_bow = vectorizer_bow.transform(X_test['preprocessed_review_text'].values)"
   ]
  },
  {
   "cell_type": "code",
   "execution_count": 19,
   "metadata": {},
   "outputs": [
    {
     "name": "stdout",
     "output_type": "stream",
     "text": [
      "After vectorizations\n",
      "(841, 595) (841,)\n",
      "(281, 595) (281,)\n"
     ]
    }
   ],
   "source": [
    "# Shape of the data after vectorization\n",
    "print(\"After vectorizations\")\n",
    "print(X_train_review_text_bow.shape, y_train.shape)\n",
    "print(X_test_review_text_bow.shape, y_test.shape)"
   ]
  },
  {
   "cell_type": "code",
   "execution_count": 20,
   "metadata": {},
   "outputs": [
    {
     "data": {
      "text/html": [
       "<div>\n",
       "<style scoped>\n",
       "    .dataframe tbody tr th:only-of-type {\n",
       "        vertical-align: middle;\n",
       "    }\n",
       "\n",
       "    .dataframe tbody tr th {\n",
       "        vertical-align: top;\n",
       "    }\n",
       "\n",
       "    .dataframe thead th {\n",
       "        text-align: right;\n",
       "    }\n",
       "</style>\n",
       "<table border=\"1\" class=\"dataframe\">\n",
       "  <thead>\n",
       "    <tr style=\"text-align: right;\">\n",
       "      <th></th>\n",
       "      <th>Rev_id</th>\n",
       "      <th>Retailer</th>\n",
       "      <th>Division</th>\n",
       "      <th>Category</th>\n",
       "      <th>Department</th>\n",
       "      <th>Product_URL</th>\n",
       "      <th>Brand</th>\n",
       "      <th>Final_Price_after_Discount</th>\n",
       "      <th>Review_Link</th>\n",
       "      <th>Review_Creation_Date</th>\n",
       "      <th>preprocessed_review_text</th>\n",
       "      <th>preprocessed_product_name</th>\n",
       "      <th>preprocessed_review_header</th>\n",
       "      <th>neg</th>\n",
       "      <th>neu</th>\n",
       "      <th>pos</th>\n",
       "      <th>compound</th>\n",
       "    </tr>\n",
       "  </thead>\n",
       "  <tbody>\n",
       "    <tr>\n",
       "      <th>714</th>\n",
       "      <td>750</td>\n",
       "      <td>Lowes</td>\n",
       "      <td>lighting_&amp;_ceiling_fans</td>\n",
       "      <td>ceiling_fans_&amp;_accessories</td>\n",
       "      <td>ceiling_fans</td>\n",
       "      <td>https://www.lowes.com/pd/Harbor-Breeze-Armitag...</td>\n",
       "      <td>harbor_breeze</td>\n",
       "      <td>49.98</td>\n",
       "      <td>https://www.lowes.com/pd/Harbor-Breeze-Armitag...</td>\n",
       "      <td>2018-11-27</td>\n",
       "      <td>large base covered old one easy install</td>\n",
       "      <td>harbor_breeze_armitage_52_brushed_nickel_led_i...</td>\n",
       "      <td>ceiling fan light</td>\n",
       "      <td>0.000</td>\n",
       "      <td>0.674</td>\n",
       "      <td>0.326</td>\n",
       "      <td>0.4404</td>\n",
       "    </tr>\n",
       "    <tr>\n",
       "      <th>475</th>\n",
       "      <td>502</td>\n",
       "      <td>Homedepot</td>\n",
       "      <td>lighting</td>\n",
       "      <td>ceiling_fans</td>\n",
       "      <td>ceiling_fans_with_lights</td>\n",
       "      <td>https://www.homedepot.com/p/Hunter-Channelside...</td>\n",
       "      <td>hunter</td>\n",
       "      <td>219.00</td>\n",
       "      <td>https://www.homedepot.com/ReviewServices/revie...</td>\n",
       "      <td>2018-08-16</td>\n",
       "      <td>fan great great installation instructions cool...</td>\n",
       "      <td>channelside_52_led_indoor_outdoor_noble_bronze...</td>\n",
       "      <td>fan great great installation instructions cool...</td>\n",
       "      <td>0.046</td>\n",
       "      <td>0.659</td>\n",
       "      <td>0.295</td>\n",
       "      <td>0.9776</td>\n",
       "    </tr>\n",
       "  </tbody>\n",
       "</table>\n",
       "</div>"
      ],
      "text/plain": [
       "     Rev_id   Retailer                 Division                    Category  \\\n",
       "714     750      Lowes  lighting_&_ceiling_fans  ceiling_fans_&_accessories   \n",
       "475     502  Homedepot                 lighting                ceiling_fans   \n",
       "\n",
       "                   Department  \\\n",
       "714              ceiling_fans   \n",
       "475  ceiling_fans_with_lights   \n",
       "\n",
       "                                           Product_URL          Brand  \\\n",
       "714  https://www.lowes.com/pd/Harbor-Breeze-Armitag...  harbor_breeze   \n",
       "475  https://www.homedepot.com/p/Hunter-Channelside...         hunter   \n",
       "\n",
       "     Final_Price_after_Discount  \\\n",
       "714                       49.98   \n",
       "475                      219.00   \n",
       "\n",
       "                                           Review_Link Review_Creation_Date  \\\n",
       "714  https://www.lowes.com/pd/Harbor-Breeze-Armitag...           2018-11-27   \n",
       "475  https://www.homedepot.com/ReviewServices/revie...           2018-08-16   \n",
       "\n",
       "                              preprocessed_review_text  \\\n",
       "714            large base covered old one easy install   \n",
       "475  fan great great installation instructions cool...   \n",
       "\n",
       "                             preprocessed_product_name  \\\n",
       "714  harbor_breeze_armitage_52_brushed_nickel_led_i...   \n",
       "475  channelside_52_led_indoor_outdoor_noble_bronze...   \n",
       "\n",
       "                            preprocessed_review_header    neg    neu    pos  \\\n",
       "714                                  ceiling fan light  0.000  0.674  0.326   \n",
       "475  fan great great installation instructions cool...  0.046  0.659  0.295   \n",
       "\n",
       "     compound  \n",
       "714    0.4404  \n",
       "475    0.9776  "
      ]
     },
     "execution_count": 20,
     "metadata": {},
     "output_type": "execute_result"
    }
   ],
   "source": [
    "X_train.head(2)"
   ]
  },
  {
   "cell_type": "markdown",
   "metadata": {},
   "source": [
    "### Review_Header"
   ]
  },
  {
   "cell_type": "code",
   "execution_count": 21,
   "metadata": {},
   "outputs": [],
   "source": [
    "# Implementing Bag of Words\n",
    "vectorizer_bow_rh = CountVectorizer(min_df=5)"
   ]
  },
  {
   "cell_type": "code",
   "execution_count": 22,
   "metadata": {},
   "outputs": [
    {
     "data": {
      "text/plain": [
       "CountVectorizer(min_df=5)"
      ]
     },
     "execution_count": 22,
     "metadata": {},
     "output_type": "execute_result"
    }
   ],
   "source": [
    "# Applying fit method on 'preprocessed_review_text' column\n",
    "vectorizer_bow_rh.fit(X_train['preprocessed_review_header'].values) # fit has to happen only on train data"
   ]
  },
  {
   "cell_type": "code",
   "execution_count": 23,
   "metadata": {},
   "outputs": [],
   "source": [
    "# Applying transform method on train and test set\n",
    "X_train_review_header_bow = vectorizer_bow_rh.transform(X_train['preprocessed_review_header'].values)"
   ]
  },
  {
   "cell_type": "code",
   "execution_count": 24,
   "metadata": {},
   "outputs": [],
   "source": [
    "X_test_review_header_bow = vectorizer_bow_rh.transform(X_test['preprocessed_review_header'].values)"
   ]
  },
  {
   "cell_type": "code",
   "execution_count": 25,
   "metadata": {},
   "outputs": [
    {
     "name": "stdout",
     "output_type": "stream",
     "text": [
      "After vectorizations\n",
      "(841, 114) (841,)\n",
      "(281, 114) (281,)\n"
     ]
    }
   ],
   "source": [
    "# Shape of the data after vectorization\n",
    "print(\"After vectorizations\")\n",
    "print(X_train_review_header_bow.shape, y_train.shape)\n",
    "print(X_test_review_header_bow.shape, y_test.shape)"
   ]
  },
  {
   "cell_type": "markdown",
   "metadata": {},
   "source": [
    "## Encoding Numerical and Categorical Features"
   ]
  },
  {
   "cell_type": "markdown",
   "metadata": {},
   "source": [
    "#### Encoding Categorical Feature: Retailer"
   ]
  },
  {
   "cell_type": "code",
   "execution_count": 26,
   "metadata": {},
   "outputs": [
    {
     "name": "stdout",
     "output_type": "stream",
     "text": [
      "After vectorizations\n",
      "(841, 2) (841,)\n",
      "(281, 2) (281,)\n",
      "['homedepot', 'lowes']\n",
      "====================================================================================================\n"
     ]
    }
   ],
   "source": [
    "vectorizer_r = CountVectorizer()\n",
    "vectorizer_r.fit(X_train['Retailer'].values) # fit method on train data\n",
    "\n",
    "# we use the fitted CountVectorizer to convert the text to vector\n",
    "X_train_retailer_ohe = vectorizer_r.transform(X_train['Retailer'].values)\n",
    "X_test_retailer_ohe = vectorizer_r.transform(X_test['Retailer'].values)\n",
    "\n",
    "print(\"After vectorizations\")\n",
    "print(X_train_retailer_ohe.shape, y_train.shape)\n",
    "print(X_test_retailer_ohe.shape, y_test.shape)\n",
    "print(vectorizer_r.get_feature_names())\n",
    "print(\"=\"*100)"
   ]
  },
  {
   "cell_type": "markdown",
   "metadata": {},
   "source": [
    "#### Encoding Categorical Feature: Division"
   ]
  },
  {
   "cell_type": "code",
   "execution_count": 27,
   "metadata": {},
   "outputs": [
    {
     "name": "stdout",
     "output_type": "stream",
     "text": [
      "After vectorizations\n",
      "(841, 3) (841,)\n",
      "(281, 3) (281,)\n",
      "['_ceiling_fans', 'lighting', 'lighting_']\n",
      "====================================================================================================\n"
     ]
    }
   ],
   "source": [
    "vectorizer_d = CountVectorizer()\n",
    "vectorizer_d.fit(X_train['Division'].values) # fit method on train data\n",
    "\n",
    "# we use the fitted CountVectorizer to convert the text to vector\n",
    "X_train_division_ohe = vectorizer_d.transform(X_train['Division'].values)\n",
    "X_test_division_ohe = vectorizer_d.transform(X_test['Division'].values)\n",
    "\n",
    "print(\"After vectorizations\")\n",
    "print(X_train_division_ohe.shape, y_train.shape)\n",
    "print(X_test_division_ohe.shape, y_test.shape)\n",
    "print(vectorizer_d.get_feature_names())\n",
    "print(\"=\"*100)"
   ]
  },
  {
   "cell_type": "markdown",
   "metadata": {},
   "source": [
    "#### Encoding Categorical Feature: Category"
   ]
  },
  {
   "cell_type": "code",
   "execution_count": 28,
   "metadata": {},
   "outputs": [
    {
     "name": "stdout",
     "output_type": "stream",
     "text": [
      "After vectorizations\n",
      "(841, 3) (841,)\n",
      "(281, 3) (281,)\n",
      "['_accessories', 'ceiling_fans', 'ceiling_fans_']\n",
      "====================================================================================================\n"
     ]
    }
   ],
   "source": [
    "vectorizer_c = CountVectorizer()\n",
    "vectorizer_c.fit(X_train['Category'].values) # fit method on train data\n",
    "\n",
    "# we use the fitted CountVectorizer to convert the text to vector\n",
    "X_train_category_ohe = vectorizer_d.transform(X_train['Category'].values)\n",
    "X_test_category_ohe = vectorizer_d.transform(X_test['Category'].values)\n",
    "\n",
    "print(\"After vectorizations\")\n",
    "print(X_train_category_ohe.shape, y_train.shape)\n",
    "print(X_test_category_ohe.shape, y_test.shape)\n",
    "print(vectorizer_c.get_feature_names())\n",
    "print(\"=\"*100)"
   ]
  },
  {
   "cell_type": "markdown",
   "metadata": {},
   "source": [
    "#### Encoding Categorical Feature: Department"
   ]
  },
  {
   "cell_type": "code",
   "execution_count": 29,
   "metadata": {},
   "outputs": [
    {
     "name": "stdout",
     "output_type": "stream",
     "text": [
      "After vectorizations\n",
      "(841, 3) (841,)\n",
      "(281, 3) (281,)\n",
      "['ceiling_fans', 'ceiling_fans_with_lights', 'ceiling_fans_without_lights']\n",
      "====================================================================================================\n"
     ]
    }
   ],
   "source": [
    "vectorizer_de = CountVectorizer()\n",
    "vectorizer_de.fit(X_train['Department'].values) # fit method on train data\n",
    "\n",
    "# we use the fitted CountVectorizer to convert the text to vector\n",
    "X_train_department_ohe = vectorizer_d.transform(X_train['Department'].values)\n",
    "X_test_department_ohe = vectorizer_d.transform(X_test['Department'].values)\n",
    "\n",
    "print(\"After vectorizations\")\n",
    "print(X_train_department_ohe.shape, y_train.shape)\n",
    "print(X_test_department_ohe.shape, y_test.shape)\n",
    "print(vectorizer_de.get_feature_names())\n",
    "print(\"=\"*100)"
   ]
  },
  {
   "cell_type": "markdown",
   "metadata": {},
   "source": [
    "#### Encoding Categorical Feature: Brand"
   ]
  },
  {
   "cell_type": "code",
   "execution_count": 30,
   "metadata": {},
   "outputs": [
    {
     "name": "stdout",
     "output_type": "stream",
     "text": [
      "After vectorizations\n",
      "(841, 3) (841,)\n",
      "(281, 3) (281,)\n",
      "['brand_not_mentioned', 'fanimation_studio_collection', 'hampton_bay', 'harbor_breeze', 'home_decorators_collection', 'hunter', 'kichler']\n",
      "====================================================================================================\n"
     ]
    }
   ],
   "source": [
    "vectorizer_b = CountVectorizer()\n",
    "vectorizer_b.fit(X_train['Brand'].values) # fit method on train data\n",
    "\n",
    "# we use the fitted CountVectorizer to convert the text to vector\n",
    "X_train_brand_ohe = vectorizer_d.transform(X_train['Brand'].values)\n",
    "X_test_brand_ohe = vectorizer_d.transform(X_test['Brand'].values)\n",
    "\n",
    "print(\"After vectorizations\")\n",
    "print(X_train_brand_ohe.shape, y_train.shape)\n",
    "print(X_test_brand_ohe.shape, y_test.shape)\n",
    "print(vectorizer_b.get_feature_names())\n",
    "print(\"=\"*100)"
   ]
  },
  {
   "cell_type": "markdown",
   "metadata": {},
   "source": [
    "#### Encoding Categorical Feature: preprocessed_product_name"
   ]
  },
  {
   "cell_type": "code",
   "execution_count": 31,
   "metadata": {},
   "outputs": [
    {
     "name": "stdout",
     "output_type": "stream",
     "text": [
      "After vectorizations\n",
      "(841, 76) (841,)\n",
      "(281, 76) (281,)\n",
      "['altura_60_outdoor_oil_rubbed_bronze_ceiling_fan', 'altura_68_indoor_oil_rubbed_bronze_ceiling_fan_remote_control', 'antero_46_led_indoor_brushed_nickel_ceiling_fan_light', 'ashby_park_44_white_color_changing_integrated_led_brushed_nickel_ceiling_fan_light_kit', 'ashby_park_52_white_color_changing_integrated_led_brushed_nickel_ceiling_fan_light_kit_remote_control', 'barnes_bay_52_led_indoor_outdoor_natural_iron_ceiling_fan_light_kit', 'bellina_42_oil_rubbed_bronze_ceiling_fan_led_light_kit', 'brette_23_led_indoor_outdoor_brushed_nickel_ceiling_fan_light_kit_remote_control', 'brookhurst_52_led_indoor_white_ceiling_fan_light_kit', 'channelside_52_led_indoor_outdoor_noble_bronze_ceiling_fan_remote_control', 'channing_54_led_indoor_easy_install_noble_bronze_ceiling_fan_hunterexpress_feature_set', 'clarkston_ii_44_led_indoor_brushed_nickel_ceiling_fan_light_kit', 'connor_54_led_brushed_nickel_dual_mount_ceiling_fan_light_kit_remote_control', 'ellard_52_led_matte_black_indoor_ceiling_fan_lights', 'fanimation_studio_collection_aire_drop_52_brushed_nickel_led_indoor_ceiling_fan_light_kit_remote_5_blade', 'fanimation_studio_collection_aire_drop_52_matte_white_led_indoor_ceiling_fan_light_kit_remote_5_blade', 'fanimation_studio_collection_blitz_56_brushed_nickel_led_indoor_outdoor_ceiling_fan_light_kit_remote_7_blade', 'fanimation_studio_collection_blitz_56_matte_black_led_indoor_outdoor_ceiling_fan_light_kit_remote_7_blade', 'fanimation_studio_collection_prop_60_matte_gray_indoor_ceiling_fan_remote_3_blade', 'fanimation_studio_collection_slinger_v2_72_brushed_nickel_led_indoor_outdoor_commercial_residential_ceiling_fan_light_kit_included_remote_control_included_9_blade', 'fanimation_studio_collection_slinger_v2_72_matte_black_led_indoor_outdoor_ceiling_fan_light_kit_remote_9_blade', 'fanimation_studio_collection_weather_pylon_48_matte_black_led_indoor_outdoor_ceiling_fan_light_kit_remote_3_blade', 'federigo_48_integrated_led_indoor_nickel_ceiling_fan_light_kit_remote_control', 'gazebo_52_led_indoor_outdoor_natural_iron_ceiling_fan_light_kit', 'glendale_52_led_indoor_brushed_nickel_ceiling_fan_light_kit', 'grayton_54_led_indoor_outdoor_galvanized_ceiling_fan_light_kit_remote_control', 'harbor_breeze_armitage_42_white_led_indoor_flush_mount_ceiling_fan_light_kit_4_blade', 'harbor_breeze_armitage_52_bronze_led_indoor_flush_mount_ceiling_fan_light_kit_5_blade', 'harbor_breeze_armitage_52_brushed_nickel_led_indoor_flush_mount_ceiling_fan_light_kit_5_blade', 'harbor_breeze_armitage_builder_series_52_white_led_indoor_flush_mount_ceiling_fan_light_kit_5_blade', 'harbor_breeze_barnstaple_bay_52_bronze_indoor_ceiling_fan_light_kit_5_blade', 'harbor_breeze_barnstaple_bay_52_brushed_nickel_indoor_ceiling_fan_light_kit_5_blade', 'harbor_breeze_barnstaple_bay_52_white_indoor_ceiling_fan_light_kit_5_blade', 'harbor_breeze_bayou_creek_56_bronze_indoor_ceiling_fan_light_kit_remote_5_blade', 'harbor_breeze_beach_creek_44_brushed_nickel_led_indoor_ceiling_fan_light_kit_remote_3_blade', 'harbor_breeze_centreville_42_antique_brass_led_indoor_flush_mount_ceiling_fan_light_kit_5_blade', 'harbor_breeze_centreville_52_antique_brass_led_indoor_flush_mount_ceiling_fan_light_kit_5_blade', 'harbor_breeze_centreville_52_brushed_nickel_led_indoor_flush_mount_ceiling_fan_light_kit_5_blade', 'harbor_breeze_classic_36_white_led_indoor_ceiling_fan_light_kit_5_blade', 'harbor_breeze_kingsbury_70_oil_rubbed_bronze_indoor_ceiling_fan_light_kit_remote_5_blade', 'harbor_breeze_laralyn_32_oil_rubbed_bronze_led_indoor_ceiling_fan_light_kit_4_blade', 'harbor_breeze_mazon_44_brushed_nickel_indoor_flush_mount_ceiling_fan_light_kit_remote_3_blade', 'harbor_breeze_merrimack_52_antique_bronze_indoor_outdoor_ceiling_fan_light_kit_remote_5_blade', 'harbor_breeze_notus_52_brushed_nickel_led_indoor_ceiling_fan_light_kit_5_blade', 'harbor_breeze_pacific_grove_52_oil_rubbed_bronze_indoor_outdoor_ceiling_fan_5_blade', 'harbor_breeze_sail_stream_52_brushed_nickel_led_indoor_flush_mount_ceiling_fan_light_kit_remote_3_blade', 'harbor_breeze_sailstream_44_gloss_white_led_indoor_flush_mount_ceiling_fan_light_kit_remote_3_blade', 'hawkins_44_led_oil_rubbed_bronze_ceiling_fan_light', 'hugger_52_led_indoor_brushed_nickel_ceiling_fan_light_kit', 'hunter_creekside_led_52_satin_bronze_led_indoor_ceiling_fan_light_kit_5_blade', 'hunter_creekside_led_52_satin_nickel_led_indoor_ceiling_fan_light_kit_5_blade', 'hunter_lantern_bay_led_54_matte_black_led_indoor_outdoor_ceiling_fan_light_kit_remote_5_blade', 'hunter_lincoln_edison_style_led_52_matte_black_led_indoor_ceiling_fan_light_kit_5_blade', 'hunter_lincoln_edison_style_led_52_matte_bronze_led_indoor_ceiling_fan_light_kit_5_blade', 'kennesaw_42_led_indoor_white_ceiling_fan_light_kit', 'kensgrove_54_integrated_led_indoor_brushed_nickel_ceiling_fan_light_kit_remote_control', 'kensgrove_54_integrated_led_indoor_espresso_bronze_ceiling_fan_light_kit_remote_control', 'kensgrove_72_led_indoor_outdoor_espresso_bronze_ceiling_fan_remote_control', 'kichler_54_satin_bronze_led_indoor_ceiling_fan_light_kit_remote_3_blade', 'kichler_56_satin_black_indoor_ceiling_fan_remote_2_blade', 'kichler_barrington_52_distressed_black_led_indoor_ceiling_fan_light_kit_remote_5_blade', 'littleton_42_led_indoor_white_ceiling_fan_light_kit', 'menage_52_integrated_led_indoor_low_profile_brushed_nickel_ceiling_fan_light_kit', 'mercer_52_led_indoor_brushed_nickel_ceiling_fan_light_kit_remote_control', 'merwry_52_integrated_led_indoor_brushed_nickel_ceiling_fan_light_kit_remote_control', 'merwry_52_integrated_led_indoor_matte_black_ceiling_fan_light_kit_remote_control', 'merwry_52_integrated_led_indoor_white_ceiling_fan_light_kit_remote_control', 'middleton_42_led_indoor_brushed_nickel_ceiling_fan_light_kit', 'oakhurst_52_led_indoor_low_profile_new_bronze_ceiling_fan_light_kit', 'palm_cove_52_led_indoor_outdoor_natural_iron_ceiling_fan_light_kit', 'petersford_52_integrated_led_indoor_oil_rubbed_bronze_ceiling_fan_light_kit_remote_control', 'rockport_52_led_brushed_nickel_ceiling_fan_light_kit', 'rockport_52_led_oil_rubbed_bronze_ceiling_fan_light_kit', 'shanahan_52_led_indoor_outdoor_bronze_ceiling_fan_light_kit', 'tidal_breeze_56_led_indoor_distressed_koa_ceiling_fan_light_kit_remote_control', 'windward_iv_52_led_indoor_brushed_nickel_ceiling_fan_light_kit_remote_control']\n",
      "====================================================================================================\n"
     ]
    }
   ],
   "source": [
    "vectorizer_pn = CountVectorizer()\n",
    "vectorizer_pn.fit(X_train['preprocessed_product_name'].values) # fit method on train data\n",
    "\n",
    "# we use the fitted CountVectorizer to convert the text to vector\n",
    "X_train_pn_ohe = vectorizer_pn.transform(X_train['preprocessed_product_name'].values)\n",
    "X_test_pn_ohe = vectorizer_pn.transform(X_test['preprocessed_product_name'].values)\n",
    "\n",
    "print(\"After vectorizations\")\n",
    "print(X_train_pn_ohe.shape, y_train.shape)\n",
    "print(X_test_pn_ohe.shape, y_test.shape)\n",
    "print(vectorizer_pn.get_feature_names())\n",
    "print(\"=\"*100)"
   ]
  },
  {
   "cell_type": "markdown",
   "metadata": {},
   "source": [
    "#### Encoding Numerical Feature: Price"
   ]
  },
  {
   "cell_type": "code",
   "execution_count": 32,
   "metadata": {},
   "outputs": [
    {
     "name": "stdout",
     "output_type": "stream",
     "text": [
      "After vectorizations\n",
      "(841, 1) (841,)\n",
      "(281, 1) (281,)\n",
      "====================================================================================================\n"
     ]
    }
   ],
   "source": [
    "from sklearn.preprocessing import Normalizer\n",
    "normalizer_pr = Normalizer()\n",
    "\n",
    "normalizer_pr.fit(X_train['Final_Price_after_Discount'].values.reshape(-1,1)) # Applying fit method on train data after reshaping the data\n",
    "\n",
    "X_train_price_norm = normalizer_pr.transform(X_train['Final_Price_after_Discount'].values.reshape(-1,1)) # Applying transform method on train and test\n",
    "X_test_price_norm = normalizer_pr.transform(X_test['Final_Price_after_Discount'].values.reshape(-1,1))\n",
    "\n",
    "print(\"After vectorizations\")\n",
    "print(X_train_price_norm.shape, y_train.shape)\n",
    "print(X_test_price_norm.shape, y_test.shape)\n",
    "print(\"=\"*100)"
   ]
  },
  {
   "cell_type": "markdown",
   "metadata": {},
   "source": [
    "#### Encoding Numerical Feature: neg"
   ]
  },
  {
   "cell_type": "code",
   "execution_count": 33,
   "metadata": {},
   "outputs": [
    {
     "name": "stdout",
     "output_type": "stream",
     "text": [
      "After vectorizations\n",
      "(841, 1) (841,)\n",
      "(281, 1) (281,)\n",
      "====================================================================================================\n"
     ]
    }
   ],
   "source": [
    "from sklearn.preprocessing import Normalizer\n",
    "normalizer_neg = Normalizer()\n",
    "\n",
    "# Applying fit method on train data after reshaping the data\n",
    "normalizer_neg.fit(X_train['neg'].values.reshape(-1,1))\n",
    "\n",
    "# Applying transform method on train and test\n",
    "X_train_neg_norm = normalizer_neg.transform(X_train['neg'].values.reshape(-1,1))\n",
    "X_test_neg_norm = normalizer_neg.transform(X_test['neg'].values.reshape(-1,1))\n",
    "\n",
    "print(\"After vectorizations\")\n",
    "print(X_train_neg_norm.shape, y_train.shape)\n",
    "print(X_test_neg_norm.shape, y_test.shape)\n",
    "print(\"=\"*100)"
   ]
  },
  {
   "cell_type": "markdown",
   "metadata": {},
   "source": [
    "#### Encoding Numerical Feature: neu"
   ]
  },
  {
   "cell_type": "code",
   "execution_count": 34,
   "metadata": {},
   "outputs": [
    {
     "name": "stdout",
     "output_type": "stream",
     "text": [
      "After vectorizations\n",
      "(841, 1) (841,)\n",
      "(281, 1) (281,)\n",
      "====================================================================================================\n"
     ]
    }
   ],
   "source": [
    "from sklearn.preprocessing import Normalizer\n",
    "normalizer_neu = Normalizer()\n",
    "\n",
    "# Applying fit method on train data after reshaping the data\n",
    "normalizer_neu.fit(X_train['neu'].values.reshape(-1,1))\n",
    "\n",
    "# Applying transform method on train and test\n",
    "X_train_neu_norm = normalizer_neu.transform(X_train['neu'].values.reshape(-1,1))\n",
    "X_test_neu_norm = normalizer_neu.transform(X_test['neu'].values.reshape(-1,1))\n",
    "\n",
    "print(\"After vectorizations\")\n",
    "print(X_train_neu_norm.shape, y_train.shape)\n",
    "print(X_test_neu_norm.shape, y_test.shape)\n",
    "print(\"=\"*100)"
   ]
  },
  {
   "cell_type": "markdown",
   "metadata": {},
   "source": [
    "#### Encoding Numerical Feature: pos"
   ]
  },
  {
   "cell_type": "code",
   "execution_count": 35,
   "metadata": {},
   "outputs": [
    {
     "name": "stdout",
     "output_type": "stream",
     "text": [
      "After vectorizations\n",
      "(841, 1) (841,)\n",
      "(281, 1) (281,)\n",
      "====================================================================================================\n"
     ]
    }
   ],
   "source": [
    "from sklearn.preprocessing import Normalizer\n",
    "normalizer_pos = Normalizer()\n",
    "\n",
    "# Applying fit method on train data after reshaping the data\n",
    "normalizer_pos.fit(X_train['pos'].values.reshape(-1,1))\n",
    "\n",
    "# Applying transform method on train and test\n",
    "X_train_pos_norm = normalizer_pos.transform(X_train['pos'].values.reshape(-1,1))\n",
    "X_test_pos_norm = normalizer_pos.transform(X_test['pos'].values.reshape(-1,1))\n",
    "\n",
    "print(\"After vectorizations\")\n",
    "print(X_train_pos_norm.shape, y_train.shape)\n",
    "print(X_test_pos_norm.shape, y_test.shape)\n",
    "print(\"=\"*100)"
   ]
  },
  {
   "cell_type": "markdown",
   "metadata": {},
   "source": [
    "#### Encoding Numerical Feature: compound"
   ]
  },
  {
   "cell_type": "code",
   "execution_count": 36,
   "metadata": {},
   "outputs": [
    {
     "name": "stdout",
     "output_type": "stream",
     "text": [
      "After vectorizations\n",
      "(841, 1) (841,)\n",
      "(281, 1) (281,)\n",
      "====================================================================================================\n"
     ]
    }
   ],
   "source": [
    "from sklearn.preprocessing import Normalizer\n",
    "normalizer_com = Normalizer()\n",
    "\n",
    "# Applying fit method on train data after reshaping the data\n",
    "normalizer_com.fit(X_train['compound'].values.reshape(-1,1))\n",
    "\n",
    "# Applying transform method on train and test\n",
    "X_train_com_norm = normalizer_com.transform(X_train['compound'].values.reshape(-1,1))\n",
    "X_test_com_norm = normalizer_com.transform(X_test['compound'].values.reshape(-1,1))\n",
    "\n",
    "print(\"After vectorizations\")\n",
    "print(X_train_com_norm.shape, y_train.shape)\n",
    "print(X_test_com_norm.shape, y_test.shape)\n",
    "print(\"=\"*100)"
   ]
  },
  {
   "cell_type": "markdown",
   "metadata": {},
   "source": [
    "### Concatinating all the features"
   ]
  },
  {
   "cell_type": "code",
   "execution_count": 37,
   "metadata": {},
   "outputs": [
    {
     "name": "stdout",
     "output_type": "stream",
     "text": [
      "Final Data matrix\n",
      "(841, 804) (841,)\n",
      "(281, 804) (281,)\n",
      "====================================================================================================\n"
     ]
    }
   ],
   "source": [
    "# merge two sparse matrices: https://stackoverflow.com/a/19710648/4084039\n",
    "from scipy.sparse import hstack\n",
    "X_tr = hstack((X_train_review_text_bow,X_train_review_header_bow, X_train_retailer_ohe, X_train_division_ohe,X_train_category_ohe,X_train_department_ohe,X_train_brand_ohe,X_train_pn_ohe,X_train_price_norm,X_train_neg_norm,X_train_neu_norm,X_train_pos_norm,X_train_com_norm)).tocsr()\n",
    "X_te = hstack((X_test_review_text_bow,X_test_review_header_bow, X_test_retailer_ohe, X_test_division_ohe,X_test_category_ohe,X_test_department_ohe,X_test_brand_ohe,X_test_pn_ohe,X_test_price_norm,X_test_neg_norm,X_test_neu_norm,X_test_pos_norm,X_test_com_norm)).tocsr()\n",
    "\n",
    "print(\"Final Data matrix\")\n",
    "print(X_tr.shape, y_train.shape)\n",
    "print(X_te.shape, y_test.shape)\n",
    "print(\"=\"*100)"
   ]
  },
  {
   "cell_type": "markdown",
   "metadata": {},
   "source": [
    "### Applying Random Search CV to find the best hyperparameter"
   ]
  },
  {
   "cell_type": "code",
   "execution_count": 38,
   "metadata": {},
   "outputs": [],
   "source": [
    "# Importing required libraries\n",
    "from sklearn.model_selection import GridSearchCV\n",
    "from scipy.stats import randint as sp_randint\n",
    "from sklearn.model_selection import RandomizedSearchCV\n",
    "import matplotlib.pyplot as plt\n",
    "from sklearn.ensemble import GradientBoostingClassifier\n",
    "from sklearn.metrics import roc_auc_score\n",
    "import lightgbm as lgb\n",
    "import lightgbm as LGBMClassifier"
   ]
  },
  {
   "cell_type": "code",
   "execution_count": 39,
   "metadata": {},
   "outputs": [],
   "source": [
    "# List of hyperparameters\n",
    "param_test ={'num_leaves': [6, 10, 15, 25, 35, 50],'learning_rate': [0.0001, 0.001, 0.01, 0.1, 0.2, 0.3]}\n",
    "\n",
    "#Initializing the classifier and random search cv\n",
    "#n_estimators is set to a \"large value\". The actual number of trees build will depend on early stopping and 1000 define only the absolute maximum\n",
    "clf = lgb.LGBMClassifier(max_depth=-1, random_state=123, silent=True, metric='None', n_jobs=-1, n_estimators=1000, class_weight='balanced')\n",
    "gs = RandomizedSearchCV(estimator=clf, param_distributions=param_test,n_iter=10,scoring='roc_auc',cv=3,refit=True,random_state=123,n_jobs=-1,verbose=1,return_train_score=True)"
   ]
  },
  {
   "cell_type": "code",
   "execution_count": 40,
   "metadata": {},
   "outputs": [
    {
     "name": "stdout",
     "output_type": "stream",
     "text": [
      "Fitting 3 folds for each of 10 candidates, totalling 30 fits\n"
     ]
    },
    {
     "name": "stderr",
     "output_type": "stream",
     "text": [
      "[Parallel(n_jobs=-1)]: Using backend LokyBackend with 4 concurrent workers.\n",
      "[Parallel(n_jobs=-1)]: Done  30 out of  30 | elapsed:   15.0s finished\n"
     ]
    },
    {
     "data": {
      "text/plain": [
       "RandomizedSearchCV(cv=3,\n",
       "                   estimator=LGBMClassifier(class_weight='balanced',\n",
       "                                            metric='None', n_estimators=1000,\n",
       "                                            random_state=123),\n",
       "                   n_jobs=-1,\n",
       "                   param_distributions={'learning_rate': [0.0001, 0.001, 0.01,\n",
       "                                                          0.1, 0.2, 0.3],\n",
       "                                        'num_leaves': [6, 10, 15, 25, 35, 50]},\n",
       "                   random_state=123, return_train_score=True, scoring='roc_auc',\n",
       "                   verbose=1)"
      ]
     },
     "execution_count": 40,
     "metadata": {},
     "output_type": "execute_result"
    }
   ],
   "source": [
    "# Fitting the random search cv to train and test data\n",
    "gs.fit(X_tr, y_train)"
   ]
  },
  {
   "cell_type": "code",
   "execution_count": 41,
   "metadata": {},
   "outputs": [],
   "source": [
    "# Let's store the results of CV in a pandas dataframe\n",
    "results = pd.DataFrame.from_dict(gs.cv_results_)"
   ]
  },
  {
   "cell_type": "code",
   "execution_count": 42,
   "metadata": {},
   "outputs": [
    {
     "data": {
      "text/html": [
       "<div>\n",
       "<style scoped>\n",
       "    .dataframe tbody tr th:only-of-type {\n",
       "        vertical-align: middle;\n",
       "    }\n",
       "\n",
       "    .dataframe tbody tr th {\n",
       "        vertical-align: top;\n",
       "    }\n",
       "\n",
       "    .dataframe thead th {\n",
       "        text-align: right;\n",
       "    }\n",
       "</style>\n",
       "<table border=\"1\" class=\"dataframe\">\n",
       "  <thead>\n",
       "    <tr style=\"text-align: right;\">\n",
       "      <th></th>\n",
       "      <th>mean_fit_time</th>\n",
       "      <th>std_fit_time</th>\n",
       "      <th>mean_score_time</th>\n",
       "      <th>std_score_time</th>\n",
       "      <th>param_num_leaves</th>\n",
       "      <th>param_learning_rate</th>\n",
       "      <th>params</th>\n",
       "      <th>split0_test_score</th>\n",
       "      <th>split1_test_score</th>\n",
       "      <th>split2_test_score</th>\n",
       "      <th>mean_test_score</th>\n",
       "      <th>std_test_score</th>\n",
       "      <th>rank_test_score</th>\n",
       "      <th>split0_train_score</th>\n",
       "      <th>split1_train_score</th>\n",
       "      <th>split2_train_score</th>\n",
       "      <th>mean_train_score</th>\n",
       "      <th>std_train_score</th>\n",
       "    </tr>\n",
       "  </thead>\n",
       "  <tbody>\n",
       "    <tr>\n",
       "      <th>0</th>\n",
       "      <td>0.983438</td>\n",
       "      <td>0.185087</td>\n",
       "      <td>0.063481</td>\n",
       "      <td>0.004778</td>\n",
       "      <td>6</td>\n",
       "      <td>0.001</td>\n",
       "      <td>{'num_leaves': 6, 'learning_rate': 0.001}</td>\n",
       "      <td>0.903888</td>\n",
       "      <td>0.874708</td>\n",
       "      <td>0.853854</td>\n",
       "      <td>0.877483</td>\n",
       "      <td>0.02052</td>\n",
       "      <td>9</td>\n",
       "      <td>0.916653</td>\n",
       "      <td>0.918546</td>\n",
       "      <td>0.938861</td>\n",
       "      <td>0.924687</td>\n",
       "      <td>0.010053</td>\n",
       "    </tr>\n",
       "  </tbody>\n",
       "</table>\n",
       "</div>"
      ],
      "text/plain": [
       "   mean_fit_time  std_fit_time  mean_score_time  std_score_time  \\\n",
       "0       0.983438      0.185087         0.063481        0.004778   \n",
       "\n",
       "  param_num_leaves param_learning_rate  \\\n",
       "0                6               0.001   \n",
       "\n",
       "                                      params  split0_test_score  \\\n",
       "0  {'num_leaves': 6, 'learning_rate': 0.001}           0.903888   \n",
       "\n",
       "   split1_test_score  split2_test_score  mean_test_score  std_test_score  \\\n",
       "0           0.874708           0.853854         0.877483         0.02052   \n",
       "\n",
       "   rank_test_score  split0_train_score  split1_train_score  \\\n",
       "0                9            0.916653            0.918546   \n",
       "\n",
       "   split2_train_score  mean_train_score  std_train_score  \n",
       "0            0.938861          0.924687         0.010053  "
      ]
     },
     "execution_count": 42,
     "metadata": {},
     "output_type": "execute_result"
    }
   ],
   "source": [
    "results.head(1)"
   ]
  },
  {
   "cell_type": "code",
   "execution_count": 43,
   "metadata": {},
   "outputs": [],
   "source": [
    "# Let us sort values based of the param_alpha column which will sort values in ascending order of alpha\n",
    "results = results.sort_values(['param_learning_rate'])"
   ]
  },
  {
   "cell_type": "code",
   "execution_count": 44,
   "metadata": {},
   "outputs": [
    {
     "data": {
      "text/html": [
       "<div>\n",
       "<style scoped>\n",
       "    .dataframe tbody tr th:only-of-type {\n",
       "        vertical-align: middle;\n",
       "    }\n",
       "\n",
       "    .dataframe tbody tr th {\n",
       "        vertical-align: top;\n",
       "    }\n",
       "\n",
       "    .dataframe thead th {\n",
       "        text-align: right;\n",
       "    }\n",
       "</style>\n",
       "<table border=\"1\" class=\"dataframe\">\n",
       "  <thead>\n",
       "    <tr style=\"text-align: right;\">\n",
       "      <th></th>\n",
       "      <th>mean_fit_time</th>\n",
       "      <th>std_fit_time</th>\n",
       "      <th>mean_score_time</th>\n",
       "      <th>std_score_time</th>\n",
       "      <th>param_num_leaves</th>\n",
       "      <th>param_learning_rate</th>\n",
       "      <th>params</th>\n",
       "      <th>split0_test_score</th>\n",
       "      <th>split1_test_score</th>\n",
       "      <th>split2_test_score</th>\n",
       "      <th>mean_test_score</th>\n",
       "      <th>std_test_score</th>\n",
       "      <th>rank_test_score</th>\n",
       "      <th>split0_train_score</th>\n",
       "      <th>split1_train_score</th>\n",
       "      <th>split2_train_score</th>\n",
       "      <th>mean_train_score</th>\n",
       "      <th>std_train_score</th>\n",
       "    </tr>\n",
       "  </thead>\n",
       "  <tbody>\n",
       "    <tr>\n",
       "      <th>4</th>\n",
       "      <td>1.45754</td>\n",
       "      <td>0.020023</td>\n",
       "      <td>0.058746</td>\n",
       "      <td>0.013456</td>\n",
       "      <td>50</td>\n",
       "      <td>0.0001</td>\n",
       "      <td>{'num_leaves': 50, 'learning_rate': 0.0001}</td>\n",
       "      <td>0.892463</td>\n",
       "      <td>0.838505</td>\n",
       "      <td>0.841953</td>\n",
       "      <td>0.85764</td>\n",
       "      <td>0.024663</td>\n",
       "      <td>10</td>\n",
       "      <td>0.892142</td>\n",
       "      <td>0.897202</td>\n",
       "      <td>0.933539</td>\n",
       "      <td>0.907628</td>\n",
       "      <td>0.018438</td>\n",
       "    </tr>\n",
       "  </tbody>\n",
       "</table>\n",
       "</div>"
      ],
      "text/plain": [
       "   mean_fit_time  std_fit_time  mean_score_time  std_score_time  \\\n",
       "4        1.45754      0.020023         0.058746        0.013456   \n",
       "\n",
       "  param_num_leaves param_learning_rate  \\\n",
       "4               50              0.0001   \n",
       "\n",
       "                                        params  split0_test_score  \\\n",
       "4  {'num_leaves': 50, 'learning_rate': 0.0001}           0.892463   \n",
       "\n",
       "   split1_test_score  split2_test_score  mean_test_score  std_test_score  \\\n",
       "4           0.838505           0.841953          0.85764        0.024663   \n",
       "\n",
       "   rank_test_score  split0_train_score  split1_train_score  \\\n",
       "4               10            0.892142            0.897202   \n",
       "\n",
       "   split2_train_score  mean_train_score  std_train_score  \n",
       "4            0.933539          0.907628         0.018438  "
      ]
     },
     "execution_count": 44,
     "metadata": {},
     "output_type": "execute_result"
    }
   ],
   "source": [
    "results.head(1)"
   ]
  },
  {
   "cell_type": "code",
   "execution_count": 45,
   "metadata": {},
   "outputs": [
    {
     "data": {
      "text/plain": [
       "Text(33.0, 0.5, 'N Estimators')"
      ]
     },
     "execution_count": 45,
     "metadata": {},
     "output_type": "execute_result"
    },
    {
     "data": {
      "image/png": "[encoded data removed]",
      "text/plain": [
       "<Figure size 432x288 with 2 Axes>"
      ]
     },
     "metadata": {
      "needs_background": "light"
     },
     "output_type": "display_data"
    }
   ],
   "source": [
    "# Heatmap between Max Depth and Min Sample Split on Train Data\n",
    "train_auc_heatmap = results.pivot(\"param_num_leaves\", \"param_learning_rate\", \"mean_train_score\")\n",
    "ax = sns.heatmap(train_auc_heatmap, annot=True)\n",
    "plt.xlabel('Learning Rate')\n",
    "plt.ylabel('N Estimators')"
   ]
  },
  {
   "cell_type": "code",
   "execution_count": 46,
   "metadata": {},
   "outputs": [
    {
     "data": {
      "text/plain": [
       "Text(33.0, 0.5, 'N Estimators')"
      ]
     },
     "execution_count": 46,
     "metadata": {},
     "output_type": "execute_result"
    },
    {
     "data": {
      "image/png": "[encoded data removed]",
      "text/plain": [
       "<Figure size 432x288 with 2 Axes>"
      ]
     },
     "metadata": {
      "needs_background": "light"
     },
     "output_type": "display_data"
    }
   ],
   "source": [
    "# Heatmap between Max Depth and Min Sample Split on Train Data\n",
    "train_auc_heatmap = results.pivot(\"param_num_leaves\", \"param_learning_rate\", \"mean_test_score\")\n",
    "ax = sns.heatmap(train_auc_heatmap, annot=True)\n",
    "plt.xlabel('Learning Rate')\n",
    "plt.ylabel('N Estimators')"
   ]
  },
  {
   "cell_type": "code",
   "execution_count": 47,
   "metadata": {},
   "outputs": [],
   "source": [
    "# Best hyperparameters identified from the above test heatmap\n",
    "best_learning_rate = .1\n",
    "best_num_leaves = 10"
   ]
  },
  {
   "cell_type": "code",
   "execution_count": 48,
   "metadata": {},
   "outputs": [
    {
     "data": {
      "image/png": "[encoded data removed]",
      "text/plain": [
       "<Figure size 432x288 with 1 Axes>"
      ]
     },
     "metadata": {
      "needs_background": "light"
     },
     "output_type": "display_data"
    }
   ],
   "source": [
    "# https://scikit-learn.org/stable/modules/generated/sklearn.metrics.roc_curve.html#sklearn.metrics.roc_curve\n",
    "from sklearn.metrics import roc_curve, auc\n",
    "\n",
    "# Final LGBM model using the best hyperparameters\n",
    "lgbm_final_tfidf = lgb.LGBMClassifier(learning_rate=best_learning_rate, num_leaves=best_num_leaves, max_depth=-1, random_state=123, silent=True, metric='None', n_jobs=-1, n_estimators=1000, class_weight='balanced')\n",
    "lgbm_final_tfidf.fit(X_tr, y_train)\n",
    "\n",
    "y_train_pred = lgbm_final_tfidf.predict_proba(X_tr)[:,1]   \n",
    "y_test_pred = lgbm_final_tfidf.predict_proba(X_te)[:,1]\n",
    "\n",
    "train_fpr, train_tpr, tr_thresholds = roc_curve(y_train, y_train_pred)\n",
    "test_fpr, test_tpr, te_thresholds = roc_curve(y_test, y_test_pred)\n",
    "#plt.xscale('log')\n",
    "plt.plot(train_fpr, train_tpr, label=\"train AUC =\"+str(auc(train_fpr, train_tpr)))\n",
    "plt.plot(test_fpr, test_tpr, label=\"test AUC =\"+str(auc(test_fpr, test_tpr)))\n",
    "plt.legend()\n",
    "plt.xlabel(\"False Positive Rate\")\n",
    "plt.ylabel(\"True Positive Rate\")\n",
    "plt.title(\"ROC-AUC Curve\")\n",
    "plt.grid()\n",
    "plt.show()"
   ]
  },
  {
   "cell_type": "code",
   "execution_count": 49,
   "metadata": {},
   "outputs": [],
   "source": [
    "# we are writing our own function to predict, with defined thresold\n",
    "# we will pick a threshold that will give the least fpr\n",
    "def find_best_threshold(threshold, fpr, tpr):\n",
    "    t = threshold[np.argmax(tpr*(1-fpr))]\n",
    "    # (tpr*(1-fpr)) will be maximum if your fpr is very low and tpr is very high\n",
    "    print(\"the maximum value of tpr*(1-fpr)\", max(tpr*(1-fpr)), \"for threshold\", np.round(t,3))\n",
    "    return t\n",
    "\n",
    "def predict_with_best_t(proba, threshold):\n",
    "    predictions = []\n",
    "    for i in proba:\n",
    "        if i>=threshold:\n",
    "            predictions.append(1)\n",
    "        else:\n",
    "            predictions.append(0)\n",
    "    return predictions"
   ]
  },
  {
   "cell_type": "code",
   "execution_count": 50,
   "metadata": {},
   "outputs": [
    {
     "name": "stdout",
     "output_type": "stream",
     "text": [
      "====================================================================================================\n",
      "the maximum value of tpr*(1-fpr) 1.0 for threshold 0.999\n",
      "Train confusion matrix\n",
      "[[112   0]\n",
      " [  0 729]]\n",
      "Test confusion matrix\n",
      "[[ 31   7]\n",
      " [ 20 223]]\n"
     ]
    }
   ],
   "source": [
    "# Printing confusion matrix\n",
    "print(\"=\"*100)\n",
    "from sklearn.metrics import confusion_matrix\n",
    "best_t = find_best_threshold(tr_thresholds, train_fpr, train_tpr)\n",
    "print(\"Train confusion matrix\")\n",
    "print(confusion_matrix(y_train, predict_with_best_t(y_train_pred, best_t)))\n",
    "print(\"Test confusion matrix\")\n",
    "print(confusion_matrix(y_test, predict_with_best_t(y_test_pred, best_t)))"
   ]
  },
  {
   "cell_type": "code",
   "execution_count": 51,
   "metadata": {},
   "outputs": [],
   "source": [
    "cm_train=confusion_matrix(y_train, predict_with_best_t(y_train_pred, best_t))\n",
    "cm_test=confusion_matrix(y_test, predict_with_best_t(y_test_pred, best_t))"
   ]
  },
  {
   "cell_type": "code",
   "execution_count": 52,
   "metadata": {},
   "outputs": [
    {
     "data": {
      "text/plain": [
       "Text(33.0, 0.5, 'Actual')"
      ]
     },
     "execution_count": 52,
     "metadata": {},
     "output_type": "execute_result"
    },
    {
     "data": {
      "image/png": "[encoded data removed]",
      "text/plain": [
       "<Figure size 432x288 with 2 Axes>"
      ]
     },
     "metadata": {
      "needs_background": "light"
     },
     "output_type": "display_data"
    }
   ],
   "source": [
    "sns.heatmap(cm_train, annot=True,fmt=\"d\",cmap='Blues')\n",
    "plt.xlabel('Predicted')\n",
    "plt.ylabel('Actual')"
   ]
  },
  {
   "cell_type": "code",
   "execution_count": 53,
   "metadata": {},
   "outputs": [
    {
     "data": {
      "text/plain": [
       "Text(33.0, 0.5, 'Actual')"
      ]
     },
     "execution_count": 53,
     "metadata": {},
     "output_type": "execute_result"
    },
    {
     "data": {
      "image/png": "[encoded data removed]",
      "text/plain": [
       "<Figure size 432x288 with 2 Axes>"
      ]
     },
     "metadata": {
      "needs_background": "light"
     },
     "output_type": "display_data"
    }
   ],
   "source": [
    "sns.heatmap(cm_test, annot=True,fmt=\"d\",cmap='Blues')\n",
    "plt.xlabel('Predicted')\n",
    "plt.ylabel('Actual')"
   ]
  },
  {
   "cell_type": "markdown",
   "metadata": {},
   "source": [
    "## TFIDF"
   ]
  },
  {
   "cell_type": "markdown",
   "metadata": {},
   "source": [
    "### Review_Text"
   ]
  },
  {
   "cell_type": "code",
   "execution_count": 54,
   "metadata": {},
   "outputs": [
    {
     "data": {
      "text/plain": [
       "TfidfVectorizer(min_df=5)"
      ]
     },
     "execution_count": 54,
     "metadata": {},
     "output_type": "execute_result"
    }
   ],
   "source": [
    "# Implementing TF-IDF\n",
    "vectorizer_tfidf = TfidfVectorizer(min_df=5)\n",
    "vectorizer_tfidf.fit(X_train['preprocessed_review_text'].values) #(Fit Method)"
   ]
  },
  {
   "cell_type": "code",
   "execution_count": 55,
   "metadata": {},
   "outputs": [],
   "source": [
    "# Transform method on train and test data\n",
    "X_train_rt_tfidf = vectorizer_tfidf.transform(X_train['preprocessed_review_text'].values)"
   ]
  },
  {
   "cell_type": "code",
   "execution_count": 56,
   "metadata": {},
   "outputs": [],
   "source": [
    "X_test_rt_tfidf = vectorizer_tfidf.transform(X_test['preprocessed_review_text'].values)"
   ]
  },
  {
   "cell_type": "code",
   "execution_count": 57,
   "metadata": {},
   "outputs": [
    {
     "name": "stdout",
     "output_type": "stream",
     "text": [
      "After vectorizations\n",
      "(841, 595) (841,)\n",
      "(281, 595) (281,)\n"
     ]
    }
   ],
   "source": [
    "print(\"After vectorizations\")\n",
    "print(X_train_rt_tfidf.shape, y_train.shape)\n",
    "print(X_test_rt_tfidf.shape, y_test.shape)"
   ]
  },
  {
   "cell_type": "markdown",
   "metadata": {},
   "source": [
    "### Review_Header"
   ]
  },
  {
   "cell_type": "code",
   "execution_count": 58,
   "metadata": {},
   "outputs": [
    {
     "data": {
      "text/plain": [
       "TfidfVectorizer(min_df=5)"
      ]
     },
     "execution_count": 58,
     "metadata": {},
     "output_type": "execute_result"
    }
   ],
   "source": [
    "# Implementing TF-IDF\n",
    "vectorizer_tfidf_rh = TfidfVectorizer(min_df=5)\n",
    "vectorizer_tfidf_rh.fit(X_train['preprocessed_review_header'].values) #(Fit Method)"
   ]
  },
  {
   "cell_type": "code",
   "execution_count": 59,
   "metadata": {},
   "outputs": [],
   "source": [
    "# Transform method on train and test data\n",
    "X_train_rh_tfidf = vectorizer_tfidf_rh.transform(X_train['preprocessed_review_header'].values)"
   ]
  },
  {
   "cell_type": "code",
   "execution_count": 60,
   "metadata": {},
   "outputs": [],
   "source": [
    "X_test_rh_tfidf = vectorizer_tfidf_rh.transform(X_test['preprocessed_review_text'].values)"
   ]
  },
  {
   "cell_type": "code",
   "execution_count": 61,
   "metadata": {},
   "outputs": [
    {
     "name": "stdout",
     "output_type": "stream",
     "text": [
      "After vectorizations\n",
      "(841, 114) (841,)\n",
      "(281, 114) (281,)\n"
     ]
    }
   ],
   "source": [
    "print(\"After vectorizations\")\n",
    "print(X_train_rh_tfidf.shape, y_train.shape)\n",
    "print(X_test_rh_tfidf.shape, y_test.shape)"
   ]
  },
  {
   "cell_type": "markdown",
   "metadata": {},
   "source": [
    "### Concatinating all the features"
   ]
  },
  {
   "cell_type": "code",
   "execution_count": 62,
   "metadata": {},
   "outputs": [
    {
     "name": "stdout",
     "output_type": "stream",
     "text": [
      "Final Data matrix\n",
      "(841, 800) (841,)\n",
      "(281, 800) (281,)\n",
      "====================================================================================================\n"
     ]
    }
   ],
   "source": [
    "# merge two sparse matrices: https://stackoverflow.com/a/19710648/4084039\n",
    "from scipy.sparse import hstack\n",
    "X_tr = hstack((X_train_rt_tfidf,X_train_rh_tfidf, X_train_retailer_ohe, X_train_division_ohe,X_train_category_ohe,X_train_department_ohe,X_train_brand_ohe,X_train_pn_ohe,X_train_price_norm )).tocsr()\n",
    "X_te = hstack((X_test_rt_tfidf,X_test_rh_tfidf, X_test_retailer_ohe, X_test_division_ohe,X_test_category_ohe,X_test_department_ohe,X_test_brand_ohe,X_test_pn_ohe,X_test_price_norm)).tocsr()\n",
    "\n",
    "print(\"Final Data matrix\")\n",
    "print(X_tr.shape, y_train.shape)\n",
    "print(X_te.shape, y_test.shape)\n",
    "print(\"=\"*100)"
   ]
  },
  {
   "cell_type": "markdown",
   "metadata": {},
   "source": [
    "### Applying Random Search CV to find the best hyperparameter"
   ]
  },
  {
   "cell_type": "code",
   "execution_count": 63,
   "metadata": {},
   "outputs": [],
   "source": [
    "# Importing required libraries\n",
    "from sklearn.model_selection import GridSearchCV\n",
    "from scipy.stats import randint as sp_randint\n",
    "from sklearn.model_selection import RandomizedSearchCV\n",
    "import matplotlib.pyplot as plt\n",
    "from sklearn.ensemble import GradientBoostingClassifier\n",
    "from sklearn.metrics import roc_auc_score\n",
    "import lightgbm as lgb\n",
    "import lightgbm as LGBMClassifier"
   ]
  },
  {
   "cell_type": "code",
   "execution_count": 64,
   "metadata": {},
   "outputs": [],
   "source": [
    "# List of hyperparameters\n",
    "param_test ={'num_leaves': [6, 10, 15, 25, 35, 50],'learning_rate': [0.0001, 0.001, 0.01, 0.1, 0.2, 0.3]}\n",
    "\n",
    "#Initializing the classifier and random search cv\n",
    "#n_estimators is set to a \"large value\". The actual number of trees build will depend on early stopping and 1000 define only the absolute maximum\n",
    "clf = lgb.LGBMClassifier(max_depth=-1, random_state=123, silent=True, metric='None', n_jobs=-1, n_estimators=1000, class_weight='balanced')\n",
    "gs = RandomizedSearchCV(estimator=clf, param_distributions=param_test,n_iter=10,scoring='roc_auc',cv=3,refit=True,random_state=123,n_jobs=-1,verbose=1,return_train_score=True)"
   ]
  },
  {
   "cell_type": "code",
   "execution_count": 65,
   "metadata": {},
   "outputs": [
    {
     "name": "stdout",
     "output_type": "stream",
     "text": [
      "Fitting 3 folds for each of 10 candidates, totalling 30 fits\n"
     ]
    },
    {
     "name": "stderr",
     "output_type": "stream",
     "text": [
      "[Parallel(n_jobs=-1)]: Using backend LokyBackend with 4 concurrent workers.\n",
      "[Parallel(n_jobs=-1)]: Done  30 out of  30 | elapsed:    8.3s finished\n"
     ]
    },
    {
     "data": {
      "text/plain": [
       "RandomizedSearchCV(cv=3,\n",
       "                   estimator=LGBMClassifier(class_weight='balanced',\n",
       "                                            metric='None', n_estimators=1000,\n",
       "                                            random_state=123),\n",
       "                   n_jobs=-1,\n",
       "                   param_distributions={'learning_rate': [0.0001, 0.001, 0.01,\n",
       "                                                          0.1, 0.2, 0.3],\n",
       "                                        'num_leaves': [6, 10, 15, 25, 35, 50]},\n",
       "                   random_state=123, return_train_score=True, scoring='roc_auc',\n",
       "                   verbose=1)"
      ]
     },
     "execution_count": 65,
     "metadata": {},
     "output_type": "execute_result"
    }
   ],
   "source": [
    "# Fitting the random search cv to train and test data\n",
    "gs.fit(X_tr, y_train)"
   ]
  },
  {
   "cell_type": "code",
   "execution_count": 66,
   "metadata": {},
   "outputs": [],
   "source": [
    "# Let's store the results of CV in a pandas dataframe\n",
    "results = pd.DataFrame.from_dict(gs.cv_results_)"
   ]
  },
  {
   "cell_type": "code",
   "execution_count": 67,
   "metadata": {},
   "outputs": [],
   "source": [
    "# Let us sort values based of the param_alpha column which will sort values in ascending order of alpha\n",
    "results = results.sort_values(['param_learning_rate'])"
   ]
  },
  {
   "cell_type": "code",
   "execution_count": 68,
   "metadata": {},
   "outputs": [
    {
     "data": {
      "text/html": [
       "<div>\n",
       "<style scoped>\n",
       "    .dataframe tbody tr th:only-of-type {\n",
       "        vertical-align: middle;\n",
       "    }\n",
       "\n",
       "    .dataframe tbody tr th {\n",
       "        vertical-align: top;\n",
       "    }\n",
       "\n",
       "    .dataframe thead th {\n",
       "        text-align: right;\n",
       "    }\n",
       "</style>\n",
       "<table border=\"1\" class=\"dataframe\">\n",
       "  <thead>\n",
       "    <tr style=\"text-align: right;\">\n",
       "      <th></th>\n",
       "      <th>mean_fit_time</th>\n",
       "      <th>std_fit_time</th>\n",
       "      <th>mean_score_time</th>\n",
       "      <th>std_score_time</th>\n",
       "      <th>param_num_leaves</th>\n",
       "      <th>param_learning_rate</th>\n",
       "      <th>params</th>\n",
       "      <th>split0_test_score</th>\n",
       "      <th>split1_test_score</th>\n",
       "      <th>split2_test_score</th>\n",
       "      <th>mean_test_score</th>\n",
       "      <th>std_test_score</th>\n",
       "      <th>rank_test_score</th>\n",
       "      <th>split0_train_score</th>\n",
       "      <th>split1_train_score</th>\n",
       "      <th>split2_train_score</th>\n",
       "      <th>mean_train_score</th>\n",
       "      <th>std_train_score</th>\n",
       "    </tr>\n",
       "  </thead>\n",
       "  <tbody>\n",
       "    <tr>\n",
       "      <th>4</th>\n",
       "      <td>1.530166</td>\n",
       "      <td>0.03931</td>\n",
       "      <td>0.054715</td>\n",
       "      <td>0.017992</td>\n",
       "      <td>50</td>\n",
       "      <td>0.0001</td>\n",
       "      <td>{'num_leaves': 50, 'learning_rate': 0.0001}</td>\n",
       "      <td>0.783084</td>\n",
       "      <td>0.845234</td>\n",
       "      <td>0.739851</td>\n",
       "      <td>0.78939</td>\n",
       "      <td>0.043253</td>\n",
       "      <td>10</td>\n",
       "      <td>0.900345</td>\n",
       "      <td>0.890137</td>\n",
       "      <td>0.922716</td>\n",
       "      <td>0.904399</td>\n",
       "      <td>0.013606</td>\n",
       "    </tr>\n",
       "  </tbody>\n",
       "</table>\n",
       "</div>"
      ],
      "text/plain": [
       "   mean_fit_time  std_fit_time  mean_score_time  std_score_time  \\\n",
       "4       1.530166       0.03931         0.054715        0.017992   \n",
       "\n",
       "  param_num_leaves param_learning_rate  \\\n",
       "4               50              0.0001   \n",
       "\n",
       "                                        params  split0_test_score  \\\n",
       "4  {'num_leaves': 50, 'learning_rate': 0.0001}           0.783084   \n",
       "\n",
       "   split1_test_score  split2_test_score  mean_test_score  std_test_score  \\\n",
       "4           0.845234           0.739851          0.78939        0.043253   \n",
       "\n",
       "   rank_test_score  split0_train_score  split1_train_score  \\\n",
       "4               10            0.900345            0.890137   \n",
       "\n",
       "   split2_train_score  mean_train_score  std_train_score  \n",
       "4            0.922716          0.904399         0.013606  "
      ]
     },
     "execution_count": 68,
     "metadata": {},
     "output_type": "execute_result"
    }
   ],
   "source": [
    "results.head(1)"
   ]
  },
  {
   "cell_type": "code",
   "execution_count": 69,
   "metadata": {},
   "outputs": [
    {
     "data": {
      "text/plain": [
       "Text(33.0, 0.5, 'N Estimators')"
      ]
     },
     "execution_count": 69,
     "metadata": {},
     "output_type": "execute_result"
    },
    {
     "data": {
      "image/png": "[encoded data removed]",
      "text/plain": [
       "<Figure size 432x288 with 2 Axes>"
      ]
     },
     "metadata": {
      "needs_background": "light"
     },
     "output_type": "display_data"
    }
   ],
   "source": [
    "# Heatmap between Max Depth and Min Sample Split on Train Data\n",
    "train_auc_heatmap = results.pivot(\"param_num_leaves\", \"param_learning_rate\", \"mean_train_score\")\n",
    "ax = sns.heatmap(train_auc_heatmap, annot=True)\n",
    "plt.xlabel('Learning Rate')\n",
    "plt.ylabel('N Estimators')"
   ]
  },
  {
   "cell_type": "code",
   "execution_count": 70,
   "metadata": {},
   "outputs": [
    {
     "data": {
      "text/plain": [
       "Text(33.0, 0.5, 'N Estimators')"
      ]
     },
     "execution_count": 70,
     "metadata": {},
     "output_type": "execute_result"
    },
    {
     "data": {
      "image/png": "[encoded data removed]",
      "text/plain": [
       "<Figure size 432x288 with 2 Axes>"
      ]
     },
     "metadata": {
      "needs_background": "light"
     },
     "output_type": "display_data"
    }
   ],
   "source": [
    "# Heatmap between Max Depth and Min Sample Split on Train Data\n",
    "train_auc_heatmap = results.pivot(\"param_num_leaves\", \"param_learning_rate\", \"mean_test_score\")\n",
    "ax = sns.heatmap(train_auc_heatmap, annot=True)\n",
    "plt.xlabel('Learning Rate')\n",
    "plt.ylabel('N Estimators')"
   ]
  },
  {
   "cell_type": "code",
   "execution_count": 71,
   "metadata": {},
   "outputs": [],
   "source": [
    "# Best hyperparameters identified from the above test heatmap\n",
    "best_learning_rate = .01\n",
    "best_num_leaves = 6"
   ]
  },
  {
   "cell_type": "code",
   "execution_count": 72,
   "metadata": {},
   "outputs": [
    {
     "data": {
      "image/png": "[encoded data removed]",
      "text/plain": [
       "<Figure size 432x288 with 1 Axes>"
      ]
     },
     "metadata": {
      "needs_background": "light"
     },
     "output_type": "display_data"
    }
   ],
   "source": [
    "# https://scikit-learn.org/stable/modules/generated/sklearn.metrics.roc_curve.html#sklearn.metrics.roc_curve\n",
    "from sklearn.metrics import roc_curve, auc\n",
    "\n",
    "# Final LGBM model using the best hyperparameters\n",
    "lgbm_final_tfidf = lgb.LGBMClassifier(learning_rate=best_learning_rate, num_leaves=best_num_leaves, max_depth=-1, random_state=123, silent=True, metric='None', n_jobs=-1, n_estimators=1000, class_weight='balanced')\n",
    "lgbm_final_tfidf.fit(X_tr, y_train)\n",
    "\n",
    "y_train_pred = lgbm_final_tfidf.predict_proba(X_tr)[:,1]   \n",
    "y_test_pred = lgbm_final_tfidf.predict_proba(X_te)[:,1]\n",
    "\n",
    "train_fpr, train_tpr, tr_thresholds = roc_curve(y_train, y_train_pred)\n",
    "test_fpr, test_tpr, te_thresholds = roc_curve(y_test, y_test_pred)\n",
    "#plt.xscale('log')\n",
    "plt.plot(train_fpr, train_tpr, label=\"train AUC =\"+str(auc(train_fpr, train_tpr)))\n",
    "plt.plot(test_fpr, test_tpr, label=\"test AUC =\"+str(auc(test_fpr, test_tpr)))\n",
    "plt.legend()\n",
    "plt.xlabel(\"False Positive Rate\")\n",
    "plt.ylabel(\"True Positive Rate\")\n",
    "plt.title(\"ROC-AUC Curve\")\n",
    "plt.grid()\n",
    "plt.show()"
   ]
  },
  {
   "cell_type": "code",
   "execution_count": 73,
   "metadata": {},
   "outputs": [],
   "source": [
    "# we are writing our own function to predict, with defined thresold\n",
    "# we will pick a threshold that will give the least fpr\n",
    "def find_best_threshold(threshold, fpr, tpr):\n",
    "    t = threshold[np.argmax(tpr*(1-fpr))]\n",
    "    # (tpr*(1-fpr)) will be maximum if your fpr is very low and tpr is very high\n",
    "    print(\"the maximum value of tpr*(1-fpr)\", max(tpr*(1-fpr)), \"for threshold\", np.round(t,3))\n",
    "    return t\n",
    "\n",
    "def predict_with_best_t(proba, threshold):\n",
    "    predictions = []\n",
    "    for i in proba:\n",
    "        if i>=threshold:\n",
    "            predictions.append(1)\n",
    "        else:\n",
    "            predictions.append(0)\n",
    "    return predictions"
   ]
  },
  {
   "cell_type": "code",
   "execution_count": 74,
   "metadata": {},
   "outputs": [
    {
     "name": "stdout",
     "output_type": "stream",
     "text": [
      "====================================================================================================\n",
      "the maximum value of tpr*(1-fpr) 0.9518543013913384 for threshold 0.405\n",
      "Train confusion matrix\n",
      "[[109   3]\n",
      " [ 16 713]]\n",
      "Test confusion matrix\n",
      "[[ 24  14]\n",
      " [ 15 228]]\n"
     ]
    }
   ],
   "source": [
    "# Printing confusion matrix\n",
    "print(\"=\"*100)\n",
    "from sklearn.metrics import confusion_matrix\n",
    "best_t = find_best_threshold(tr_thresholds, train_fpr, train_tpr)\n",
    "print(\"Train confusion matrix\")\n",
    "print(confusion_matrix(y_train, predict_with_best_t(y_train_pred, best_t)))\n",
    "print(\"Test confusion matrix\")\n",
    "print(confusion_matrix(y_test, predict_with_best_t(y_test_pred, best_t)))"
   ]
  },
  {
   "cell_type": "code",
   "execution_count": 75,
   "metadata": {},
   "outputs": [],
   "source": [
    "cm_train=confusion_matrix(y_train, predict_with_best_t(y_train_pred, best_t))\n",
    "cm_test=confusion_matrix(y_test, predict_with_best_t(y_test_pred, best_t))"
   ]
  },
  {
   "cell_type": "markdown",
   "metadata": {},
   "source": [
    "### Train Confusion Matrix"
   ]
  },
  {
   "cell_type": "code",
   "execution_count": 76,
   "metadata": {},
   "outputs": [
    {
     "data": {
      "text/plain": [
       "Text(33.0, 0.5, 'Actual')"
      ]
     },
     "execution_count": 76,
     "metadata": {},
     "output_type": "execute_result"
    },
    {
     "data": {
      "image/png": "[encoded data removed]",
      "text/plain": [
       "<Figure size 432x288 with 2 Axes>"
      ]
     },
     "metadata": {
      "needs_background": "light"
     },
     "output_type": "display_data"
    }
   ],
   "source": [
    "sns.heatmap(cm_train, annot=True,fmt=\"d\",cmap='Blues')\n",
    "plt.xlabel('Predicted')\n",
    "plt.ylabel('Actual')"
   ]
  },
  {
   "cell_type": "markdown",
   "metadata": {},
   "source": [
    "### Test Confusion Matrix"
   ]
  },
  {
   "cell_type": "code",
   "execution_count": 77,
   "metadata": {},
   "outputs": [
    {
     "data": {
      "text/plain": [
       "Text(33.0, 0.5, 'Actual')"
      ]
     },
     "execution_count": 77,
     "metadata": {},
     "output_type": "execute_result"
    },
    {
     "data": {
      "image/png": "[encoded data removed]",
      "text/plain": [
       "<Figure size 432x288 with 2 Axes>"
      ]
     },
     "metadata": {
      "needs_background": "light"
     },
     "output_type": "display_data"
    }
   ],
   "source": [
    "sns.heatmap(cm_test, annot=True,fmt=\"d\",cmap='Blues')\n",
    "plt.xlabel('Predicted')\n",
    "plt.ylabel('Actual')"
   ]
  },
  {
   "cell_type": "code",
   "execution_count": 1,
   "metadata": {},
   "outputs": [
    {
     "name": "stdout",
     "output_type": "stream",
     "text": [
      "+--------------+-----------+---------------+--------------+-----------+----------+\n",
      "|  Vectorizer  |   Model   | Learning_Rate | N_Estimators | Train-AUC | Test-AUC |\n",
      "+--------------+-----------+---------------+--------------+-----------+----------+\n",
      "| Bag of Words | Light GBM |      0.1      |      10      |    1.0    |   0.93   |\n",
      "|    TFIDF     | Light GBM |      0.01     |      6       |    0.99   |  0.931   |\n",
      "+--------------+-----------+---------------+--------------+-----------+----------+\n"
     ]
    }
   ],
   "source": [
    "# Summarizing the results\n",
    "from prettytable import PrettyTable\n",
    "x = PrettyTable()\n",
    "x.field_names = [\"Vectorizer\", \"Model\", \"Learning_Rate\",\"N_Estimators\" ,\"Train-AUC\", \"Test-AUC\"]\n",
    "x.add_row([\"Bag of Words\", \"Light GBM\", 0.1, 10, 1.00, .93])\n",
    "x.add_row([\"TFIDF\", \"Light GBM\", 0.01, 6, .99, .931])\n",
    "print(x)"
   ]
  }
 ],
 "metadata": {
  "kernelspec": {
   "display_name": "Python 3",
   "language": "python",
   "name": "python3"
  },
  "language_info": {
   "codemirror_mode": {
    "name": "ipython",
    "version": 3
   },
   "file_extension": ".py",
   "mimetype": "text/x-python",
   "name": "python",
   "nbconvert_exporter": "python",
   "pygments_lexer": "ipython3",
   "version": "3.8.3"
  }
 },
 "nbformat": 4,
 "nbformat_minor": 4
}
