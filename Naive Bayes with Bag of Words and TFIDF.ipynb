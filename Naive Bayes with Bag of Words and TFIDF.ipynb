{
 "cells": [
  {
   "cell_type": "markdown",
   "metadata": {},
   "source": [
    "# Naive Bayes with Bag of Words and TFIDF"
   ]
  },
  {
   "cell_type": "markdown",
   "metadata": {},
   "source": [
    "### Importing the necessary libraries"
   ]
  },
  {
   "cell_type": "code",
   "execution_count": 1,
   "metadata": {},
   "outputs": [],
   "source": [
    "%matplotlib inline\n",
    "import warnings\n",
    "warnings.filterwarnings(\"ignore\")\n",
    "\n",
    "import pandas as pd\n",
    "import numpy as np\n",
    "import nltk\n",
    "import string\n",
    "import matplotlib.pyplot as plt\n",
    "import seaborn as sns\n",
    "from sklearn.feature_extraction.text import TfidfTransformer\n",
    "from sklearn.feature_extraction.text import TfidfVectorizer\n",
    "\n",
    "from sklearn.feature_extraction.text import CountVectorizer\n",
    "from sklearn.metrics import confusion_matrix\n",
    "from sklearn import metrics\n",
    "from sklearn.metrics import roc_curve, auc\n",
    "from nltk.stem.porter import PorterStemmer\n",
    "\n",
    "import re\n",
    "import string\n",
    "from nltk.stem.wordnet import WordNetLemmatizer\n",
    "import pickle\n",
    "\n",
    "from tqdm import tqdm\n",
    "import os"
   ]
  },
  {
   "cell_type": "markdown",
   "metadata": {},
   "source": [
    "### Importing the dataset"
   ]
  },
  {
   "cell_type": "code",
   "execution_count": 2,
   "metadata": {},
   "outputs": [],
   "source": [
    "df = pd.read_csv('preprocessed_data.csv')"
   ]
  },
  {
   "cell_type": "code",
   "execution_count": 3,
   "metadata": {},
   "outputs": [
    {
     "data": {
      "text/html": [
       "<div>\n",
       "<style scoped>\n",
       "    .dataframe tbody tr th:only-of-type {\n",
       "        vertical-align: middle;\n",
       "    }\n",
       "\n",
       "    .dataframe tbody tr th {\n",
       "        vertical-align: top;\n",
       "    }\n",
       "\n",
       "    .dataframe thead th {\n",
       "        text-align: right;\n",
       "    }\n",
       "</style>\n",
       "<table border=\"1\" class=\"dataframe\">\n",
       "  <thead>\n",
       "    <tr style=\"text-align: right;\">\n",
       "      <th></th>\n",
       "      <th>Unnamed: 0</th>\n",
       "      <th>Rev_id</th>\n",
       "      <th>Retailer</th>\n",
       "      <th>Division</th>\n",
       "      <th>Category</th>\n",
       "      <th>Department</th>\n",
       "      <th>Product_URL</th>\n",
       "      <th>Brand</th>\n",
       "      <th>Final_Price_after_Discount</th>\n",
       "      <th>Review_Link</th>\n",
       "      <th>Review_Creation_Date</th>\n",
       "      <th>Review_Rating_Score</th>\n",
       "      <th>preprocessed_review_text</th>\n",
       "      <th>preprocessed_product_name</th>\n",
       "      <th>preprocessed_review_header</th>\n",
       "    </tr>\n",
       "  </thead>\n",
       "  <tbody>\n",
       "    <tr>\n",
       "      <th>0</th>\n",
       "      <td>0</td>\n",
       "      <td>1</td>\n",
       "      <td>Homedepot</td>\n",
       "      <td>lighting</td>\n",
       "      <td>ceiling_fans</td>\n",
       "      <td>ceiling_fans_with_lights</td>\n",
       "      <td>https://www.homedepot.com/p/Hampton-Bay-Rockpo...</td>\n",
       "      <td>hampton_bay</td>\n",
       "      <td>69.97</td>\n",
       "      <td>https://www.homedepot.com/ReviewServices/revie...</td>\n",
       "      <td>2018-04-24</td>\n",
       "      <td>1</td>\n",
       "      <td>excellent fan excellent price</td>\n",
       "      <td>rockport_52_led_brushed_nickel_ceiling_fan_lig...</td>\n",
       "      <td>excellent fan excellent price</td>\n",
       "    </tr>\n",
       "    <tr>\n",
       "      <th>1</th>\n",
       "      <td>1</td>\n",
       "      <td>2</td>\n",
       "      <td>Homedepot</td>\n",
       "      <td>lighting</td>\n",
       "      <td>ceiling_fans</td>\n",
       "      <td>ceiling_fans_with_lights</td>\n",
       "      <td>https://www.homedepot.com/p/Hampton-Bay-Rockpo...</td>\n",
       "      <td>hampton_bay</td>\n",
       "      <td>69.97</td>\n",
       "      <td>https://www.homedepot.com/ReviewServices/revie...</td>\n",
       "      <td>2019-10-15</td>\n",
       "      <td>1</td>\n",
       "      <td>put fans spec houses everyone likes like price...</td>\n",
       "      <td>rockport_52_led_brushed_nickel_ceiling_fan_lig...</td>\n",
       "      <td>put fans spec houses everyone</td>\n",
       "    </tr>\n",
       "    <tr>\n",
       "      <th>2</th>\n",
       "      <td>2</td>\n",
       "      <td>3</td>\n",
       "      <td>Homedepot</td>\n",
       "      <td>lighting</td>\n",
       "      <td>ceiling_fans</td>\n",
       "      <td>ceiling_fans_with_lights</td>\n",
       "      <td>https://www.homedepot.com/p/Hampton-Bay-Rockpo...</td>\n",
       "      <td>hampton_bay</td>\n",
       "      <td>69.97</td>\n",
       "      <td>https://www.homedepot.com/ReviewServices/revie...</td>\n",
       "      <td>2019-07-03</td>\n",
       "      <td>1</td>\n",
       "      <td>rating provided verified purchaser</td>\n",
       "      <td>rockport_52_led_brushed_nickel_ceiling_fan_lig...</td>\n",
       "      <td>5 star review</td>\n",
       "    </tr>\n",
       "  </tbody>\n",
       "</table>\n",
       "</div>"
      ],
      "text/plain": [
       "   Unnamed: 0  Rev_id   Retailer  Division      Category  \\\n",
       "0           0       1  Homedepot  lighting  ceiling_fans   \n",
       "1           1       2  Homedepot  lighting  ceiling_fans   \n",
       "2           2       3  Homedepot  lighting  ceiling_fans   \n",
       "\n",
       "                 Department  \\\n",
       "0  ceiling_fans_with_lights   \n",
       "1  ceiling_fans_with_lights   \n",
       "2  ceiling_fans_with_lights   \n",
       "\n",
       "                                         Product_URL        Brand  \\\n",
       "0  https://www.homedepot.com/p/Hampton-Bay-Rockpo...  hampton_bay   \n",
       "1  https://www.homedepot.com/p/Hampton-Bay-Rockpo...  hampton_bay   \n",
       "2  https://www.homedepot.com/p/Hampton-Bay-Rockpo...  hampton_bay   \n",
       "\n",
       "   Final_Price_after_Discount  \\\n",
       "0                       69.97   \n",
       "1                       69.97   \n",
       "2                       69.97   \n",
       "\n",
       "                                         Review_Link Review_Creation_Date  \\\n",
       "0  https://www.homedepot.com/ReviewServices/revie...           2018-04-24   \n",
       "1  https://www.homedepot.com/ReviewServices/revie...           2019-10-15   \n",
       "2  https://www.homedepot.com/ReviewServices/revie...           2019-07-03   \n",
       "\n",
       "   Review_Rating_Score                           preprocessed_review_text  \\\n",
       "0                    1                      excellent fan excellent price   \n",
       "1                    1  put fans spec houses everyone likes like price...   \n",
       "2                    1                 rating provided verified purchaser   \n",
       "\n",
       "                           preprocessed_product_name  \\\n",
       "0  rockport_52_led_brushed_nickel_ceiling_fan_lig...   \n",
       "1  rockport_52_led_brushed_nickel_ceiling_fan_lig...   \n",
       "2  rockport_52_led_brushed_nickel_ceiling_fan_lig...   \n",
       "\n",
       "      preprocessed_review_header  \n",
       "0  excellent fan excellent price  \n",
       "1  put fans spec houses everyone  \n",
       "2                  5 star review  "
      ]
     },
     "execution_count": 3,
     "metadata": {},
     "output_type": "execute_result"
    }
   ],
   "source": [
    "df.head(3)"
   ]
  },
  {
   "cell_type": "code",
   "execution_count": 4,
   "metadata": {},
   "outputs": [],
   "source": [
    "# dropping the column Unnamed: 0 which was created during saving the file\n",
    "df=df.drop(columns={'Unnamed: 0'})"
   ]
  },
  {
   "cell_type": "code",
   "execution_count": 5,
   "metadata": {},
   "outputs": [
    {
     "data": {
      "text/html": [
       "<div>\n",
       "<style scoped>\n",
       "    .dataframe tbody tr th:only-of-type {\n",
       "        vertical-align: middle;\n",
       "    }\n",
       "\n",
       "    .dataframe tbody tr th {\n",
       "        vertical-align: top;\n",
       "    }\n",
       "\n",
       "    .dataframe thead th {\n",
       "        text-align: right;\n",
       "    }\n",
       "</style>\n",
       "<table border=\"1\" class=\"dataframe\">\n",
       "  <thead>\n",
       "    <tr style=\"text-align: right;\">\n",
       "      <th></th>\n",
       "      <th>Rev_id</th>\n",
       "      <th>Retailer</th>\n",
       "      <th>Division</th>\n",
       "      <th>Category</th>\n",
       "      <th>Department</th>\n",
       "      <th>Product_URL</th>\n",
       "      <th>Brand</th>\n",
       "      <th>Final_Price_after_Discount</th>\n",
       "      <th>Review_Link</th>\n",
       "      <th>Review_Creation_Date</th>\n",
       "      <th>Review_Rating_Score</th>\n",
       "      <th>preprocessed_review_text</th>\n",
       "      <th>preprocessed_product_name</th>\n",
       "      <th>preprocessed_review_header</th>\n",
       "    </tr>\n",
       "  </thead>\n",
       "  <tbody>\n",
       "    <tr>\n",
       "      <th>0</th>\n",
       "      <td>1</td>\n",
       "      <td>Homedepot</td>\n",
       "      <td>lighting</td>\n",
       "      <td>ceiling_fans</td>\n",
       "      <td>ceiling_fans_with_lights</td>\n",
       "      <td>https://www.homedepot.com/p/Hampton-Bay-Rockpo...</td>\n",
       "      <td>hampton_bay</td>\n",
       "      <td>69.97</td>\n",
       "      <td>https://www.homedepot.com/ReviewServices/revie...</td>\n",
       "      <td>2018-04-24</td>\n",
       "      <td>1</td>\n",
       "      <td>excellent fan excellent price</td>\n",
       "      <td>rockport_52_led_brushed_nickel_ceiling_fan_lig...</td>\n",
       "      <td>excellent fan excellent price</td>\n",
       "    </tr>\n",
       "  </tbody>\n",
       "</table>\n",
       "</div>"
      ],
      "text/plain": [
       "   Rev_id   Retailer  Division      Category                Department  \\\n",
       "0       1  Homedepot  lighting  ceiling_fans  ceiling_fans_with_lights   \n",
       "\n",
       "                                         Product_URL        Brand  \\\n",
       "0  https://www.homedepot.com/p/Hampton-Bay-Rockpo...  hampton_bay   \n",
       "\n",
       "   Final_Price_after_Discount  \\\n",
       "0                       69.97   \n",
       "\n",
       "                                         Review_Link Review_Creation_Date  \\\n",
       "0  https://www.homedepot.com/ReviewServices/revie...           2018-04-24   \n",
       "\n",
       "   Review_Rating_Score       preprocessed_review_text  \\\n",
       "0                    1  excellent fan excellent price   \n",
       "\n",
       "                           preprocessed_product_name  \\\n",
       "0  rockport_52_led_brushed_nickel_ceiling_fan_lig...   \n",
       "\n",
       "      preprocessed_review_header  \n",
       "0  excellent fan excellent price  "
      ]
     },
     "execution_count": 5,
     "metadata": {},
     "output_type": "execute_result"
    }
   ],
   "source": [
    "df.head(1)"
   ]
  },
  {
   "cell_type": "markdown",
   "metadata": {},
   "source": [
    "## Calculating sentiment scores of review text using nltk"
   ]
  },
  {
   "cell_type": "code",
   "execution_count": 6,
   "metadata": {},
   "outputs": [],
   "source": [
    "# Importing nltk and SentimentIntensityAnalyzer\n",
    "import nltk\n",
    "from nltk.sentiment.vader import SentimentIntensityAnalyzer"
   ]
  },
  {
   "cell_type": "code",
   "execution_count": 7,
   "metadata": {},
   "outputs": [
    {
     "name": "stderr",
     "output_type": "stream",
     "text": [
      "[nltk_data] Downloading package vader_lexicon to\n",
      "[nltk_data]     C:\\Users\\chanchal\\AppData\\Roaming\\nltk_data...\n",
      "[nltk_data]   Package vader_lexicon is already up-to-date!\n"
     ]
    },
    {
     "data": {
      "text/plain": [
       "True"
      ]
     },
     "execution_count": 7,
     "metadata": {},
     "output_type": "execute_result"
    }
   ],
   "source": [
    "nltk.download('vader_lexicon')"
   ]
  },
  {
   "cell_type": "code",
   "execution_count": 8,
   "metadata": {},
   "outputs": [],
   "source": [
    "# Initalizing SentimentIntensityAnalyzer\n",
    "sid = SentimentIntensityAnalyzer()"
   ]
  },
  {
   "cell_type": "code",
   "execution_count": 9,
   "metadata": {},
   "outputs": [],
   "source": [
    "# Storing essay from the dataframe in a variable 'essay'\n",
    "preprocessed_review_text = df['preprocessed_review_text']"
   ]
  },
  {
   "cell_type": "code",
   "execution_count": 10,
   "metadata": {},
   "outputs": [],
   "source": [
    "# Getting polarity scores for each essay and storing it in a dictionary\n",
    "scores_dict = df['preprocessed_review_text'].apply(lambda essay:sid.polarity_scores(str(essay)))"
   ]
  },
  {
   "cell_type": "code",
   "execution_count": 11,
   "metadata": {},
   "outputs": [],
   "source": [
    "# Converting the dictionary to a dataframe, this will be used to merge with our main dataframe\n",
    "df1=pd.DataFrame.from_records(scores_dict)"
   ]
  },
  {
   "cell_type": "code",
   "execution_count": 12,
   "metadata": {},
   "outputs": [
    {
     "data": {
      "text/html": [
       "<div>\n",
       "<style scoped>\n",
       "    .dataframe tbody tr th:only-of-type {\n",
       "        vertical-align: middle;\n",
       "    }\n",
       "\n",
       "    .dataframe tbody tr th {\n",
       "        vertical-align: top;\n",
       "    }\n",
       "\n",
       "    .dataframe thead th {\n",
       "        text-align: right;\n",
       "    }\n",
       "</style>\n",
       "<table border=\"1\" class=\"dataframe\">\n",
       "  <thead>\n",
       "    <tr style=\"text-align: right;\">\n",
       "      <th></th>\n",
       "      <th>neg</th>\n",
       "      <th>neu</th>\n",
       "      <th>pos</th>\n",
       "      <th>compound</th>\n",
       "    </tr>\n",
       "  </thead>\n",
       "  <tbody>\n",
       "    <tr>\n",
       "      <th>0</th>\n",
       "      <td>0.0</td>\n",
       "      <td>0.093</td>\n",
       "      <td>0.907</td>\n",
       "      <td>0.8658</td>\n",
       "    </tr>\n",
       "  </tbody>\n",
       "</table>\n",
       "</div>"
      ],
      "text/plain": [
       "   neg    neu    pos  compound\n",
       "0  0.0  0.093  0.907    0.8658"
      ]
     },
     "execution_count": 12,
     "metadata": {},
     "output_type": "execute_result"
    }
   ],
   "source": [
    "# Checking the head of the new dataframe\n",
    "df1.head(1)"
   ]
  },
  {
   "cell_type": "code",
   "execution_count": 13,
   "metadata": {},
   "outputs": [],
   "source": [
    "# Merging the main dataframe with the new dataframe\n",
    "df=pd.merge(df, df1, left_index=True, right_index=True)"
   ]
  },
  {
   "cell_type": "code",
   "execution_count": 14,
   "metadata": {},
   "outputs": [
    {
     "data": {
      "text/html": [
       "<div>\n",
       "<style scoped>\n",
       "    .dataframe tbody tr th:only-of-type {\n",
       "        vertical-align: middle;\n",
       "    }\n",
       "\n",
       "    .dataframe tbody tr th {\n",
       "        vertical-align: top;\n",
       "    }\n",
       "\n",
       "    .dataframe thead th {\n",
       "        text-align: right;\n",
       "    }\n",
       "</style>\n",
       "<table border=\"1\" class=\"dataframe\">\n",
       "  <thead>\n",
       "    <tr style=\"text-align: right;\">\n",
       "      <th></th>\n",
       "      <th>Rev_id</th>\n",
       "      <th>Retailer</th>\n",
       "      <th>Division</th>\n",
       "      <th>Category</th>\n",
       "      <th>Department</th>\n",
       "      <th>Product_URL</th>\n",
       "      <th>Brand</th>\n",
       "      <th>Final_Price_after_Discount</th>\n",
       "      <th>Review_Link</th>\n",
       "      <th>Review_Creation_Date</th>\n",
       "      <th>Review_Rating_Score</th>\n",
       "      <th>preprocessed_review_text</th>\n",
       "      <th>preprocessed_product_name</th>\n",
       "      <th>preprocessed_review_header</th>\n",
       "      <th>neg</th>\n",
       "      <th>neu</th>\n",
       "      <th>pos</th>\n",
       "      <th>compound</th>\n",
       "    </tr>\n",
       "  </thead>\n",
       "  <tbody>\n",
       "    <tr>\n",
       "      <th>0</th>\n",
       "      <td>1</td>\n",
       "      <td>Homedepot</td>\n",
       "      <td>lighting</td>\n",
       "      <td>ceiling_fans</td>\n",
       "      <td>ceiling_fans_with_lights</td>\n",
       "      <td>https://www.homedepot.com/p/Hampton-Bay-Rockpo...</td>\n",
       "      <td>hampton_bay</td>\n",
       "      <td>69.97</td>\n",
       "      <td>https://www.homedepot.com/ReviewServices/revie...</td>\n",
       "      <td>2018-04-24</td>\n",
       "      <td>1</td>\n",
       "      <td>excellent fan excellent price</td>\n",
       "      <td>rockport_52_led_brushed_nickel_ceiling_fan_lig...</td>\n",
       "      <td>excellent fan excellent price</td>\n",
       "      <td>0.0</td>\n",
       "      <td>0.093</td>\n",
       "      <td>0.907</td>\n",
       "      <td>0.8658</td>\n",
       "    </tr>\n",
       "  </tbody>\n",
       "</table>\n",
       "</div>"
      ],
      "text/plain": [
       "   Rev_id   Retailer  Division      Category                Department  \\\n",
       "0       1  Homedepot  lighting  ceiling_fans  ceiling_fans_with_lights   \n",
       "\n",
       "                                         Product_URL        Brand  \\\n",
       "0  https://www.homedepot.com/p/Hampton-Bay-Rockpo...  hampton_bay   \n",
       "\n",
       "   Final_Price_after_Discount  \\\n",
       "0                       69.97   \n",
       "\n",
       "                                         Review_Link Review_Creation_Date  \\\n",
       "0  https://www.homedepot.com/ReviewServices/revie...           2018-04-24   \n",
       "\n",
       "   Review_Rating_Score       preprocessed_review_text  \\\n",
       "0                    1  excellent fan excellent price   \n",
       "\n",
       "                           preprocessed_product_name  \\\n",
       "0  rockport_52_led_brushed_nickel_ceiling_fan_lig...   \n",
       "\n",
       "      preprocessed_review_header  neg    neu    pos  compound  \n",
       "0  excellent fan excellent price  0.0  0.093  0.907    0.8658  "
      ]
     },
     "execution_count": 14,
     "metadata": {},
     "output_type": "execute_result"
    }
   ],
   "source": [
    "# The dataframe that will be used in our further analysis\n",
    "df.head(1)"
   ]
  },
  {
   "cell_type": "markdown",
   "metadata": {},
   "source": [
    "### Splitting data into Train and Test: Stratified Sampling"
   ]
  },
  {
   "cell_type": "code",
   "execution_count": 15,
   "metadata": {},
   "outputs": [
    {
     "data": {
      "text/html": [
       "<div>\n",
       "<style scoped>\n",
       "    .dataframe tbody tr th:only-of-type {\n",
       "        vertical-align: middle;\n",
       "    }\n",
       "\n",
       "    .dataframe tbody tr th {\n",
       "        vertical-align: top;\n",
       "    }\n",
       "\n",
       "    .dataframe thead th {\n",
       "        text-align: right;\n",
       "    }\n",
       "</style>\n",
       "<table border=\"1\" class=\"dataframe\">\n",
       "  <thead>\n",
       "    <tr style=\"text-align: right;\">\n",
       "      <th></th>\n",
       "      <th>Rev_id</th>\n",
       "      <th>Retailer</th>\n",
       "      <th>Division</th>\n",
       "      <th>Category</th>\n",
       "      <th>Department</th>\n",
       "      <th>Product_URL</th>\n",
       "      <th>Brand</th>\n",
       "      <th>Final_Price_after_Discount</th>\n",
       "      <th>Review_Link</th>\n",
       "      <th>Review_Creation_Date</th>\n",
       "      <th>preprocessed_review_text</th>\n",
       "      <th>preprocessed_product_name</th>\n",
       "      <th>preprocessed_review_header</th>\n",
       "      <th>neg</th>\n",
       "      <th>neu</th>\n",
       "      <th>pos</th>\n",
       "      <th>compound</th>\n",
       "    </tr>\n",
       "  </thead>\n",
       "  <tbody>\n",
       "    <tr>\n",
       "      <th>0</th>\n",
       "      <td>1</td>\n",
       "      <td>Homedepot</td>\n",
       "      <td>lighting</td>\n",
       "      <td>ceiling_fans</td>\n",
       "      <td>ceiling_fans_with_lights</td>\n",
       "      <td>https://www.homedepot.com/p/Hampton-Bay-Rockpo...</td>\n",
       "      <td>hampton_bay</td>\n",
       "      <td>69.97</td>\n",
       "      <td>https://www.homedepot.com/ReviewServices/revie...</td>\n",
       "      <td>2018-04-24</td>\n",
       "      <td>excellent fan excellent price</td>\n",
       "      <td>rockport_52_led_brushed_nickel_ceiling_fan_lig...</td>\n",
       "      <td>excellent fan excellent price</td>\n",
       "      <td>0.0</td>\n",
       "      <td>0.093</td>\n",
       "      <td>0.907</td>\n",
       "      <td>0.8658</td>\n",
       "    </tr>\n",
       "  </tbody>\n",
       "</table>\n",
       "</div>"
      ],
      "text/plain": [
       "   Rev_id   Retailer  Division      Category                Department  \\\n",
       "0       1  Homedepot  lighting  ceiling_fans  ceiling_fans_with_lights   \n",
       "\n",
       "                                         Product_URL        Brand  \\\n",
       "0  https://www.homedepot.com/p/Hampton-Bay-Rockpo...  hampton_bay   \n",
       "\n",
       "   Final_Price_after_Discount  \\\n",
       "0                       69.97   \n",
       "\n",
       "                                         Review_Link Review_Creation_Date  \\\n",
       "0  https://www.homedepot.com/ReviewServices/revie...           2018-04-24   \n",
       "\n",
       "        preprocessed_review_text  \\\n",
       "0  excellent fan excellent price   \n",
       "\n",
       "                           preprocessed_product_name  \\\n",
       "0  rockport_52_led_brushed_nickel_ceiling_fan_lig...   \n",
       "\n",
       "      preprocessed_review_header  neg    neu    pos  compound  \n",
       "0  excellent fan excellent price  0.0  0.093  0.907    0.8658  "
      ]
     },
     "execution_count": 15,
     "metadata": {},
     "output_type": "execute_result"
    }
   ],
   "source": [
    "# Segregating the dependent and independent variables as y and X respectively\n",
    "y = df['Review_Rating_Score'].values\n",
    "X = df.drop(['Review_Rating_Score'], axis=1)\n",
    "X.head(1)"
   ]
  },
  {
   "cell_type": "code",
   "execution_count": 16,
   "metadata": {},
   "outputs": [],
   "source": [
    "# Splitting the data into train and test set\n",
    "from sklearn.model_selection import train_test_split\n",
    "X_train, X_test, y_train, y_test = train_test_split(X, y, test_size=0.25, stratify=y)"
   ]
  },
  {
   "cell_type": "code",
   "execution_count": 17,
   "metadata": {},
   "outputs": [
    {
     "name": "stdout",
     "output_type": "stream",
     "text": [
      "(841, 17) (841,)\n",
      "(281, 17) (281,)\n"
     ]
    }
   ],
   "source": [
    "# Printing the shape of the data\n",
    "print(X_train.shape, y_train.shape)\n",
    "print(X_test.shape, y_test.shape)"
   ]
  },
  {
   "cell_type": "markdown",
   "metadata": {},
   "source": [
    "# Bag of Words"
   ]
  },
  {
   "cell_type": "markdown",
   "metadata": {},
   "source": [
    "### Review Text"
   ]
  },
  {
   "cell_type": "code",
   "execution_count": 18,
   "metadata": {},
   "outputs": [],
   "source": [
    "# Implementing Bag of Words\n",
    "vectorizer_bow = CountVectorizer(min_df=5)"
   ]
  },
  {
   "cell_type": "code",
   "execution_count": 19,
   "metadata": {},
   "outputs": [
    {
     "data": {
      "text/plain": [
       "CountVectorizer(min_df=5)"
      ]
     },
     "execution_count": 19,
     "metadata": {},
     "output_type": "execute_result"
    }
   ],
   "source": [
    "# Applying fit method on 'preprocessed_review_text' column\n",
    "vectorizer_bow.fit(X_train['preprocessed_review_text'].values) # fit has to happen only on train data"
   ]
  },
  {
   "cell_type": "code",
   "execution_count": 20,
   "metadata": {},
   "outputs": [],
   "source": [
    "# Applying transform method on train and test set\n",
    "X_train_review_text_bow = vectorizer_bow.transform(X_train['preprocessed_review_text'].values)"
   ]
  },
  {
   "cell_type": "code",
   "execution_count": 21,
   "metadata": {},
   "outputs": [],
   "source": [
    "X_test_review_text_bow = vectorizer_bow.transform(X_test['preprocessed_review_text'].values)"
   ]
  },
  {
   "cell_type": "code",
   "execution_count": 22,
   "metadata": {},
   "outputs": [
    {
     "name": "stdout",
     "output_type": "stream",
     "text": [
      "After vectorizations\n",
      "(841, 589) (841,)\n",
      "(281, 589) (281,)\n"
     ]
    }
   ],
   "source": [
    "# Shape of the data after vectorization\n",
    "print(\"After vectorizations\")\n",
    "print(X_train_review_text_bow.shape, y_train.shape)\n",
    "print(X_test_review_text_bow.shape, y_test.shape)"
   ]
  },
  {
   "cell_type": "code",
   "execution_count": 23,
   "metadata": {},
   "outputs": [
    {
     "data": {
      "text/html": [
       "<div>\n",
       "<style scoped>\n",
       "    .dataframe tbody tr th:only-of-type {\n",
       "        vertical-align: middle;\n",
       "    }\n",
       "\n",
       "    .dataframe tbody tr th {\n",
       "        vertical-align: top;\n",
       "    }\n",
       "\n",
       "    .dataframe thead th {\n",
       "        text-align: right;\n",
       "    }\n",
       "</style>\n",
       "<table border=\"1\" class=\"dataframe\">\n",
       "  <thead>\n",
       "    <tr style=\"text-align: right;\">\n",
       "      <th></th>\n",
       "      <th>Rev_id</th>\n",
       "      <th>Retailer</th>\n",
       "      <th>Division</th>\n",
       "      <th>Category</th>\n",
       "      <th>Department</th>\n",
       "      <th>Product_URL</th>\n",
       "      <th>Brand</th>\n",
       "      <th>Final_Price_after_Discount</th>\n",
       "      <th>Review_Link</th>\n",
       "      <th>Review_Creation_Date</th>\n",
       "      <th>preprocessed_review_text</th>\n",
       "      <th>preprocessed_product_name</th>\n",
       "      <th>preprocessed_review_header</th>\n",
       "      <th>neg</th>\n",
       "      <th>neu</th>\n",
       "      <th>pos</th>\n",
       "      <th>compound</th>\n",
       "    </tr>\n",
       "  </thead>\n",
       "  <tbody>\n",
       "    <tr>\n",
       "      <th>694</th>\n",
       "      <td>730</td>\n",
       "      <td>Lowes</td>\n",
       "      <td>lighting_&amp;_ceiling_fans</td>\n",
       "      <td>ceiling_fans_&amp;_accessories</td>\n",
       "      <td>ceiling_fans</td>\n",
       "      <td>https://www.lowes.com/pd/Harbor-Breeze-Centrev...</td>\n",
       "      <td>harbor_breeze</td>\n",
       "      <td>49.98</td>\n",
       "      <td>https://www.lowes.com/pd/Harbor-Breeze-Centrev...</td>\n",
       "      <td>2019-10-14</td>\n",
       "      <td>fan much quiet one got rid love look furniture</td>\n",
       "      <td>harbor_breeze_centreville_52_antique_brass_led...</td>\n",
       "      <td>great large bedroom</td>\n",
       "      <td>0.0</td>\n",
       "      <td>0.519</td>\n",
       "      <td>0.481</td>\n",
       "      <td>0.7579</td>\n",
       "    </tr>\n",
       "    <tr>\n",
       "      <th>482</th>\n",
       "      <td>510</td>\n",
       "      <td>Homedepot</td>\n",
       "      <td>lighting</td>\n",
       "      <td>ceiling_fans</td>\n",
       "      <td>ceiling_fans_with_lights</td>\n",
       "      <td>https://www.homedepot.com/p/Home-Decorators-Co...</td>\n",
       "      <td>home_decorators_collection</td>\n",
       "      <td>99.97</td>\n",
       "      <td>https://www.homedepot.com/ReviewServices/revie...</td>\n",
       "      <td>2019-09-12</td>\n",
       "      <td>rating provided verified purchaser</td>\n",
       "      <td>merwry_52_integrated_led_indoor_white_ceiling_...</td>\n",
       "      <td>5 star review</td>\n",
       "      <td>0.0</td>\n",
       "      <td>1.000</td>\n",
       "      <td>0.000</td>\n",
       "      <td>0.0000</td>\n",
       "    </tr>\n",
       "  </tbody>\n",
       "</table>\n",
       "</div>"
      ],
      "text/plain": [
       "     Rev_id   Retailer                 Division                    Category  \\\n",
       "694     730      Lowes  lighting_&_ceiling_fans  ceiling_fans_&_accessories   \n",
       "482     510  Homedepot                 lighting                ceiling_fans   \n",
       "\n",
       "                   Department  \\\n",
       "694              ceiling_fans   \n",
       "482  ceiling_fans_with_lights   \n",
       "\n",
       "                                           Product_URL  \\\n",
       "694  https://www.lowes.com/pd/Harbor-Breeze-Centrev...   \n",
       "482  https://www.homedepot.com/p/Home-Decorators-Co...   \n",
       "\n",
       "                          Brand  Final_Price_after_Discount  \\\n",
       "694               harbor_breeze                       49.98   \n",
       "482  home_decorators_collection                       99.97   \n",
       "\n",
       "                                           Review_Link Review_Creation_Date  \\\n",
       "694  https://www.lowes.com/pd/Harbor-Breeze-Centrev...           2019-10-14   \n",
       "482  https://www.homedepot.com/ReviewServices/revie...           2019-09-12   \n",
       "\n",
       "                           preprocessed_review_text  \\\n",
       "694  fan much quiet one got rid love look furniture   \n",
       "482              rating provided verified purchaser   \n",
       "\n",
       "                             preprocessed_product_name  \\\n",
       "694  harbor_breeze_centreville_52_antique_brass_led...   \n",
       "482  merwry_52_integrated_led_indoor_white_ceiling_...   \n",
       "\n",
       "    preprocessed_review_header  neg    neu    pos  compound  \n",
       "694        great large bedroom  0.0  0.519  0.481    0.7579  \n",
       "482              5 star review  0.0  1.000  0.000    0.0000  "
      ]
     },
     "execution_count": 23,
     "metadata": {},
     "output_type": "execute_result"
    }
   ],
   "source": [
    "X_train.head(2)"
   ]
  },
  {
   "cell_type": "markdown",
   "metadata": {},
   "source": [
    "### Review_Header"
   ]
  },
  {
   "cell_type": "code",
   "execution_count": 24,
   "metadata": {},
   "outputs": [],
   "source": [
    "# Implementing Bag of Words\n",
    "vectorizer_bow_rh = CountVectorizer(min_df=5)"
   ]
  },
  {
   "cell_type": "code",
   "execution_count": 25,
   "metadata": {},
   "outputs": [
    {
     "data": {
      "text/plain": [
       "CountVectorizer(min_df=5)"
      ]
     },
     "execution_count": 25,
     "metadata": {},
     "output_type": "execute_result"
    }
   ],
   "source": [
    "# Applying fit method on 'preprocessed_review_text' column\n",
    "vectorizer_bow_rh.fit(X_train['preprocessed_review_header'].values) # fit has to happen only on train data"
   ]
  },
  {
   "cell_type": "code",
   "execution_count": 26,
   "metadata": {},
   "outputs": [],
   "source": [
    "# Applying transform method on train and test set\n",
    "X_train_review_header_bow = vectorizer_bow_rh.transform(X_train['preprocessed_review_header'].values)"
   ]
  },
  {
   "cell_type": "code",
   "execution_count": 27,
   "metadata": {},
   "outputs": [],
   "source": [
    "X_test_review_header_bow = vectorizer_bow_rh.transform(X_test['preprocessed_review_header'].values)"
   ]
  },
  {
   "cell_type": "code",
   "execution_count": 28,
   "metadata": {},
   "outputs": [
    {
     "name": "stdout",
     "output_type": "stream",
     "text": [
      "After vectorizations\n",
      "(841, 119) (841,)\n",
      "(281, 119) (281,)\n"
     ]
    }
   ],
   "source": [
    "# Shape of the data after vectorization\n",
    "print(\"After vectorizations\")\n",
    "print(X_train_review_header_bow.shape, y_train.shape)\n",
    "print(X_test_review_header_bow.shape, y_test.shape)"
   ]
  },
  {
   "cell_type": "markdown",
   "metadata": {},
   "source": [
    "## Encoding Numerical and Categorical Features"
   ]
  },
  {
   "cell_type": "markdown",
   "metadata": {},
   "source": [
    "#### Encoding Categorical Feature: Retailer"
   ]
  },
  {
   "cell_type": "code",
   "execution_count": 29,
   "metadata": {},
   "outputs": [
    {
     "name": "stdout",
     "output_type": "stream",
     "text": [
      "After vectorizations\n",
      "(841, 2) (841,)\n",
      "(281, 2) (281,)\n",
      "['homedepot', 'lowes']\n",
      "====================================================================================================\n"
     ]
    }
   ],
   "source": [
    "vectorizer_r = CountVectorizer()\n",
    "vectorizer_r.fit(X_train['Retailer'].values) # fit method on train data\n",
    "\n",
    "# we use the fitted CountVectorizer to convert the text to vector\n",
    "X_train_retailer_ohe = vectorizer_r.transform(X_train['Retailer'].values)\n",
    "X_test_retailer_ohe = vectorizer_r.transform(X_test['Retailer'].values)\n",
    "\n",
    "print(\"After vectorizations\")\n",
    "print(X_train_retailer_ohe.shape, y_train.shape)\n",
    "print(X_test_retailer_ohe.shape, y_test.shape)\n",
    "print(vectorizer_r.get_feature_names())\n",
    "print(\"=\"*100)"
   ]
  },
  {
   "cell_type": "markdown",
   "metadata": {},
   "source": [
    "#### Encoding Categorical Feature: Division"
   ]
  },
  {
   "cell_type": "code",
   "execution_count": 30,
   "metadata": {},
   "outputs": [
    {
     "name": "stdout",
     "output_type": "stream",
     "text": [
      "After vectorizations\n",
      "(841, 3) (841,)\n",
      "(281, 3) (281,)\n",
      "['_ceiling_fans', 'lighting', 'lighting_']\n",
      "====================================================================================================\n"
     ]
    }
   ],
   "source": [
    "vectorizer_d = CountVectorizer()\n",
    "vectorizer_d.fit(X_train['Division'].values) # fit method on train data\n",
    "\n",
    "# we use the fitted CountVectorizer to convert the text to vector\n",
    "X_train_division_ohe = vectorizer_d.transform(X_train['Division'].values)\n",
    "X_test_division_ohe = vectorizer_d.transform(X_test['Division'].values)\n",
    "\n",
    "print(\"After vectorizations\")\n",
    "print(X_train_division_ohe.shape, y_train.shape)\n",
    "print(X_test_division_ohe.shape, y_test.shape)\n",
    "print(vectorizer_d.get_feature_names())\n",
    "print(\"=\"*100)"
   ]
  },
  {
   "cell_type": "markdown",
   "metadata": {},
   "source": [
    "#### Encoding Categorical Feature: Category"
   ]
  },
  {
   "cell_type": "code",
   "execution_count": 31,
   "metadata": {},
   "outputs": [
    {
     "name": "stdout",
     "output_type": "stream",
     "text": [
      "After vectorizations\n",
      "(841, 3) (841,)\n",
      "(281, 3) (281,)\n",
      "['_accessories', 'ceiling_fans', 'ceiling_fans_']\n",
      "====================================================================================================\n"
     ]
    }
   ],
   "source": [
    "vectorizer_c = CountVectorizer()\n",
    "vectorizer_c.fit(X_train['Category'].values) # fit method on train data\n",
    "\n",
    "# we use the fitted CountVectorizer to convert the text to vector\n",
    "X_train_category_ohe = vectorizer_d.transform(X_train['Category'].values)\n",
    "X_test_category_ohe = vectorizer_d.transform(X_test['Category'].values)\n",
    "\n",
    "print(\"After vectorizations\")\n",
    "print(X_train_category_ohe.shape, y_train.shape)\n",
    "print(X_test_category_ohe.shape, y_test.shape)\n",
    "print(vectorizer_c.get_feature_names())\n",
    "print(\"=\"*100)"
   ]
  },
  {
   "cell_type": "markdown",
   "metadata": {},
   "source": [
    "#### Encoding Categorical Feature: Department"
   ]
  },
  {
   "cell_type": "code",
   "execution_count": 32,
   "metadata": {},
   "outputs": [
    {
     "name": "stdout",
     "output_type": "stream",
     "text": [
      "After vectorizations\n",
      "(841, 3) (841,)\n",
      "(281, 3) (281,)\n",
      "['ceiling_fans', 'ceiling_fans_with_lights', 'ceiling_fans_without_lights']\n",
      "====================================================================================================\n"
     ]
    }
   ],
   "source": [
    "vectorizer_de = CountVectorizer()\n",
    "vectorizer_de.fit(X_train['Department'].values) # fit method on train data\n",
    "\n",
    "# we use the fitted CountVectorizer to convert the text to vector\n",
    "X_train_department_ohe = vectorizer_d.transform(X_train['Department'].values)\n",
    "X_test_department_ohe = vectorizer_d.transform(X_test['Department'].values)\n",
    "\n",
    "print(\"After vectorizations\")\n",
    "print(X_train_department_ohe.shape, y_train.shape)\n",
    "print(X_test_department_ohe.shape, y_test.shape)\n",
    "print(vectorizer_de.get_feature_names())\n",
    "print(\"=\"*100)"
   ]
  },
  {
   "cell_type": "markdown",
   "metadata": {},
   "source": [
    "#### Encoding Categorical Feature: Brand"
   ]
  },
  {
   "cell_type": "code",
   "execution_count": 33,
   "metadata": {},
   "outputs": [
    {
     "name": "stdout",
     "output_type": "stream",
     "text": [
      "After vectorizations\n",
      "(841, 3) (841,)\n",
      "(281, 3) (281,)\n",
      "['brand_not_mentioned', 'fanimation_studio_collection', 'hampton_bay', 'harbor_breeze', 'home_decorators_collection', 'hunter', 'kichler']\n",
      "====================================================================================================\n"
     ]
    }
   ],
   "source": [
    "vectorizer_b = CountVectorizer()\n",
    "vectorizer_b.fit(X_train['Brand'].values) # fit method on train data\n",
    "\n",
    "# we use the fitted CountVectorizer to convert the text to vector\n",
    "X_train_brand_ohe = vectorizer_d.transform(X_train['Brand'].values)\n",
    "X_test_brand_ohe = vectorizer_d.transform(X_test['Brand'].values)\n",
    "\n",
    "print(\"After vectorizations\")\n",
    "print(X_train_brand_ohe.shape, y_train.shape)\n",
    "print(X_test_brand_ohe.shape, y_test.shape)\n",
    "print(vectorizer_b.get_feature_names())\n",
    "print(\"=\"*100)"
   ]
  },
  {
   "cell_type": "markdown",
   "metadata": {},
   "source": [
    "#### Encoding Categorical Feature: preprocessed_product_name"
   ]
  },
  {
   "cell_type": "code",
   "execution_count": 34,
   "metadata": {},
   "outputs": [
    {
     "name": "stdout",
     "output_type": "stream",
     "text": [
      "After vectorizations\n",
      "(841, 79) (841,)\n",
      "(281, 79) (281,)\n",
      "['altura_60_outdoor_oil_rubbed_bronze_ceiling_fan', 'altura_68_indoor_oil_rubbed_bronze_ceiling_fan_remote_control', 'antero_46_led_indoor_brushed_nickel_ceiling_fan_light', 'ashby_park_44_white_color_changing_integrated_led_brushed_nickel_ceiling_fan_light_kit', 'ashby_park_52_white_color_changing_integrated_led_brushed_nickel_ceiling_fan_light_kit_remote_control', 'barnes_bay_52_led_indoor_outdoor_natural_iron_ceiling_fan_light_kit', 'bellina_42_oil_rubbed_bronze_ceiling_fan_led_light_kit', 'brette_23_led_indoor_outdoor_brushed_nickel_ceiling_fan_light_kit_remote_control', 'brookhurst_52_led_indoor_white_ceiling_fan_light_kit', 'channelside_52_led_indoor_outdoor_noble_bronze_ceiling_fan_remote_control', 'channing_54_led_indoor_easy_install_noble_bronze_ceiling_fan_hunterexpress_feature_set', 'clarkston_ii_44_led_indoor_brushed_nickel_ceiling_fan_light_kit', 'connor_54_led_brushed_nickel_dual_mount_ceiling_fan_light_kit_remote_control', 'ellard_52_led_matte_black_indoor_ceiling_fan_lights', 'fanimation_studio_collection_aire_drop_52_brushed_nickel_led_indoor_ceiling_fan_light_kit_remote_5_blade', 'fanimation_studio_collection_aire_drop_52_matte_white_led_indoor_ceiling_fan_light_kit_remote_5_blade', 'fanimation_studio_collection_blitz_56_brushed_nickel_led_indoor_outdoor_ceiling_fan_light_kit_remote_7_blade', 'fanimation_studio_collection_blitz_56_matte_black_led_indoor_outdoor_ceiling_fan_light_kit_remote_7_blade', 'fanimation_studio_collection_prop_60_matte_gray_indoor_ceiling_fan_remote_3_blade', 'fanimation_studio_collection_ringaire_23_chrome_led_indoor_ceiling_fan_light_kit_remote_3_blade', 'fanimation_studio_collection_slinger_v2_72_brushed_nickel_led_indoor_outdoor_commercial_residential_ceiling_fan_light_kit_included_remote_control_included_9_blade', 'fanimation_studio_collection_slinger_v2_72_matte_black_led_indoor_outdoor_ceiling_fan_light_kit_remote_9_blade', 'fanimation_studio_collection_weather_pylon_48_matte_black_led_indoor_outdoor_ceiling_fan_light_kit_remote_3_blade', 'federigo_48_integrated_led_indoor_nickel_ceiling_fan_light_kit_remote_control', 'gazebo_52_led_indoor_outdoor_natural_iron_ceiling_fan_light_kit', 'glendale_52_led_indoor_brushed_nickel_ceiling_fan_light_kit', 'grayton_54_led_indoor_outdoor_galvanized_ceiling_fan_light_kit_remote_control', 'harbor_breeze_armitage_42_white_led_indoor_flush_mount_ceiling_fan_light_kit_4_blade', 'harbor_breeze_armitage_52_bronze_led_indoor_flush_mount_ceiling_fan_light_kit_5_blade', 'harbor_breeze_armitage_52_brushed_nickel_led_indoor_flush_mount_ceiling_fan_light_kit_5_blade', 'harbor_breeze_armitage_builder_series_52_white_led_indoor_flush_mount_ceiling_fan_light_kit_5_blade', 'harbor_breeze_barnstaple_bay_52_bronze_indoor_ceiling_fan_light_kit_5_blade', 'harbor_breeze_barnstaple_bay_52_brushed_nickel_indoor_ceiling_fan_light_kit_5_blade', 'harbor_breeze_barnstaple_bay_52_white_indoor_ceiling_fan_light_kit_5_blade', 'harbor_breeze_bayou_creek_56_bronze_indoor_ceiling_fan_light_kit_remote_5_blade', 'harbor_breeze_beach_creek_44_brushed_nickel_led_indoor_ceiling_fan_light_kit_remote_3_blade', 'harbor_breeze_centreville_42_antique_brass_led_indoor_flush_mount_ceiling_fan_light_kit_5_blade', 'harbor_breeze_centreville_52_antique_brass_led_indoor_flush_mount_ceiling_fan_light_kit_5_blade', 'harbor_breeze_centreville_52_brushed_nickel_led_indoor_flush_mount_ceiling_fan_light_kit_5_blade', 'harbor_breeze_classic_36_white_led_indoor_ceiling_fan_light_kit_5_blade', 'harbor_breeze_kingsbury_70_oil_rubbed_bronze_indoor_ceiling_fan_light_kit_remote_5_blade', 'harbor_breeze_laralyn_32_oil_rubbed_bronze_led_indoor_ceiling_fan_light_kit_4_blade', 'harbor_breeze_mazon_44_brushed_nickel_indoor_flush_mount_ceiling_fan_light_kit_remote_3_blade', 'harbor_breeze_merrimack_52_antique_bronze_indoor_outdoor_ceiling_fan_light_kit_remote_5_blade', 'harbor_breeze_notus_52_brushed_nickel_led_indoor_ceiling_fan_light_kit_5_blade', 'harbor_breeze_pacific_grove_52_oil_rubbed_bronze_indoor_outdoor_ceiling_fan_5_blade', 'harbor_breeze_sail_stream_52_brushed_nickel_led_indoor_flush_mount_ceiling_fan_light_kit_remote_3_blade', 'harbor_breeze_sailstream_44_gloss_white_led_indoor_flush_mount_ceiling_fan_light_kit_remote_3_blade', 'hawkins_44_led_oil_rubbed_bronze_ceiling_fan_light', 'hugger_52_led_indoor_brushed_nickel_ceiling_fan_light_kit', 'hunter_creekside_led_52_satin_bronze_led_indoor_ceiling_fan_light_kit_5_blade', 'hunter_creekside_led_52_satin_nickel_led_indoor_ceiling_fan_light_kit_5_blade', 'hunter_lantern_bay_led_54_matte_black_led_indoor_outdoor_ceiling_fan_light_kit_remote_5_blade', 'hunter_lincoln_edison_style_led_52_matte_black_led_indoor_ceiling_fan_light_kit_5_blade', 'hunter_lincoln_edison_style_led_52_matte_bronze_led_indoor_ceiling_fan_light_kit_5_blade', 'kennesaw_42_led_indoor_white_ceiling_fan_light_kit', 'kensgrove_54_integrated_led_indoor_brushed_nickel_ceiling_fan_light_kit_remote_control', 'kensgrove_54_integrated_led_indoor_espresso_bronze_ceiling_fan_light_kit_remote_control', 'kensgrove_72_led_indoor_outdoor_espresso_bronze_ceiling_fan_remote_control', 'kichler_54_satin_bronze_led_indoor_ceiling_fan_light_kit_remote_3_blade', 'kichler_56_satin_black_indoor_ceiling_fan_remote_2_blade', 'kichler_barrington_52_distressed_black_led_indoor_ceiling_fan_light_kit_remote_5_blade', 'kichler_clermont_52_satin_bronze_led_indoor_ceiling_fan_light_kit_remote_5_blade', 'littleton_42_led_indoor_white_ceiling_fan_light_kit', 'menage_52_integrated_led_indoor_low_profile_brushed_nickel_ceiling_fan_light_kit', 'mercer_52_led_indoor_brushed_nickel_ceiling_fan_light_kit_remote_control', 'merwry_52_integrated_led_indoor_brushed_nickel_ceiling_fan_light_kit_remote_control', 'merwry_52_integrated_led_indoor_matte_black_ceiling_fan_light_kit_remote_control', 'merwry_52_integrated_led_indoor_white_ceiling_fan_light_kit_remote_control', 'middleton_42_led_indoor_brushed_nickel_ceiling_fan_light_kit', 'montgomery_42_led_indoor_brushed_nickel_ceiling_fan_light_kit', 'oakhurst_52_led_indoor_low_profile_new_bronze_ceiling_fan_light_kit', 'palm_cove_52_led_indoor_outdoor_natural_iron_ceiling_fan_light_kit', 'petersford_52_integrated_led_indoor_oil_rubbed_bronze_ceiling_fan_light_kit_remote_control', 'rockport_52_led_brushed_nickel_ceiling_fan_light_kit', 'rockport_52_led_oil_rubbed_bronze_ceiling_fan_light_kit', 'shanahan_52_led_indoor_outdoor_bronze_ceiling_fan_light_kit', 'tidal_breeze_56_led_indoor_distressed_koa_ceiling_fan_light_kit_remote_control', 'windward_iv_52_led_indoor_brushed_nickel_ceiling_fan_light_kit_remote_control']\n",
      "====================================================================================================\n"
     ]
    }
   ],
   "source": [
    "vectorizer_pn = CountVectorizer()\n",
    "vectorizer_pn.fit(X_train['preprocessed_product_name'].values) # fit method on train data\n",
    "\n",
    "# we use the fitted CountVectorizer to convert the text to vector\n",
    "X_train_pn_ohe = vectorizer_pn.transform(X_train['preprocessed_product_name'].values)\n",
    "X_test_pn_ohe = vectorizer_pn.transform(X_test['preprocessed_product_name'].values)\n",
    "\n",
    "print(\"After vectorizations\")\n",
    "print(X_train_pn_ohe.shape, y_train.shape)\n",
    "print(X_test_pn_ohe.shape, y_test.shape)\n",
    "print(vectorizer_pn.get_feature_names())\n",
    "print(\"=\"*100)"
   ]
  },
  {
   "cell_type": "markdown",
   "metadata": {},
   "source": [
    "#### Encoding Numerical Feature: Price"
   ]
  },
  {
   "cell_type": "code",
   "execution_count": 35,
   "metadata": {},
   "outputs": [
    {
     "name": "stdout",
     "output_type": "stream",
     "text": [
      "After vectorizations\n",
      "(841, 1) (841,)\n",
      "(281, 1) (281,)\n",
      "====================================================================================================\n"
     ]
    }
   ],
   "source": [
    "from sklearn.preprocessing import Normalizer\n",
    "normalizer_pr = Normalizer()\n",
    "\n",
    "normalizer_pr.fit(X_train['Final_Price_after_Discount'].values.reshape(-1,1)) # Applying fit method on train data after reshaping the data\n",
    "\n",
    "X_train_price_norm = normalizer_pr.transform(X_train['Final_Price_after_Discount'].values.reshape(-1,1)) # Applying transform method on train and test\n",
    "X_test_price_norm = normalizer_pr.transform(X_test['Final_Price_after_Discount'].values.reshape(-1,1))\n",
    "\n",
    "print(\"After vectorizations\")\n",
    "print(X_train_price_norm.shape, y_train.shape)\n",
    "print(X_test_price_norm.shape, y_test.shape)\n",
    "print(\"=\"*100)"
   ]
  },
  {
   "cell_type": "markdown",
   "metadata": {},
   "source": [
    "#### Encoding Numerical Feature: neg"
   ]
  },
  {
   "cell_type": "code",
   "execution_count": 36,
   "metadata": {},
   "outputs": [
    {
     "name": "stdout",
     "output_type": "stream",
     "text": [
      "After vectorizations\n",
      "(841, 1) (841,)\n",
      "(281, 1) (281,)\n",
      "====================================================================================================\n"
     ]
    }
   ],
   "source": [
    "from sklearn.preprocessing import Normalizer\n",
    "normalizer_neg = Normalizer()\n",
    "\n",
    "# Applying fit method on train data after reshaping the data\n",
    "normalizer_neg.fit(X_train['neg'].values.reshape(-1,1))\n",
    "\n",
    "# Applying transform method on train and test\n",
    "X_train_neg_norm = normalizer_neg.transform(X_train['neg'].values.reshape(-1,1))\n",
    "X_test_neg_norm = normalizer_neg.transform(X_test['neg'].values.reshape(-1,1))\n",
    "\n",
    "print(\"After vectorizations\")\n",
    "print(X_train_neg_norm.shape, y_train.shape)\n",
    "print(X_test_neg_norm.shape, y_test.shape)\n",
    "print(\"=\"*100)"
   ]
  },
  {
   "cell_type": "markdown",
   "metadata": {},
   "source": [
    "#### Encoding Numerical Feature: neu"
   ]
  },
  {
   "cell_type": "code",
   "execution_count": 37,
   "metadata": {},
   "outputs": [
    {
     "name": "stdout",
     "output_type": "stream",
     "text": [
      "After vectorizations\n",
      "(841, 1) (841,)\n",
      "(281, 1) (281,)\n",
      "====================================================================================================\n"
     ]
    }
   ],
   "source": [
    "from sklearn.preprocessing import Normalizer\n",
    "normalizer_neu = Normalizer()\n",
    "\n",
    "# Applying fit method on train data after reshaping the data\n",
    "normalizer_neu.fit(X_train['neu'].values.reshape(-1,1))\n",
    "\n",
    "# Applying transform method on train and test\n",
    "X_train_neu_norm = normalizer_neu.transform(X_train['neu'].values.reshape(-1,1))\n",
    "X_test_neu_norm = normalizer_neu.transform(X_test['neu'].values.reshape(-1,1))\n",
    "\n",
    "print(\"After vectorizations\")\n",
    "print(X_train_neu_norm.shape, y_train.shape)\n",
    "print(X_test_neu_norm.shape, y_test.shape)\n",
    "print(\"=\"*100)"
   ]
  },
  {
   "cell_type": "markdown",
   "metadata": {},
   "source": [
    "#### Encoding Numerical Feature: pos"
   ]
  },
  {
   "cell_type": "code",
   "execution_count": 38,
   "metadata": {},
   "outputs": [
    {
     "name": "stdout",
     "output_type": "stream",
     "text": [
      "After vectorizations\n",
      "(841, 1) (841,)\n",
      "(281, 1) (281,)\n",
      "====================================================================================================\n"
     ]
    }
   ],
   "source": [
    "from sklearn.preprocessing import Normalizer\n",
    "normalizer_pos = Normalizer()\n",
    "\n",
    "# Applying fit method on train data after reshaping the data\n",
    "normalizer_pos.fit(X_train['pos'].values.reshape(-1,1))\n",
    "\n",
    "# Applying transform method on train and test\n",
    "X_train_pos_norm = normalizer_pos.transform(X_train['pos'].values.reshape(-1,1))\n",
    "X_test_pos_norm = normalizer_pos.transform(X_test['pos'].values.reshape(-1,1))\n",
    "\n",
    "print(\"After vectorizations\")\n",
    "print(X_train_pos_norm.shape, y_train.shape)\n",
    "print(X_test_pos_norm.shape, y_test.shape)\n",
    "print(\"=\"*100)"
   ]
  },
  {
   "cell_type": "markdown",
   "metadata": {},
   "source": [
    "#### Encoding Numerical Feature: compound"
   ]
  },
  {
   "cell_type": "code",
   "execution_count": 39,
   "metadata": {},
   "outputs": [
    {
     "name": "stdout",
     "output_type": "stream",
     "text": [
      "After vectorizations\n",
      "(841, 1) (841,)\n",
      "(281, 1) (281,)\n",
      "====================================================================================================\n"
     ]
    }
   ],
   "source": [
    "from sklearn.preprocessing import Normalizer\n",
    "normalizer_com = Normalizer()\n",
    "\n",
    "# Applying fit method on train data after reshaping the data\n",
    "normalizer_com.fit(X_train['compound'].values.reshape(-1,1))\n",
    "\n",
    "# Applying transform method on train and test\n",
    "X_train_com_norm = normalizer_com.transform(X_train['compound'].values.reshape(-1,1))\n",
    "X_test_com_norm = normalizer_com.transform(X_test['compound'].values.reshape(-1,1))\n",
    "\n",
    "print(\"After vectorizations\")\n",
    "print(X_train_com_norm.shape, y_train.shape)\n",
    "print(X_test_com_norm.shape, y_test.shape)\n",
    "print(\"=\"*100)"
   ]
  },
  {
   "cell_type": "markdown",
   "metadata": {},
   "source": [
    "### Concatinating all the features"
   ]
  },
  {
   "cell_type": "code",
   "execution_count": 40,
   "metadata": {},
   "outputs": [
    {
     "name": "stdout",
     "output_type": "stream",
     "text": [
      "Final Data matrix\n",
      "(841, 802) (841,)\n",
      "(281, 802) (281,)\n",
      "====================================================================================================\n"
     ]
    }
   ],
   "source": [
    "# merge two sparse matrices: https://stackoverflow.com/a/19710648/4084039\n",
    "from scipy.sparse import hstack\n",
    "X_tr = hstack((X_train_review_text_bow,X_train_review_header_bow, X_train_retailer_ohe, X_train_division_ohe,X_train_category_ohe,X_train_department_ohe,X_train_brand_ohe,X_train_pn_ohe,X_train_price_norm)).tocsr()\n",
    "X_te = hstack((X_test_review_text_bow,X_test_review_header_bow, X_test_retailer_ohe, X_test_division_ohe,X_test_category_ohe,X_test_department_ohe,X_test_brand_ohe,X_test_pn_ohe,X_test_price_norm)).tocsr()\n",
    "\n",
    "print(\"Final Data matrix\")\n",
    "print(X_tr.shape, y_train.shape)\n",
    "print(X_te.shape, y_test.shape)\n",
    "print(\"=\"*100)"
   ]
  },
  {
   "cell_type": "markdown",
   "metadata": {},
   "source": [
    "### Applying Grid Search CV to find the best hyperparameter"
   ]
  },
  {
   "cell_type": "code",
   "execution_count": 41,
   "metadata": {},
   "outputs": [],
   "source": [
    "from sklearn.model_selection import GridSearchCV\n",
    "from scipy.stats import randint as sp_randint\n",
    "from sklearn.model_selection import RandomizedSearchCV\n",
    "import matplotlib.pyplot as plt\n",
    "from sklearn.naive_bayes import MultinomialNB\n",
    "from sklearn.metrics import roc_auc_score"
   ]
  },
  {
   "cell_type": "code",
   "execution_count": 42,
   "metadata": {},
   "outputs": [],
   "source": [
    "# Multinomial NB model with class_prior [.5,.5] and a dictionary containing the list of alpha values to test for.\n",
    "mnb = MultinomialNB(class_prior=[.5,.5])\n",
    "parameters = {'alpha':[0.00001,0.0005, 0.0001,0.005,0.001,0.05,0.01,0.1,0.5,1,5,10,50,100]}"
   ]
  },
  {
   "cell_type": "code",
   "execution_count": 43,
   "metadata": {},
   "outputs": [
    {
     "data": {
      "text/plain": [
       "GridSearchCV(cv=4, estimator=MultinomialNB(class_prior=[0.5, 0.5]),\n",
       "             param_grid={'alpha': [1e-05, 0.0005, 0.0001, 0.005, 0.001, 0.05,\n",
       "                                   0.01, 0.1, 0.5, 1, 5, 10, 50, 100]},\n",
       "             return_train_score=True, scoring='roc_auc')"
      ]
     },
     "execution_count": 43,
     "metadata": {},
     "output_type": "execute_result"
    }
   ],
   "source": [
    "# Applying GridSearchCV to find the best parameter, here we have chosen 4 fold cross validation\n",
    "clf = GridSearchCV(mnb, parameters, cv=4, scoring='roc_auc',return_train_score=True)\n",
    "clf.fit(X_tr, y_train)"
   ]
  },
  {
   "cell_type": "code",
   "execution_count": 44,
   "metadata": {},
   "outputs": [],
   "source": [
    "# Let's store the results of CV in a pandas dataframe\n",
    "results = pd.DataFrame.from_dict(clf.cv_results_)"
   ]
  },
  {
   "cell_type": "code",
   "execution_count": 45,
   "metadata": {},
   "outputs": [
    {
     "data": {
      "text/html": [
       "<div>\n",
       "<style scoped>\n",
       "    .dataframe tbody tr th:only-of-type {\n",
       "        vertical-align: middle;\n",
       "    }\n",
       "\n",
       "    .dataframe tbody tr th {\n",
       "        vertical-align: top;\n",
       "    }\n",
       "\n",
       "    .dataframe thead th {\n",
       "        text-align: right;\n",
       "    }\n",
       "</style>\n",
       "<table border=\"1\" class=\"dataframe\">\n",
       "  <thead>\n",
       "    <tr style=\"text-align: right;\">\n",
       "      <th></th>\n",
       "      <th>mean_fit_time</th>\n",
       "      <th>std_fit_time</th>\n",
       "      <th>mean_score_time</th>\n",
       "      <th>std_score_time</th>\n",
       "      <th>param_alpha</th>\n",
       "      <th>params</th>\n",
       "      <th>split0_test_score</th>\n",
       "      <th>split1_test_score</th>\n",
       "      <th>split2_test_score</th>\n",
       "      <th>split3_test_score</th>\n",
       "      <th>mean_test_score</th>\n",
       "      <th>std_test_score</th>\n",
       "      <th>rank_test_score</th>\n",
       "      <th>split0_train_score</th>\n",
       "      <th>split1_train_score</th>\n",
       "      <th>split2_train_score</th>\n",
       "      <th>split3_train_score</th>\n",
       "      <th>mean_train_score</th>\n",
       "      <th>std_train_score</th>\n",
       "    </tr>\n",
       "  </thead>\n",
       "  <tbody>\n",
       "    <tr>\n",
       "      <th>0</th>\n",
       "      <td>0.003731</td>\n",
       "      <td>0.001774</td>\n",
       "      <td>0.003490</td>\n",
       "      <td>0.001651</td>\n",
       "      <td>1e-05</td>\n",
       "      <td>{'alpha': 1e-05}</td>\n",
       "      <td>0.878708</td>\n",
       "      <td>0.801707</td>\n",
       "      <td>0.727335</td>\n",
       "      <td>0.853513</td>\n",
       "      <td>0.815316</td>\n",
       "      <td>0.057886</td>\n",
       "      <td>12</td>\n",
       "      <td>0.996926</td>\n",
       "      <td>0.996170</td>\n",
       "      <td>0.997171</td>\n",
       "      <td>0.997280</td>\n",
       "      <td>0.996886</td>\n",
       "      <td>0.000433</td>\n",
       "    </tr>\n",
       "    <tr>\n",
       "      <th>1</th>\n",
       "      <td>0.001486</td>\n",
       "      <td>0.000491</td>\n",
       "      <td>0.002003</td>\n",
       "      <td>0.000012</td>\n",
       "      <td>0.0005</td>\n",
       "      <td>{'alpha': 0.0005}</td>\n",
       "      <td>0.920570</td>\n",
       "      <td>0.835361</td>\n",
       "      <td>0.792779</td>\n",
       "      <td>0.904042</td>\n",
       "      <td>0.863188</td>\n",
       "      <td>0.051705</td>\n",
       "      <td>10</td>\n",
       "      <td>0.996424</td>\n",
       "      <td>0.995364</td>\n",
       "      <td>0.996561</td>\n",
       "      <td>0.996365</td>\n",
       "      <td>0.996179</td>\n",
       "      <td>0.000476</td>\n",
       "    </tr>\n",
       "    <tr>\n",
       "      <th>2</th>\n",
       "      <td>0.001497</td>\n",
       "      <td>0.000499</td>\n",
       "      <td>0.001497</td>\n",
       "      <td>0.000500</td>\n",
       "      <td>0.0001</td>\n",
       "      <td>{'alpha': 0.0001}</td>\n",
       "      <td>0.896175</td>\n",
       "      <td>0.816327</td>\n",
       "      <td>0.766778</td>\n",
       "      <td>0.884223</td>\n",
       "      <td>0.840876</td>\n",
       "      <td>0.052512</td>\n",
       "      <td>11</td>\n",
       "      <td>0.996686</td>\n",
       "      <td>0.995800</td>\n",
       "      <td>0.996910</td>\n",
       "      <td>0.996735</td>\n",
       "      <td>0.996533</td>\n",
       "      <td>0.000431</td>\n",
       "    </tr>\n",
       "    <tr>\n",
       "      <th>3</th>\n",
       "      <td>0.001497</td>\n",
       "      <td>0.000498</td>\n",
       "      <td>0.001487</td>\n",
       "      <td>0.000490</td>\n",
       "      <td>0.005</td>\n",
       "      <td>{'alpha': 0.005}</td>\n",
       "      <td>0.951795</td>\n",
       "      <td>0.879121</td>\n",
       "      <td>0.833203</td>\n",
       "      <td>0.927786</td>\n",
       "      <td>0.897976</td>\n",
       "      <td>0.045652</td>\n",
       "      <td>7</td>\n",
       "      <td>0.995726</td>\n",
       "      <td>0.994624</td>\n",
       "      <td>0.995908</td>\n",
       "      <td>0.995234</td>\n",
       "      <td>0.995373</td>\n",
       "      <td>0.000498</td>\n",
       "    </tr>\n",
       "    <tr>\n",
       "      <th>4</th>\n",
       "      <td>0.001745</td>\n",
       "      <td>0.000433</td>\n",
       "      <td>0.001497</td>\n",
       "      <td>0.000499</td>\n",
       "      <td>0.001</td>\n",
       "      <td>{'alpha': 0.001}</td>\n",
       "      <td>0.932084</td>\n",
       "      <td>0.846056</td>\n",
       "      <td>0.804258</td>\n",
       "      <td>0.911303</td>\n",
       "      <td>0.873425</td>\n",
       "      <td>0.051012</td>\n",
       "      <td>9</td>\n",
       "      <td>0.996250</td>\n",
       "      <td>0.995212</td>\n",
       "      <td>0.996474</td>\n",
       "      <td>0.996213</td>\n",
       "      <td>0.996037</td>\n",
       "      <td>0.000487</td>\n",
       "    </tr>\n",
       "    <tr>\n",
       "      <th>5</th>\n",
       "      <td>0.001497</td>\n",
       "      <td>0.000498</td>\n",
       "      <td>0.001744</td>\n",
       "      <td>0.000432</td>\n",
       "      <td>0.05</td>\n",
       "      <td>{'alpha': 0.05}</td>\n",
       "      <td>0.963115</td>\n",
       "      <td>0.922488</td>\n",
       "      <td>0.885008</td>\n",
       "      <td>0.941327</td>\n",
       "      <td>0.927984</td>\n",
       "      <td>0.028676</td>\n",
       "      <td>4</td>\n",
       "      <td>0.993154</td>\n",
       "      <td>0.992404</td>\n",
       "      <td>0.993993</td>\n",
       "      <td>0.992448</td>\n",
       "      <td>0.993000</td>\n",
       "      <td>0.000646</td>\n",
       "    </tr>\n",
       "    <tr>\n",
       "      <th>6</th>\n",
       "      <td>0.001750</td>\n",
       "      <td>0.000434</td>\n",
       "      <td>0.001491</td>\n",
       "      <td>0.000493</td>\n",
       "      <td>0.01</td>\n",
       "      <td>{'alpha': 0.01}</td>\n",
       "      <td>0.958236</td>\n",
       "      <td>0.899529</td>\n",
       "      <td>0.846154</td>\n",
       "      <td>0.933870</td>\n",
       "      <td>0.909447</td>\n",
       "      <td>0.042075</td>\n",
       "      <td>6</td>\n",
       "      <td>0.995443</td>\n",
       "      <td>0.994102</td>\n",
       "      <td>0.995669</td>\n",
       "      <td>0.994624</td>\n",
       "      <td>0.994960</td>\n",
       "      <td>0.000629</td>\n",
       "    </tr>\n",
       "    <tr>\n",
       "      <th>7</th>\n",
       "      <td>0.001505</td>\n",
       "      <td>0.000508</td>\n",
       "      <td>0.001497</td>\n",
       "      <td>0.000500</td>\n",
       "      <td>0.1</td>\n",
       "      <td>{'alpha': 0.1}</td>\n",
       "      <td>0.962334</td>\n",
       "      <td>0.925628</td>\n",
       "      <td>0.911303</td>\n",
       "      <td>0.942896</td>\n",
       "      <td>0.935540</td>\n",
       "      <td>0.019090</td>\n",
       "      <td>3</td>\n",
       "      <td>0.991758</td>\n",
       "      <td>0.990750</td>\n",
       "      <td>0.992557</td>\n",
       "      <td>0.991360</td>\n",
       "      <td>0.991606</td>\n",
       "      <td>0.000656</td>\n",
       "    </tr>\n",
       "    <tr>\n",
       "      <th>8</th>\n",
       "      <td>0.001497</td>\n",
       "      <td>0.000499</td>\n",
       "      <td>0.001745</td>\n",
       "      <td>0.000431</td>\n",
       "      <td>0.5</td>\n",
       "      <td>{'alpha': 0.5}</td>\n",
       "      <td>0.954528</td>\n",
       "      <td>0.928768</td>\n",
       "      <td>0.935832</td>\n",
       "      <td>0.934851</td>\n",
       "      <td>0.938495</td>\n",
       "      <td>0.009644</td>\n",
       "      <td>1</td>\n",
       "      <td>0.987027</td>\n",
       "      <td>0.984200</td>\n",
       "      <td>0.987595</td>\n",
       "      <td>0.986920</td>\n",
       "      <td>0.986435</td>\n",
       "      <td>0.001316</td>\n",
       "    </tr>\n",
       "    <tr>\n",
       "      <th>9</th>\n",
       "      <td>0.001496</td>\n",
       "      <td>0.000499</td>\n",
       "      <td>0.001497</td>\n",
       "      <td>0.000499</td>\n",
       "      <td>1</td>\n",
       "      <td>{'alpha': 1}</td>\n",
       "      <td>0.951991</td>\n",
       "      <td>0.925235</td>\n",
       "      <td>0.936617</td>\n",
       "      <td>0.928768</td>\n",
       "      <td>0.935653</td>\n",
       "      <td>0.010293</td>\n",
       "      <td>2</td>\n",
       "      <td>0.983429</td>\n",
       "      <td>0.979934</td>\n",
       "      <td>0.983830</td>\n",
       "      <td>0.983373</td>\n",
       "      <td>0.982641</td>\n",
       "      <td>0.001573</td>\n",
       "    </tr>\n",
       "    <tr>\n",
       "      <th>10</th>\n",
       "      <td>0.001747</td>\n",
       "      <td>0.000432</td>\n",
       "      <td>0.001494</td>\n",
       "      <td>0.000497</td>\n",
       "      <td>5</td>\n",
       "      <td>{'alpha': 5}</td>\n",
       "      <td>0.944770</td>\n",
       "      <td>0.906986</td>\n",
       "      <td>0.910714</td>\n",
       "      <td>0.911499</td>\n",
       "      <td>0.918492</td>\n",
       "      <td>0.015267</td>\n",
       "      <td>5</td>\n",
       "      <td>0.971088</td>\n",
       "      <td>0.964612</td>\n",
       "      <td>0.971098</td>\n",
       "      <td>0.972795</td>\n",
       "      <td>0.969898</td>\n",
       "      <td>0.003130</td>\n",
       "    </tr>\n",
       "    <tr>\n",
       "      <th>11</th>\n",
       "      <td>0.001744</td>\n",
       "      <td>0.000432</td>\n",
       "      <td>0.001247</td>\n",
       "      <td>0.000432</td>\n",
       "      <td>10</td>\n",
       "      <td>{'alpha': 10}</td>\n",
       "      <td>0.933646</td>\n",
       "      <td>0.888540</td>\n",
       "      <td>0.864011</td>\n",
       "      <td>0.898548</td>\n",
       "      <td>0.896186</td>\n",
       "      <td>0.025012</td>\n",
       "      <td>8</td>\n",
       "      <td>0.952555</td>\n",
       "      <td>0.947593</td>\n",
       "      <td>0.955319</td>\n",
       "      <td>0.956668</td>\n",
       "      <td>0.953034</td>\n",
       "      <td>0.003474</td>\n",
       "    </tr>\n",
       "    <tr>\n",
       "      <th>12</th>\n",
       "      <td>0.001745</td>\n",
       "      <td>0.000431</td>\n",
       "      <td>0.001246</td>\n",
       "      <td>0.000431</td>\n",
       "      <td>50</td>\n",
       "      <td>{'alpha': 50}</td>\n",
       "      <td>0.760929</td>\n",
       "      <td>0.716641</td>\n",
       "      <td>0.584380</td>\n",
       "      <td>0.761578</td>\n",
       "      <td>0.705882</td>\n",
       "      <td>0.072475</td>\n",
       "      <td>13</td>\n",
       "      <td>0.757413</td>\n",
       "      <td>0.793615</td>\n",
       "      <td>0.766236</td>\n",
       "      <td>0.786258</td>\n",
       "      <td>0.775880</td>\n",
       "      <td>0.014631</td>\n",
       "    </tr>\n",
       "    <tr>\n",
       "      <th>13</th>\n",
       "      <td>0.001496</td>\n",
       "      <td>0.000498</td>\n",
       "      <td>0.001745</td>\n",
       "      <td>0.000430</td>\n",
       "      <td>100</td>\n",
       "      <td>{'alpha': 100}</td>\n",
       "      <td>0.657299</td>\n",
       "      <td>0.660322</td>\n",
       "      <td>0.488422</td>\n",
       "      <td>0.685636</td>\n",
       "      <td>0.622920</td>\n",
       "      <td>0.078428</td>\n",
       "      <td>14</td>\n",
       "      <td>0.661586</td>\n",
       "      <td>0.690585</td>\n",
       "      <td>0.676765</td>\n",
       "      <td>0.682772</td>\n",
       "      <td>0.677927</td>\n",
       "      <td>0.010631</td>\n",
       "    </tr>\n",
       "  </tbody>\n",
       "</table>\n",
       "</div>"
      ],
      "text/plain": [
       "    mean_fit_time  std_fit_time  mean_score_time  std_score_time param_alpha  \\\n",
       "0        0.003731      0.001774         0.003490        0.001651       1e-05   \n",
       "1        0.001486      0.000491         0.002003        0.000012      0.0005   \n",
       "2        0.001497      0.000499         0.001497        0.000500      0.0001   \n",
       "3        0.001497      0.000498         0.001487        0.000490       0.005   \n",
       "4        0.001745      0.000433         0.001497        0.000499       0.001   \n",
       "5        0.001497      0.000498         0.001744        0.000432        0.05   \n",
       "6        0.001750      0.000434         0.001491        0.000493        0.01   \n",
       "7        0.001505      0.000508         0.001497        0.000500         0.1   \n",
       "8        0.001497      0.000499         0.001745        0.000431         0.5   \n",
       "9        0.001496      0.000499         0.001497        0.000499           1   \n",
       "10       0.001747      0.000432         0.001494        0.000497           5   \n",
       "11       0.001744      0.000432         0.001247        0.000432          10   \n",
       "12       0.001745      0.000431         0.001246        0.000431          50   \n",
       "13       0.001496      0.000498         0.001745        0.000430         100   \n",
       "\n",
       "               params  split0_test_score  split1_test_score  \\\n",
       "0    {'alpha': 1e-05}           0.878708           0.801707   \n",
       "1   {'alpha': 0.0005}           0.920570           0.835361   \n",
       "2   {'alpha': 0.0001}           0.896175           0.816327   \n",
       "3    {'alpha': 0.005}           0.951795           0.879121   \n",
       "4    {'alpha': 0.001}           0.932084           0.846056   \n",
       "5     {'alpha': 0.05}           0.963115           0.922488   \n",
       "6     {'alpha': 0.01}           0.958236           0.899529   \n",
       "7      {'alpha': 0.1}           0.962334           0.925628   \n",
       "8      {'alpha': 0.5}           0.954528           0.928768   \n",
       "9        {'alpha': 1}           0.951991           0.925235   \n",
       "10       {'alpha': 5}           0.944770           0.906986   \n",
       "11      {'alpha': 10}           0.933646           0.888540   \n",
       "12      {'alpha': 50}           0.760929           0.716641   \n",
       "13     {'alpha': 100}           0.657299           0.660322   \n",
       "\n",
       "    split2_test_score  split3_test_score  mean_test_score  std_test_score  \\\n",
       "0            0.727335           0.853513         0.815316        0.057886   \n",
       "1            0.792779           0.904042         0.863188        0.051705   \n",
       "2            0.766778           0.884223         0.840876        0.052512   \n",
       "3            0.833203           0.927786         0.897976        0.045652   \n",
       "4            0.804258           0.911303         0.873425        0.051012   \n",
       "5            0.885008           0.941327         0.927984        0.028676   \n",
       "6            0.846154           0.933870         0.909447        0.042075   \n",
       "7            0.911303           0.942896         0.935540        0.019090   \n",
       "8            0.935832           0.934851         0.938495        0.009644   \n",
       "9            0.936617           0.928768         0.935653        0.010293   \n",
       "10           0.910714           0.911499         0.918492        0.015267   \n",
       "11           0.864011           0.898548         0.896186        0.025012   \n",
       "12           0.584380           0.761578         0.705882        0.072475   \n",
       "13           0.488422           0.685636         0.622920        0.078428   \n",
       "\n",
       "    rank_test_score  split0_train_score  split1_train_score  \\\n",
       "0                12            0.996926            0.996170   \n",
       "1                10            0.996424            0.995364   \n",
       "2                11            0.996686            0.995800   \n",
       "3                 7            0.995726            0.994624   \n",
       "4                 9            0.996250            0.995212   \n",
       "5                 4            0.993154            0.992404   \n",
       "6                 6            0.995443            0.994102   \n",
       "7                 3            0.991758            0.990750   \n",
       "8                 1            0.987027            0.984200   \n",
       "9                 2            0.983429            0.979934   \n",
       "10                5            0.971088            0.964612   \n",
       "11                8            0.952555            0.947593   \n",
       "12               13            0.757413            0.793615   \n",
       "13               14            0.661586            0.690585   \n",
       "\n",
       "    split2_train_score  split3_train_score  mean_train_score  std_train_score  \n",
       "0             0.997171            0.997280          0.996886         0.000433  \n",
       "1             0.996561            0.996365          0.996179         0.000476  \n",
       "2             0.996910            0.996735          0.996533         0.000431  \n",
       "3             0.995908            0.995234          0.995373         0.000498  \n",
       "4             0.996474            0.996213          0.996037         0.000487  \n",
       "5             0.993993            0.992448          0.993000         0.000646  \n",
       "6             0.995669            0.994624          0.994960         0.000629  \n",
       "7             0.992557            0.991360          0.991606         0.000656  \n",
       "8             0.987595            0.986920          0.986435         0.001316  \n",
       "9             0.983830            0.983373          0.982641         0.001573  \n",
       "10            0.971098            0.972795          0.969898         0.003130  \n",
       "11            0.955319            0.956668          0.953034         0.003474  \n",
       "12            0.766236            0.786258          0.775880         0.014631  \n",
       "13            0.676765            0.682772          0.677927         0.010631  "
      ]
     },
     "execution_count": 45,
     "metadata": {},
     "output_type": "execute_result"
    }
   ],
   "source": [
    "results"
   ]
  },
  {
   "cell_type": "code",
   "execution_count": 46,
   "metadata": {},
   "outputs": [],
   "source": [
    "# Let us sort values based of the param_alpha column which will sort values in ascending order of alpha\n",
    "results = results.sort_values(['param_alpha'])"
   ]
  },
  {
   "cell_type": "code",
   "execution_count": 47,
   "metadata": {},
   "outputs": [
    {
     "data": {
      "image/png": "[encoded data removed]",
      "text/plain": [
       "<Figure size 432x288 with 1 Axes>"
      ]
     },
     "metadata": {
      "needs_background": "light"
     },
     "output_type": "display_data"
    },
    {
     "data": {
      "text/html": [
       "<div>\n",
       "<style scoped>\n",
       "    .dataframe tbody tr th:only-of-type {\n",
       "        vertical-align: middle;\n",
       "    }\n",
       "\n",
       "    .dataframe tbody tr th {\n",
       "        vertical-align: top;\n",
       "    }\n",
       "\n",
       "    .dataframe thead th {\n",
       "        text-align: right;\n",
       "    }\n",
       "</style>\n",
       "<table border=\"1\" class=\"dataframe\">\n",
       "  <thead>\n",
       "    <tr style=\"text-align: right;\">\n",
       "      <th></th>\n",
       "      <th>mean_fit_time</th>\n",
       "      <th>std_fit_time</th>\n",
       "      <th>mean_score_time</th>\n",
       "      <th>std_score_time</th>\n",
       "      <th>param_alpha</th>\n",
       "      <th>params</th>\n",
       "      <th>split0_test_score</th>\n",
       "      <th>split1_test_score</th>\n",
       "      <th>split2_test_score</th>\n",
       "      <th>split3_test_score</th>\n",
       "      <th>mean_test_score</th>\n",
       "      <th>std_test_score</th>\n",
       "      <th>rank_test_score</th>\n",
       "      <th>split0_train_score</th>\n",
       "      <th>split1_train_score</th>\n",
       "      <th>split2_train_score</th>\n",
       "      <th>split3_train_score</th>\n",
       "      <th>mean_train_score</th>\n",
       "      <th>std_train_score</th>\n",
       "    </tr>\n",
       "  </thead>\n",
       "  <tbody>\n",
       "    <tr>\n",
       "      <th>0</th>\n",
       "      <td>0.003731</td>\n",
       "      <td>0.001774</td>\n",
       "      <td>0.003490</td>\n",
       "      <td>0.001651</td>\n",
       "      <td>1e-05</td>\n",
       "      <td>{'alpha': 1e-05}</td>\n",
       "      <td>0.878708</td>\n",
       "      <td>0.801707</td>\n",
       "      <td>0.727335</td>\n",
       "      <td>0.853513</td>\n",
       "      <td>0.815316</td>\n",
       "      <td>0.057886</td>\n",
       "      <td>12</td>\n",
       "      <td>0.996926</td>\n",
       "      <td>0.996170</td>\n",
       "      <td>0.997171</td>\n",
       "      <td>0.997280</td>\n",
       "      <td>0.996886</td>\n",
       "      <td>0.000433</td>\n",
       "    </tr>\n",
       "    <tr>\n",
       "      <th>2</th>\n",
       "      <td>0.001497</td>\n",
       "      <td>0.000499</td>\n",
       "      <td>0.001497</td>\n",
       "      <td>0.000500</td>\n",
       "      <td>0.0001</td>\n",
       "      <td>{'alpha': 0.0001}</td>\n",
       "      <td>0.896175</td>\n",
       "      <td>0.816327</td>\n",
       "      <td>0.766778</td>\n",
       "      <td>0.884223</td>\n",
       "      <td>0.840876</td>\n",
       "      <td>0.052512</td>\n",
       "      <td>11</td>\n",
       "      <td>0.996686</td>\n",
       "      <td>0.995800</td>\n",
       "      <td>0.996910</td>\n",
       "      <td>0.996735</td>\n",
       "      <td>0.996533</td>\n",
       "      <td>0.000431</td>\n",
       "    </tr>\n",
       "    <tr>\n",
       "      <th>1</th>\n",
       "      <td>0.001486</td>\n",
       "      <td>0.000491</td>\n",
       "      <td>0.002003</td>\n",
       "      <td>0.000012</td>\n",
       "      <td>0.0005</td>\n",
       "      <td>{'alpha': 0.0005}</td>\n",
       "      <td>0.920570</td>\n",
       "      <td>0.835361</td>\n",
       "      <td>0.792779</td>\n",
       "      <td>0.904042</td>\n",
       "      <td>0.863188</td>\n",
       "      <td>0.051705</td>\n",
       "      <td>10</td>\n",
       "      <td>0.996424</td>\n",
       "      <td>0.995364</td>\n",
       "      <td>0.996561</td>\n",
       "      <td>0.996365</td>\n",
       "      <td>0.996179</td>\n",
       "      <td>0.000476</td>\n",
       "    </tr>\n",
       "    <tr>\n",
       "      <th>4</th>\n",
       "      <td>0.001745</td>\n",
       "      <td>0.000433</td>\n",
       "      <td>0.001497</td>\n",
       "      <td>0.000499</td>\n",
       "      <td>0.001</td>\n",
       "      <td>{'alpha': 0.001}</td>\n",
       "      <td>0.932084</td>\n",
       "      <td>0.846056</td>\n",
       "      <td>0.804258</td>\n",
       "      <td>0.911303</td>\n",
       "      <td>0.873425</td>\n",
       "      <td>0.051012</td>\n",
       "      <td>9</td>\n",
       "      <td>0.996250</td>\n",
       "      <td>0.995212</td>\n",
       "      <td>0.996474</td>\n",
       "      <td>0.996213</td>\n",
       "      <td>0.996037</td>\n",
       "      <td>0.000487</td>\n",
       "    </tr>\n",
       "    <tr>\n",
       "      <th>3</th>\n",
       "      <td>0.001497</td>\n",
       "      <td>0.000498</td>\n",
       "      <td>0.001487</td>\n",
       "      <td>0.000490</td>\n",
       "      <td>0.005</td>\n",
       "      <td>{'alpha': 0.005}</td>\n",
       "      <td>0.951795</td>\n",
       "      <td>0.879121</td>\n",
       "      <td>0.833203</td>\n",
       "      <td>0.927786</td>\n",
       "      <td>0.897976</td>\n",
       "      <td>0.045652</td>\n",
       "      <td>7</td>\n",
       "      <td>0.995726</td>\n",
       "      <td>0.994624</td>\n",
       "      <td>0.995908</td>\n",
       "      <td>0.995234</td>\n",
       "      <td>0.995373</td>\n",
       "      <td>0.000498</td>\n",
       "    </tr>\n",
       "    <tr>\n",
       "      <th>6</th>\n",
       "      <td>0.001750</td>\n",
       "      <td>0.000434</td>\n",
       "      <td>0.001491</td>\n",
       "      <td>0.000493</td>\n",
       "      <td>0.01</td>\n",
       "      <td>{'alpha': 0.01}</td>\n",
       "      <td>0.958236</td>\n",
       "      <td>0.899529</td>\n",
       "      <td>0.846154</td>\n",
       "      <td>0.933870</td>\n",
       "      <td>0.909447</td>\n",
       "      <td>0.042075</td>\n",
       "      <td>6</td>\n",
       "      <td>0.995443</td>\n",
       "      <td>0.994102</td>\n",
       "      <td>0.995669</td>\n",
       "      <td>0.994624</td>\n",
       "      <td>0.994960</td>\n",
       "      <td>0.000629</td>\n",
       "    </tr>\n",
       "    <tr>\n",
       "      <th>5</th>\n",
       "      <td>0.001497</td>\n",
       "      <td>0.000498</td>\n",
       "      <td>0.001744</td>\n",
       "      <td>0.000432</td>\n",
       "      <td>0.05</td>\n",
       "      <td>{'alpha': 0.05}</td>\n",
       "      <td>0.963115</td>\n",
       "      <td>0.922488</td>\n",
       "      <td>0.885008</td>\n",
       "      <td>0.941327</td>\n",
       "      <td>0.927984</td>\n",
       "      <td>0.028676</td>\n",
       "      <td>4</td>\n",
       "      <td>0.993154</td>\n",
       "      <td>0.992404</td>\n",
       "      <td>0.993993</td>\n",
       "      <td>0.992448</td>\n",
       "      <td>0.993000</td>\n",
       "      <td>0.000646</td>\n",
       "    </tr>\n",
       "    <tr>\n",
       "      <th>7</th>\n",
       "      <td>0.001505</td>\n",
       "      <td>0.000508</td>\n",
       "      <td>0.001497</td>\n",
       "      <td>0.000500</td>\n",
       "      <td>0.1</td>\n",
       "      <td>{'alpha': 0.1}</td>\n",
       "      <td>0.962334</td>\n",
       "      <td>0.925628</td>\n",
       "      <td>0.911303</td>\n",
       "      <td>0.942896</td>\n",
       "      <td>0.935540</td>\n",
       "      <td>0.019090</td>\n",
       "      <td>3</td>\n",
       "      <td>0.991758</td>\n",
       "      <td>0.990750</td>\n",
       "      <td>0.992557</td>\n",
       "      <td>0.991360</td>\n",
       "      <td>0.991606</td>\n",
       "      <td>0.000656</td>\n",
       "    </tr>\n",
       "    <tr>\n",
       "      <th>8</th>\n",
       "      <td>0.001497</td>\n",
       "      <td>0.000499</td>\n",
       "      <td>0.001745</td>\n",
       "      <td>0.000431</td>\n",
       "      <td>0.5</td>\n",
       "      <td>{'alpha': 0.5}</td>\n",
       "      <td>0.954528</td>\n",
       "      <td>0.928768</td>\n",
       "      <td>0.935832</td>\n",
       "      <td>0.934851</td>\n",
       "      <td>0.938495</td>\n",
       "      <td>0.009644</td>\n",
       "      <td>1</td>\n",
       "      <td>0.987027</td>\n",
       "      <td>0.984200</td>\n",
       "      <td>0.987595</td>\n",
       "      <td>0.986920</td>\n",
       "      <td>0.986435</td>\n",
       "      <td>0.001316</td>\n",
       "    </tr>\n",
       "    <tr>\n",
       "      <th>9</th>\n",
       "      <td>0.001496</td>\n",
       "      <td>0.000499</td>\n",
       "      <td>0.001497</td>\n",
       "      <td>0.000499</td>\n",
       "      <td>1</td>\n",
       "      <td>{'alpha': 1}</td>\n",
       "      <td>0.951991</td>\n",
       "      <td>0.925235</td>\n",
       "      <td>0.936617</td>\n",
       "      <td>0.928768</td>\n",
       "      <td>0.935653</td>\n",
       "      <td>0.010293</td>\n",
       "      <td>2</td>\n",
       "      <td>0.983429</td>\n",
       "      <td>0.979934</td>\n",
       "      <td>0.983830</td>\n",
       "      <td>0.983373</td>\n",
       "      <td>0.982641</td>\n",
       "      <td>0.001573</td>\n",
       "    </tr>\n",
       "  </tbody>\n",
       "</table>\n",
       "</div>"
      ],
      "text/plain": [
       "   mean_fit_time  std_fit_time  mean_score_time  std_score_time param_alpha  \\\n",
       "0       0.003731      0.001774         0.003490        0.001651       1e-05   \n",
       "2       0.001497      0.000499         0.001497        0.000500      0.0001   \n",
       "1       0.001486      0.000491         0.002003        0.000012      0.0005   \n",
       "4       0.001745      0.000433         0.001497        0.000499       0.001   \n",
       "3       0.001497      0.000498         0.001487        0.000490       0.005   \n",
       "6       0.001750      0.000434         0.001491        0.000493        0.01   \n",
       "5       0.001497      0.000498         0.001744        0.000432        0.05   \n",
       "7       0.001505      0.000508         0.001497        0.000500         0.1   \n",
       "8       0.001497      0.000499         0.001745        0.000431         0.5   \n",
       "9       0.001496      0.000499         0.001497        0.000499           1   \n",
       "\n",
       "              params  split0_test_score  split1_test_score  split2_test_score  \\\n",
       "0   {'alpha': 1e-05}           0.878708           0.801707           0.727335   \n",
       "2  {'alpha': 0.0001}           0.896175           0.816327           0.766778   \n",
       "1  {'alpha': 0.0005}           0.920570           0.835361           0.792779   \n",
       "4   {'alpha': 0.001}           0.932084           0.846056           0.804258   \n",
       "3   {'alpha': 0.005}           0.951795           0.879121           0.833203   \n",
       "6    {'alpha': 0.01}           0.958236           0.899529           0.846154   \n",
       "5    {'alpha': 0.05}           0.963115           0.922488           0.885008   \n",
       "7     {'alpha': 0.1}           0.962334           0.925628           0.911303   \n",
       "8     {'alpha': 0.5}           0.954528           0.928768           0.935832   \n",
       "9       {'alpha': 1}           0.951991           0.925235           0.936617   \n",
       "\n",
       "   split3_test_score  mean_test_score  std_test_score  rank_test_score  \\\n",
       "0           0.853513         0.815316        0.057886               12   \n",
       "2           0.884223         0.840876        0.052512               11   \n",
       "1           0.904042         0.863188        0.051705               10   \n",
       "4           0.911303         0.873425        0.051012                9   \n",
       "3           0.927786         0.897976        0.045652                7   \n",
       "6           0.933870         0.909447        0.042075                6   \n",
       "5           0.941327         0.927984        0.028676                4   \n",
       "7           0.942896         0.935540        0.019090                3   \n",
       "8           0.934851         0.938495        0.009644                1   \n",
       "9           0.928768         0.935653        0.010293                2   \n",
       "\n",
       "   split0_train_score  split1_train_score  split2_train_score  \\\n",
       "0            0.996926            0.996170            0.997171   \n",
       "2            0.996686            0.995800            0.996910   \n",
       "1            0.996424            0.995364            0.996561   \n",
       "4            0.996250            0.995212            0.996474   \n",
       "3            0.995726            0.994624            0.995908   \n",
       "6            0.995443            0.994102            0.995669   \n",
       "5            0.993154            0.992404            0.993993   \n",
       "7            0.991758            0.990750            0.992557   \n",
       "8            0.987027            0.984200            0.987595   \n",
       "9            0.983429            0.979934            0.983830   \n",
       "\n",
       "   split3_train_score  mean_train_score  std_train_score  \n",
       "0            0.997280          0.996886         0.000433  \n",
       "2            0.996735          0.996533         0.000431  \n",
       "1            0.996365          0.996179         0.000476  \n",
       "4            0.996213          0.996037         0.000487  \n",
       "3            0.995234          0.995373         0.000498  \n",
       "6            0.994624          0.994960         0.000629  \n",
       "5            0.992448          0.993000         0.000646  \n",
       "7            0.991360          0.991606         0.000656  \n",
       "8            0.986920          0.986435         0.001316  \n",
       "9            0.983373          0.982641         0.001573  "
      ]
     },
     "execution_count": 47,
     "metadata": {},
     "output_type": "execute_result"
    }
   ],
   "source": [
    "train_auc= results['mean_train_score']\n",
    "train_auc_std= results['std_train_score']\n",
    "cv_auc = results['mean_test_score'] \n",
    "cv_auc_std= results['std_test_score']\n",
    "alpha =  results['param_alpha']\n",
    "\n",
    "plt.plot(alpha, train_auc, label='Train AUC')\n",
    "# this code is copied from here: https://stackoverflow.com/a/48803361/4084039\n",
    "# plt.gca().fill_between(alpha, train_auc - train_auc_std,train_auc + train_auc_std,alpha=0.2,color='darkblue')\n",
    "\n",
    "plt.plot(alpha, cv_auc, label='CV AUC')\n",
    "# this code is copied from here: https://stackoverflow.com/a/48803361/4084039\n",
    "# plt.gca().fill_between(alpha, cv_auc - cv_auc_std,cv_auc + cv_auc_std,alpha=0.2,color='darkorange')\n",
    "\n",
    "plt.scatter(alpha, train_auc, label='Train AUC points')\n",
    "plt.scatter(alpha, cv_auc, label='CV AUC points')\n",
    "\n",
    "plt.xscale('log')\n",
    "#plt.yscale('log')\n",
    "plt.legend()\n",
    "plt.xlabel(\"Alpha: hyperparameter\")\n",
    "plt.ylabel(\"AUC\")\n",
    "plt.title(\"Hyper parameter Vs AUC plot\")\n",
    "plt.grid()\n",
    "plt.show()\n",
    "\n",
    "results.head(10)"
   ]
  },
  {
   "cell_type": "code",
   "execution_count": 48,
   "metadata": {},
   "outputs": [],
   "source": [
    "best_alpha = .5"
   ]
  },
  {
   "cell_type": "code",
   "execution_count": 49,
   "metadata": {},
   "outputs": [
    {
     "data": {
      "image/png": "[encoded data removed]",
      "text/plain": [
       "<Figure size 432x288 with 1 Axes>"
      ]
     },
     "metadata": {
      "needs_background": "light"
     },
     "output_type": "display_data"
    }
   ],
   "source": [
    "# https://scikit-learn.org/stable/modules/generated/sklearn.metrics.roc_curve.html#sklearn.metrics.roc_curve\n",
    "from sklearn.metrics import roc_curve, auc\n",
    "\n",
    "# Hyper parameters : alpha = best_alpha and class_prior=[.5,.5]\n",
    "mnb = MultinomialNB(alpha=best_alpha, class_prior=[.5,.5])\n",
    "mnb.fit(X_tr, y_train)\n",
    "\n",
    "y_train_pred = mnb.predict_proba(X_tr)[:,1]    \n",
    "y_test_pred = mnb.predict_proba(X_te)[:,1]\n",
    "\n",
    "train_fpr, train_tpr, tr_thresholds = roc_curve(y_train, y_train_pred)\n",
    "test_fpr, test_tpr, te_thresholds = roc_curve(y_test, y_test_pred)\n",
    "#plt.xscale('log')\n",
    "plt.plot(train_fpr, train_tpr, label=\"train AUC =\"+str(auc(train_fpr, train_tpr)))\n",
    "plt.plot(test_fpr, test_tpr, label=\"test AUC =\"+str(auc(test_fpr, test_tpr)))\n",
    "plt.legend()\n",
    "plt.xlabel(\"False Positive Rate\")\n",
    "plt.ylabel(\"True Positive Rate\")\n",
    "plt.title(\"ROC-AUC Curve\")\n",
    "plt.grid()\n",
    "plt.show()"
   ]
  },
  {
   "cell_type": "code",
   "execution_count": 50,
   "metadata": {},
   "outputs": [],
   "source": [
    "# we are writing our own function to predict, with defined thresold\n",
    "# we will pick a threshold that will give the least fpr\n",
    "def find_best_threshold(threshold, fpr, tpr):\n",
    "    t = threshold[np.argmax(tpr*(1-fpr))]\n",
    "    # (tpr*(1-fpr)) will be maximum if your fpr is very low and tpr is very high\n",
    "    print(\"the maximum value of tpr*(1-fpr)\", max(tpr*(1-fpr)), \"for threshold\", np.round(t,3))\n",
    "    return t\n",
    "\n",
    "def predict_with_best_t(proba, threshold):\n",
    "    predictions = []\n",
    "    for i in proba:\n",
    "        if i>=threshold:\n",
    "            predictions.append(1)\n",
    "        else:\n",
    "            predictions.append(0)\n",
    "    return predictions"
   ]
  },
  {
   "cell_type": "code",
   "execution_count": 51,
   "metadata": {},
   "outputs": [
    {
     "name": "stdout",
     "output_type": "stream",
     "text": [
      "====================================================================================================\n",
      "the maximum value of tpr*(1-fpr) 0.8941798941798942 for threshold 0.678\n",
      "Train confusion matrix\n",
      "[[108   4]\n",
      " [ 53 676]]\n",
      "Test confusion matrix\n",
      "[[ 31   7]\n",
      " [ 24 219]]\n"
     ]
    }
   ],
   "source": [
    "print(\"=\"*100)\n",
    "from sklearn.metrics import confusion_matrix\n",
    "best_t = find_best_threshold(tr_thresholds, train_fpr, train_tpr)\n",
    "print(\"Train confusion matrix\")\n",
    "print(confusion_matrix(y_train, predict_with_best_t(y_train_pred, best_t)))\n",
    "print(\"Test confusion matrix\")\n",
    "print(confusion_matrix(y_test, predict_with_best_t(y_test_pred, best_t)))"
   ]
  },
  {
   "cell_type": "code",
   "execution_count": 52,
   "metadata": {},
   "outputs": [],
   "source": [
    "cm_train=confusion_matrix(y_train, predict_with_best_t(y_train_pred, best_t))\n",
    "cm_test=confusion_matrix(y_test, predict_with_best_t(y_test_pred, best_t))"
   ]
  },
  {
   "cell_type": "code",
   "execution_count": 53,
   "metadata": {},
   "outputs": [
    {
     "data": {
      "text/plain": [
       "Text(33.0, 0.5, 'Actual')"
      ]
     },
     "execution_count": 53,
     "metadata": {},
     "output_type": "execute_result"
    },
    {
     "data": {
      "image/png": "[encoded data removed]",
      "text/plain": [
       "<Figure size 432x288 with 2 Axes>"
      ]
     },
     "metadata": {
      "needs_background": "light"
     },
     "output_type": "display_data"
    }
   ],
   "source": [
    "# Train Confusion Matrix\n",
    "sns.heatmap(cm_train, annot=True,fmt=\"d\",cmap='Blues')\n",
    "plt.xlabel('Predicted')\n",
    "plt.ylabel('Actual')"
   ]
  },
  {
   "cell_type": "code",
   "execution_count": 54,
   "metadata": {},
   "outputs": [
    {
     "data": {
      "text/plain": [
       "Text(33.0, 0.5, 'Actual')"
      ]
     },
     "execution_count": 54,
     "metadata": {},
     "output_type": "execute_result"
    },
    {
     "data": {
      "image/png": "[encoded data removed]",
      "text/plain": [
       "<Figure size 432x288 with 2 Axes>"
      ]
     },
     "metadata": {
      "needs_background": "light"
     },
     "output_type": "display_data"
    }
   ],
   "source": [
    "# Test Confusion Matrix\n",
    "sns.heatmap(cm_test, annot=True,fmt=\"d\",cmap='Blues')\n",
    "plt.xlabel('Predicted')\n",
    "plt.ylabel('Actual')"
   ]
  },
  {
   "cell_type": "markdown",
   "metadata": {},
   "source": [
    "### Top 20 features BOW"
   ]
  },
  {
   "cell_type": "code",
   "execution_count": 55,
   "metadata": {},
   "outputs": [],
   "source": [
    "neg_class_prob_sorted = (mnb.feature_log_prob_[0, :]).argsort()\n",
    "pos_class_prob_sorted = (mnb.feature_log_prob_[1, :]).argsort()"
   ]
  },
  {
   "cell_type": "code",
   "execution_count": 56,
   "metadata": {},
   "outputs": [],
   "source": [
    "features=vectorizer_bow.get_feature_names()+vectorizer_bow_rh.get_feature_names()+vectorizer_r.get_feature_names()+vectorizer_d.get_feature_names()+vectorizer_c.get_feature_names()+vectorizer_de.get_feature_names()+vectorizer_b.get_feature_names()+vectorizer_pn.get_feature_names()+['Final_Price_after_Discount']"
   ]
  },
  {
   "cell_type": "code",
   "execution_count": 57,
   "metadata": {},
   "outputs": [],
   "source": [
    "neg_class_features = np.take(features, neg_class_prob_sorted[:20])\n",
    "pos_class_features = np.take(features, pos_class_prob_sorted[:20])"
   ]
  },
  {
   "cell_type": "code",
   "execution_count": 58,
   "metadata": {},
   "outputs": [
    {
     "name": "stdout",
     "output_type": "stream",
     "text": [
      "\n",
      "The top 20 features from the positive class are :\n",
      "\n",
      "['fanimation_studio_collection_prop_60_matte_gray_indoor_ceiling_fan_remote_3_blade'\n",
      " 'hugger_52_led_indoor_brushed_nickel_ceiling_fan_light_kit' 'course'\n",
      " 'wired' 'hawkins_44_led_oil_rubbed_bronze_ceiling_fan_light'\n",
      " 'ceiling_fans' 'wife' '_accessories'\n",
      " 'fanimation_studio_collection_weather_pylon_48_matte_black_led_indoor_outdoor_ceiling_fan_light_kit_remote_3_blade'\n",
      " 'would' 'quite'\n",
      " 'harbor_breeze_sailstream_44_gloss_white_led_indoor_flush_mount_ceiling_fan_light_kit_remote_3_blade'\n",
      " 'difference' 'inch' 'video' 'dimmable' 'important' 'rustic' 'price'\n",
      " 'cools']\n",
      "The top 20 features from the negative class are :\n",
      "\n",
      "['ceiling_fans_without_lights' 'hum' 'brand_not_mentioned'\n",
      " 'ceiling_fans_with_lights' 'fanimation_studio_collection' 'ceiling_fans_'\n",
      " 'horrible' 'told' 'ceiling_fans' 'horrible' 'ceiling_fans' 'poor'\n",
      " 'hampton_bay' '_accessories' 'spinning' 'humming' 'smell' 'unfortunately'\n",
      " 'impossible' 'canopy']\n"
     ]
    }
   ],
   "source": [
    "print(\"\\nThe top 20 features from the positive class are :\\n\")\n",
    "print(neg_class_features)\n",
    "\n",
    "print(\"The top 20 features from the negative class are :\\n\")\n",
    "print(pos_class_features)"
   ]
  },
  {
   "cell_type": "markdown",
   "metadata": {},
   "source": [
    "## TFIDF"
   ]
  },
  {
   "cell_type": "markdown",
   "metadata": {},
   "source": [
    "### Review_Text"
   ]
  },
  {
   "cell_type": "code",
   "execution_count": 59,
   "metadata": {},
   "outputs": [
    {
     "data": {
      "text/plain": [
       "TfidfVectorizer(min_df=5)"
      ]
     },
     "execution_count": 59,
     "metadata": {},
     "output_type": "execute_result"
    }
   ],
   "source": [
    "# Implementing TF-IDF\n",
    "vectorizer_tfidf = TfidfVectorizer(min_df=5)\n",
    "vectorizer_tfidf.fit(X_train['preprocessed_review_text'].values) #(Fit Method)"
   ]
  },
  {
   "cell_type": "code",
   "execution_count": 60,
   "metadata": {},
   "outputs": [],
   "source": [
    "# Transform method on train and test data\n",
    "X_train_rt_tfidf = vectorizer_tfidf.transform(X_train['preprocessed_review_text'].values)"
   ]
  },
  {
   "cell_type": "code",
   "execution_count": 61,
   "metadata": {},
   "outputs": [],
   "source": [
    "X_test_rt_tfidf = vectorizer_tfidf.transform(X_test['preprocessed_review_text'].values)"
   ]
  },
  {
   "cell_type": "code",
   "execution_count": 62,
   "metadata": {},
   "outputs": [
    {
     "name": "stdout",
     "output_type": "stream",
     "text": [
      "After vectorizations\n",
      "(841, 589) (841,)\n",
      "(281, 589) (281,)\n"
     ]
    }
   ],
   "source": [
    "print(\"After vectorizations\")\n",
    "print(X_train_rt_tfidf.shape, y_train.shape)\n",
    "print(X_test_rt_tfidf.shape, y_test.shape)"
   ]
  },
  {
   "cell_type": "markdown",
   "metadata": {},
   "source": [
    "### Review_Header"
   ]
  },
  {
   "cell_type": "code",
   "execution_count": 63,
   "metadata": {},
   "outputs": [
    {
     "data": {
      "text/plain": [
       "TfidfVectorizer(min_df=5)"
      ]
     },
     "execution_count": 63,
     "metadata": {},
     "output_type": "execute_result"
    }
   ],
   "source": [
    "# Implementing TF-IDF\n",
    "vectorizer_tfidf_rh = TfidfVectorizer(min_df=5)\n",
    "vectorizer_tfidf_rh.fit(X_train['preprocessed_review_header'].values) #(Fit Method)"
   ]
  },
  {
   "cell_type": "code",
   "execution_count": 64,
   "metadata": {},
   "outputs": [],
   "source": [
    "# Transform method on train and test data\n",
    "X_train_rh_tfidf = vectorizer_tfidf_rh.transform(X_train['preprocessed_review_header'].values)"
   ]
  },
  {
   "cell_type": "code",
   "execution_count": 65,
   "metadata": {},
   "outputs": [],
   "source": [
    "X_test_rh_tfidf = vectorizer_tfidf_rh.transform(X_test['preprocessed_review_text'].values)"
   ]
  },
  {
   "cell_type": "code",
   "execution_count": 66,
   "metadata": {},
   "outputs": [
    {
     "name": "stdout",
     "output_type": "stream",
     "text": [
      "After vectorizations\n",
      "(841, 119) (841,)\n",
      "(281, 119) (281,)\n"
     ]
    }
   ],
   "source": [
    "print(\"After vectorizations\")\n",
    "print(X_train_rh_tfidf.shape, y_train.shape)\n",
    "print(X_test_rh_tfidf.shape, y_test.shape)"
   ]
  },
  {
   "cell_type": "markdown",
   "metadata": {},
   "source": [
    "### Concatinating all the features"
   ]
  },
  {
   "cell_type": "code",
   "execution_count": 67,
   "metadata": {},
   "outputs": [
    {
     "name": "stdout",
     "output_type": "stream",
     "text": [
      "Final Data matrix\n",
      "(841, 802) (841,)\n",
      "(281, 802) (281,)\n",
      "====================================================================================================\n"
     ]
    }
   ],
   "source": [
    "# merge two sparse matrices: https://stackoverflow.com/a/19710648/4084039\n",
    "from scipy.sparse import hstack\n",
    "X_tr = hstack((X_train_rt_tfidf,X_train_rh_tfidf, X_train_retailer_ohe, X_train_division_ohe,X_train_category_ohe,X_train_department_ohe,X_train_brand_ohe,X_train_pn_ohe,X_train_price_norm )).tocsr()\n",
    "X_te = hstack((X_test_rt_tfidf,X_test_rh_tfidf, X_test_retailer_ohe, X_test_division_ohe,X_test_category_ohe,X_test_department_ohe,X_test_brand_ohe,X_test_pn_ohe,X_test_price_norm)).tocsr()\n",
    "\n",
    "print(\"Final Data matrix\")\n",
    "print(X_tr.shape, y_train.shape)\n",
    "print(X_te.shape, y_test.shape)\n",
    "print(\"=\"*100)"
   ]
  },
  {
   "cell_type": "code",
   "execution_count": 68,
   "metadata": {},
   "outputs": [],
   "source": [
    "# Multinomial NB model with class_prior [.5,.5] and a dictionary containing the list of alpha values to test for.\n",
    "mnb = MultinomialNB(class_prior=[.5,.5])\n",
    "parameters = {'alpha':[0.00001,0.0005, 0.0001,0.005,0.001,0.05,0.01,0.1,0.5,1,5,10,50,100]}"
   ]
  },
  {
   "cell_type": "code",
   "execution_count": 69,
   "metadata": {},
   "outputs": [
    {
     "data": {
      "text/plain": [
       "GridSearchCV(cv=4, estimator=MultinomialNB(class_prior=[0.5, 0.5]),\n",
       "             param_grid={'alpha': [1e-05, 0.0005, 0.0001, 0.005, 0.001, 0.05,\n",
       "                                   0.01, 0.1, 0.5, 1, 5, 10, 50, 100]},\n",
       "             return_train_score=True, scoring='roc_auc')"
      ]
     },
     "execution_count": 69,
     "metadata": {},
     "output_type": "execute_result"
    }
   ],
   "source": [
    "# Grid search CV using 4-fold CV and fitting the train and test data\n",
    "clf = GridSearchCV(mnb, parameters, cv=4, scoring='roc_auc',return_train_score=True)\n",
    "clf.fit(X_tr, y_train)"
   ]
  },
  {
   "cell_type": "code",
   "execution_count": 70,
   "metadata": {},
   "outputs": [
    {
     "data": {
      "text/plain": [
       "{'alpha': 0.5}"
      ]
     },
     "execution_count": 70,
     "metadata": {},
     "output_type": "execute_result"
    }
   ],
   "source": [
    "clf.best_params_"
   ]
  },
  {
   "cell_type": "code",
   "execution_count": 71,
   "metadata": {},
   "outputs": [],
   "source": [
    "# Sorting the values by param_alpha\n",
    "results = results.sort_values(['param_alpha'])"
   ]
  },
  {
   "cell_type": "code",
   "execution_count": 72,
   "metadata": {},
   "outputs": [
    {
     "data": {
      "image/png": "[encoded data removed]",
      "text/plain": [
       "<Figure size 432x288 with 1 Axes>"
      ]
     },
     "metadata": {
      "needs_background": "light"
     },
     "output_type": "display_data"
    },
    {
     "data": {
      "text/html": [
       "<div>\n",
       "<style scoped>\n",
       "    .dataframe tbody tr th:only-of-type {\n",
       "        vertical-align: middle;\n",
       "    }\n",
       "\n",
       "    .dataframe tbody tr th {\n",
       "        vertical-align: top;\n",
       "    }\n",
       "\n",
       "    .dataframe thead th {\n",
       "        text-align: right;\n",
       "    }\n",
       "</style>\n",
       "<table border=\"1\" class=\"dataframe\">\n",
       "  <thead>\n",
       "    <tr style=\"text-align: right;\">\n",
       "      <th></th>\n",
       "      <th>mean_fit_time</th>\n",
       "      <th>std_fit_time</th>\n",
       "      <th>mean_score_time</th>\n",
       "      <th>std_score_time</th>\n",
       "      <th>param_alpha</th>\n",
       "      <th>params</th>\n",
       "      <th>split0_test_score</th>\n",
       "      <th>split1_test_score</th>\n",
       "      <th>split2_test_score</th>\n",
       "      <th>split3_test_score</th>\n",
       "      <th>mean_test_score</th>\n",
       "      <th>std_test_score</th>\n",
       "      <th>rank_test_score</th>\n",
       "      <th>split0_train_score</th>\n",
       "      <th>split1_train_score</th>\n",
       "      <th>split2_train_score</th>\n",
       "      <th>split3_train_score</th>\n",
       "      <th>mean_train_score</th>\n",
       "      <th>std_train_score</th>\n",
       "    </tr>\n",
       "  </thead>\n",
       "  <tbody>\n",
       "    <tr>\n",
       "      <th>0</th>\n",
       "      <td>0.003731</td>\n",
       "      <td>0.001774</td>\n",
       "      <td>0.003490</td>\n",
       "      <td>0.001651</td>\n",
       "      <td>1e-05</td>\n",
       "      <td>{'alpha': 1e-05}</td>\n",
       "      <td>0.878708</td>\n",
       "      <td>0.801707</td>\n",
       "      <td>0.727335</td>\n",
       "      <td>0.853513</td>\n",
       "      <td>0.815316</td>\n",
       "      <td>0.057886</td>\n",
       "      <td>12</td>\n",
       "      <td>0.996926</td>\n",
       "      <td>0.996170</td>\n",
       "      <td>0.997171</td>\n",
       "      <td>0.997280</td>\n",
       "      <td>0.996886</td>\n",
       "      <td>0.000433</td>\n",
       "    </tr>\n",
       "    <tr>\n",
       "      <th>2</th>\n",
       "      <td>0.001497</td>\n",
       "      <td>0.000499</td>\n",
       "      <td>0.001497</td>\n",
       "      <td>0.000500</td>\n",
       "      <td>0.0001</td>\n",
       "      <td>{'alpha': 0.0001}</td>\n",
       "      <td>0.896175</td>\n",
       "      <td>0.816327</td>\n",
       "      <td>0.766778</td>\n",
       "      <td>0.884223</td>\n",
       "      <td>0.840876</td>\n",
       "      <td>0.052512</td>\n",
       "      <td>11</td>\n",
       "      <td>0.996686</td>\n",
       "      <td>0.995800</td>\n",
       "      <td>0.996910</td>\n",
       "      <td>0.996735</td>\n",
       "      <td>0.996533</td>\n",
       "      <td>0.000431</td>\n",
       "    </tr>\n",
       "    <tr>\n",
       "      <th>1</th>\n",
       "      <td>0.001486</td>\n",
       "      <td>0.000491</td>\n",
       "      <td>0.002003</td>\n",
       "      <td>0.000012</td>\n",
       "      <td>0.0005</td>\n",
       "      <td>{'alpha': 0.0005}</td>\n",
       "      <td>0.920570</td>\n",
       "      <td>0.835361</td>\n",
       "      <td>0.792779</td>\n",
       "      <td>0.904042</td>\n",
       "      <td>0.863188</td>\n",
       "      <td>0.051705</td>\n",
       "      <td>10</td>\n",
       "      <td>0.996424</td>\n",
       "      <td>0.995364</td>\n",
       "      <td>0.996561</td>\n",
       "      <td>0.996365</td>\n",
       "      <td>0.996179</td>\n",
       "      <td>0.000476</td>\n",
       "    </tr>\n",
       "    <tr>\n",
       "      <th>4</th>\n",
       "      <td>0.001745</td>\n",
       "      <td>0.000433</td>\n",
       "      <td>0.001497</td>\n",
       "      <td>0.000499</td>\n",
       "      <td>0.001</td>\n",
       "      <td>{'alpha': 0.001}</td>\n",
       "      <td>0.932084</td>\n",
       "      <td>0.846056</td>\n",
       "      <td>0.804258</td>\n",
       "      <td>0.911303</td>\n",
       "      <td>0.873425</td>\n",
       "      <td>0.051012</td>\n",
       "      <td>9</td>\n",
       "      <td>0.996250</td>\n",
       "      <td>0.995212</td>\n",
       "      <td>0.996474</td>\n",
       "      <td>0.996213</td>\n",
       "      <td>0.996037</td>\n",
       "      <td>0.000487</td>\n",
       "    </tr>\n",
       "    <tr>\n",
       "      <th>3</th>\n",
       "      <td>0.001497</td>\n",
       "      <td>0.000498</td>\n",
       "      <td>0.001487</td>\n",
       "      <td>0.000490</td>\n",
       "      <td>0.005</td>\n",
       "      <td>{'alpha': 0.005}</td>\n",
       "      <td>0.951795</td>\n",
       "      <td>0.879121</td>\n",
       "      <td>0.833203</td>\n",
       "      <td>0.927786</td>\n",
       "      <td>0.897976</td>\n",
       "      <td>0.045652</td>\n",
       "      <td>7</td>\n",
       "      <td>0.995726</td>\n",
       "      <td>0.994624</td>\n",
       "      <td>0.995908</td>\n",
       "      <td>0.995234</td>\n",
       "      <td>0.995373</td>\n",
       "      <td>0.000498</td>\n",
       "    </tr>\n",
       "  </tbody>\n",
       "</table>\n",
       "</div>"
      ],
      "text/plain": [
       "   mean_fit_time  std_fit_time  mean_score_time  std_score_time param_alpha  \\\n",
       "0       0.003731      0.001774         0.003490        0.001651       1e-05   \n",
       "2       0.001497      0.000499         0.001497        0.000500      0.0001   \n",
       "1       0.001486      0.000491         0.002003        0.000012      0.0005   \n",
       "4       0.001745      0.000433         0.001497        0.000499       0.001   \n",
       "3       0.001497      0.000498         0.001487        0.000490       0.005   \n",
       "\n",
       "              params  split0_test_score  split1_test_score  split2_test_score  \\\n",
       "0   {'alpha': 1e-05}           0.878708           0.801707           0.727335   \n",
       "2  {'alpha': 0.0001}           0.896175           0.816327           0.766778   \n",
       "1  {'alpha': 0.0005}           0.920570           0.835361           0.792779   \n",
       "4   {'alpha': 0.001}           0.932084           0.846056           0.804258   \n",
       "3   {'alpha': 0.005}           0.951795           0.879121           0.833203   \n",
       "\n",
       "   split3_test_score  mean_test_score  std_test_score  rank_test_score  \\\n",
       "0           0.853513         0.815316        0.057886               12   \n",
       "2           0.884223         0.840876        0.052512               11   \n",
       "1           0.904042         0.863188        0.051705               10   \n",
       "4           0.911303         0.873425        0.051012                9   \n",
       "3           0.927786         0.897976        0.045652                7   \n",
       "\n",
       "   split0_train_score  split1_train_score  split2_train_score  \\\n",
       "0            0.996926            0.996170            0.997171   \n",
       "2            0.996686            0.995800            0.996910   \n",
       "1            0.996424            0.995364            0.996561   \n",
       "4            0.996250            0.995212            0.996474   \n",
       "3            0.995726            0.994624            0.995908   \n",
       "\n",
       "   split3_train_score  mean_train_score  std_train_score  \n",
       "0            0.997280          0.996886         0.000433  \n",
       "2            0.996735          0.996533         0.000431  \n",
       "1            0.996365          0.996179         0.000476  \n",
       "4            0.996213          0.996037         0.000487  \n",
       "3            0.995234          0.995373         0.000498  "
      ]
     },
     "execution_count": 72,
     "metadata": {},
     "output_type": "execute_result"
    }
   ],
   "source": [
    "train_auc= results['mean_train_score']\n",
    "train_auc_std= results['std_train_score']\n",
    "cv_auc = results['mean_test_score'] \n",
    "cv_auc_std= results['std_test_score']\n",
    "alpha =  results['param_alpha']\n",
    "\n",
    "plt.plot(alpha, train_auc, label='Train AUC')\n",
    "plt.plot(alpha, cv_auc, label='CV AUC')\n",
    "\n",
    "\n",
    "plt.scatter(alpha, train_auc, label='Train AUC points')\n",
    "plt.scatter(alpha, cv_auc, label='CV AUC points')\n",
    "\n",
    "plt.xscale('log')\n",
    "plt.legend()\n",
    "plt.xlabel(\"Alpha: hyperparameter\")\n",
    "plt.ylabel(\"AUC\")\n",
    "plt.title(\"Hyper parameter Vs AUC plot\")\n",
    "plt.grid()\n",
    "plt.show()\n",
    "\n",
    "results.head()"
   ]
  },
  {
   "cell_type": "code",
   "execution_count": 73,
   "metadata": {},
   "outputs": [],
   "source": [
    "best_alpha = .1"
   ]
  },
  {
   "cell_type": "code",
   "execution_count": 74,
   "metadata": {},
   "outputs": [
    {
     "data": {
      "image/png": "[encoded data removed]",
      "text/plain": [
       "<Figure size 432x288 with 1 Axes>"
      ]
     },
     "metadata": {
      "needs_background": "light"
     },
     "output_type": "display_data"
    }
   ],
   "source": [
    "# https://scikit-learn.org/stable/modules/generated/sklearn.metrics.roc_curve.html#sklearn.metrics.roc_curve\n",
    "from sklearn.metrics import roc_curve, auc\n",
    "\n",
    "\n",
    "mnb = MultinomialNB(alpha=best_alpha, class_prior=[.5,.5])\n",
    "mnb.fit(X_tr, y_train)\n",
    "# roc_auc_score(y_true, y_score) the 2nd parameter should be probability estimates of the positive class\n",
    "# not the predicted outputs\n",
    "\n",
    "y_train_pred = mnb.predict_proba(X_tr)[:,1]    \n",
    "y_test_pred = mnb.predict_proba(X_te)[:,1]\n",
    "\n",
    "train_fpr, train_tpr, tr_thresholds = roc_curve(y_train, y_train_pred)\n",
    "test_fpr, test_tpr, te_thresholds = roc_curve(y_test, y_test_pred)\n",
    "\n",
    "plt.plot(train_fpr, train_tpr, label=\"train AUC =\"+str(auc(train_fpr, train_tpr)))\n",
    "plt.plot(test_fpr, test_tpr, label=\"train AUC =\"+str(auc(test_fpr, test_tpr)))\n",
    "plt.legend()\n",
    "plt.xlabel(\"False Positive Rate\")\n",
    "plt.ylabel(\"True Positive Rate\")\n",
    "plt.title(\"ROC-AUC Curve\")\n",
    "plt.grid()\n",
    "plt.show()"
   ]
  },
  {
   "cell_type": "code",
   "execution_count": 75,
   "metadata": {},
   "outputs": [],
   "source": [
    "# we are writing our own function to predict, with defined threshold\n",
    "# we will pick a threshold that will give the least fpr\n",
    "def find_best_threshold(threshold, fpr, tpr):\n",
    "    t = threshold[np.argmax(tpr*(1-fpr))]\n",
    "    # (tpr*(1-fpr)) will be maximum if your fpr is very low and tpr is very high\n",
    "    print(\"the maximum value of tpr*(1-fpr)\", max(tpr*(1-fpr)), \"for threshold\", np.round(t,3))\n",
    "    return t\n",
    "\n",
    "def predict_with_best_t(proba, threshold):\n",
    "    predictions = []\n",
    "    for i in proba:\n",
    "        if i>=threshold:\n",
    "            predictions.append(1)\n",
    "        else:\n",
    "            predictions.append(0)\n",
    "    return predictions"
   ]
  },
  {
   "cell_type": "code",
   "execution_count": 76,
   "metadata": {},
   "outputs": [
    {
     "name": "stdout",
     "output_type": "stream",
     "text": [
      "====================================================================================================\n",
      "the maximum value of tpr*(1-fpr) 0.9126984126984128 for threshold 0.351\n",
      "Train confusion matrix\n",
      "[[108   4]\n",
      " [ 39 690]]\n",
      "Test confusion matrix\n",
      "[[ 30   8]\n",
      " [ 26 217]]\n"
     ]
    }
   ],
   "source": [
    "print(\"=\"*100)\n",
    "from sklearn.metrics import confusion_matrix\n",
    "best_t = find_best_threshold(tr_thresholds, train_fpr, train_tpr)\n",
    "print(\"Train confusion matrix\")\n",
    "print(confusion_matrix(y_train, predict_with_best_t(y_train_pred, best_t)))\n",
    "print(\"Test confusion matrix\")\n",
    "print(confusion_matrix(y_test, predict_with_best_t(y_test_pred, best_t)))"
   ]
  },
  {
   "cell_type": "code",
   "execution_count": 77,
   "metadata": {},
   "outputs": [],
   "source": [
    "cm_train=confusion_matrix(y_train, predict_with_best_t(y_train_pred, best_t))\n",
    "cm_test=confusion_matrix(y_test, predict_with_best_t(y_test_pred, best_t))"
   ]
  },
  {
   "cell_type": "code",
   "execution_count": 78,
   "metadata": {},
   "outputs": [
    {
     "data": {
      "text/plain": [
       "Text(33.0, 0.5, 'Actual')"
      ]
     },
     "execution_count": 78,
     "metadata": {},
     "output_type": "execute_result"
    },
    {
     "data": {
      "image/png": "[encoded data removed]",
      "text/plain": [
       "<Figure size 432x288 with 2 Axes>"
      ]
     },
     "metadata": {
      "needs_background": "light"
     },
     "output_type": "display_data"
    }
   ],
   "source": [
    "# Train Confusion Matrix\n",
    "sns.heatmap(cm_train, annot=True,fmt=\"d\",cmap='Blues')\n",
    "plt.xlabel('Predicted')\n",
    "plt.ylabel('Actual')"
   ]
  },
  {
   "cell_type": "code",
   "execution_count": 79,
   "metadata": {},
   "outputs": [
    {
     "data": {
      "text/plain": [
       "Text(33.0, 0.5, 'Actual')"
      ]
     },
     "execution_count": 79,
     "metadata": {},
     "output_type": "execute_result"
    },
    {
     "data": {
      "image/png": "[encoded data removed]",
      "text/plain": [
       "<Figure size 432x288 with 2 Axes>"
      ]
     },
     "metadata": {
      "needs_background": "light"
     },
     "output_type": "display_data"
    }
   ],
   "source": [
    "# Test Confusion Matrix\n",
    "sns.heatmap(cm_test, annot=True,fmt=\"d\",cmap='Blues')\n",
    "plt.xlabel('Predicted')\n",
    "plt.ylabel('Actual')"
   ]
  },
  {
   "cell_type": "code",
   "execution_count": 80,
   "metadata": {},
   "outputs": [],
   "source": [
    "neg_class_prob_sorted = (mnb.feature_log_prob_[0, :]).argsort()\n",
    "pos_class_prob_sorted = (mnb.feature_log_prob_[1, :]).argsort()"
   ]
  },
  {
   "cell_type": "code",
   "execution_count": 81,
   "metadata": {},
   "outputs": [],
   "source": [
    "features=vectorizer_tfidf.get_feature_names()+vectorizer_tfidf_rh.get_feature_names()+vectorizer_r.get_feature_names()+vectorizer_d.get_feature_names()+vectorizer_c.get_feature_names()+vectorizer_de.get_feature_names()+vectorizer_b.get_feature_names()+vectorizer_pn.get_feature_names()+['Final_Price_after_Discount']"
   ]
  },
  {
   "cell_type": "code",
   "execution_count": 82,
   "metadata": {},
   "outputs": [],
   "source": [
    "neg_class_features = np.take(features, neg_class_prob_sorted[:20])\n",
    "pos_class_features = np.take(features, pos_class_prob_sorted[:20])"
   ]
  },
  {
   "cell_type": "code",
   "execution_count": 83,
   "metadata": {},
   "outputs": [
    {
     "name": "stdout",
     "output_type": "stream",
     "text": [
      "The top 20 features from the positive class are :\n",
      "\n",
      "['love' 'fact'\n",
      " 'harbor_breeze_bayou_creek_56_bronze_indoor_ceiling_fan_light_kit_remote_5_blade'\n",
      " 'harbor_breeze_barnstaple_bay_52_white_indoor_ceiling_fan_light_kit_5_blade'\n",
      " 'far' 'feature' 'perfect' 'stars' 'finish' 'fits' 'flow' 'flush'\n",
      " 'perfectly' 'four'\n",
      " 'harbor_breeze_barnstaple_bay_52_brushed_nickel_indoor_ceiling_fan_light_kit_5_blade'\n",
      " 'spare' 'functions' 'furniture' 'garage' 'pretty']\n",
      "\n",
      "The top 20 features from the negative class are :\n",
      "\n",
      "['ceiling_fans' 'ceiling_fans_' 'hampton_bay' 'ceiling_fans_with_lights'\n",
      " 'horrible' 'poor' 'horrible' 'hum' 'ceiling_fans_without_lights'\n",
      " '_accessories' 'ceiling_fans' 'brand_not_mentioned'\n",
      " 'fanimation_studio_collection' 'told' 'full' 'limited' 'canopy' 'kind'\n",
      " 'dont' 'manual']\n"
     ]
    }
   ],
   "source": [
    "print(\"The top 20 features from the positive class are :\\n\")\n",
    "print(neg_class_features)\n",
    "    \n",
    "print(\"\\nThe top 20 features from the negative class are :\\n\")\n",
    "print(pos_class_features)"
   ]
  },
  {
   "cell_type": "code",
   "execution_count": 85,
   "metadata": {},
   "outputs": [
    {
     "name": "stdout",
     "output_type": "stream",
     "text": [
      "+--------------+-------------+-------+-----------+----------+\n",
      "|  Vectorizer  |    Model    | Alpha | Train-AUC | Test-AUC |\n",
      "+--------------+-------------+-------+-----------+----------+\n",
      "| Bag of Words | Naive Bayes |  0.5  |   0.982   |  0.935   |\n",
      "|    TFIDF     | Naive Bayes |  0.1  |   0.989   |  0.939   |\n",
      "+--------------+-------------+-------+-----------+----------+\n"
     ]
    }
   ],
   "source": [
    "# Summarizing the Data\n",
    "from prettytable import PrettyTable\n",
    "x = PrettyTable()\n",
    "x.field_names = [\"Vectorizer\", \"Model\", \"Alpha\",\"Train-AUC\", \"Test-AUC\"]\n",
    "x.add_row([\"Bag of Words\", \"Naive Bayes\", .5, .982, .935])\n",
    "x.add_row([\"TFIDF\", \"Naive Bayes\", .1, .989, .939])\n",
    "print(x)"
   ]
  }
 ],
 "metadata": {
  "kernelspec": {
   "display_name": "Python 3",
   "language": "python",
   "name": "python3"
  },
  "language_info": {
   "codemirror_mode": {
    "name": "ipython",
    "version": 3
   },
   "file_extension": ".py",
   "mimetype": "text/x-python",
   "name": "python",
   "nbconvert_exporter": "python",
   "pygments_lexer": "ipython3",
   "version": "3.8.3"
  }
 },
 "nbformat": 4,
 "nbformat_minor": 4
}
